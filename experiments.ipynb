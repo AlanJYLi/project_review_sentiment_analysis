{
 "cells": [
  {
   "cell_type": "markdown",
   "metadata": {
    "colab": {},
    "colab_type": "code",
    "id": "KyTYRP3y0HFE"
   },
   "source": [
    "# 1. Data Preprocessing"
   ]
  },
  {
   "cell_type": "code",
   "execution_count": 1,
   "metadata": {},
   "outputs": [
    {
     "name": "stderr",
     "output_type": "stream",
     "text": [
      "[nltk_data] Downloading package stopwords to\n",
      "[nltk_data]     C:\\Users\\alanl\\AppData\\Roaming\\nltk_data...\n",
      "[nltk_data]   Package stopwords is already up-to-date!\n"
     ]
    }
   ],
   "source": [
    "import pandas as pd\n",
    "import numpy as np\n",
    "import scipy as sp\n",
    "import re\n",
    "import nltk\n",
    "from bs4 import BeautifulSoup\n",
    "from nltk.corpus import stopwords\n",
    "import nltk\n",
    "import nltk.data\n",
    "nltk.download('stopwords')\n",
    "from copy import deepcopy\n",
    "from gensim import models\n",
    "from gensim.models import word2vec, KeyedVectors\n",
    "import statistics"
   ]
  },
  {
   "cell_type": "code",
   "execution_count": 2,
   "metadata": {},
   "outputs": [],
   "source": [
    "alldata = pd.read_csv(\"steam_reviews_kaggle.csv\")\n",
    "SentimentData=['review','recommendation']\n",
    "data=alldata[SentimentData]\n",
    "data=data.dropna(subset=['review'])"
   ]
  },
  {
   "cell_type": "code",
   "execution_count": 3,
   "metadata": {},
   "outputs": [],
   "source": [
    "tokenizer = nltk.data.load('tokenizers/punkt/english.pickle')\n",
    "\n",
    "def clean_review(review, remove_stopwords = False):\n",
    "\n",
    "    review_text = BeautifulSoup(review,\"lxml\").get_text()\n",
    "    review_text = re.sub(\"[^a-zA-Z]\",\" \", review_text)\n",
    "    cleaned_review = review_text.lower().split()\n",
    "    if remove_stopwords:\n",
    "        stops = set(stopwords.words(\"english\"))\n",
    "        cleaned_review = [w for w in cleaned_review if not w in stops]\n",
    "    \n",
    "    return cleaned_review\n",
    "\n",
    "\n",
    "def review_to_sentences( review: str, tokenizer: nltk.tokenize.punkt.PunktSentenceTokenizer ):\n",
    "\n",
    "    remove_stopwords=False\n",
    "    raw_sentences = tokenizer.tokenize(review.strip())\n",
    "\n",
    "    review_sentences = []\n",
    "    for raw_sentence in raw_sentences:\n",
    "        if len(raw_sentence) > 0:\n",
    "            review_sentences.append( clean_review( raw_sentence,remove_stopwords ))\n",
    "            # L=len(raw_sentence)\n",
    "    \n",
    "    return review_sentences,len(raw_sentences)\n"
   ]
  },
  {
   "cell_type": "code",
   "execution_count": 4,
   "metadata": {},
   "outputs": [
    {
     "name": "stderr",
     "output_type": "stream",
     "text": [
      "C:\\Users\\alanl\\Anaconda3\\lib\\site-packages\\bs4\\__init__.py:272: UserWarning: \"b'.'\" looks like a filename, not markup. You should probably open this file and pass the filehandle into Beautiful Soup.\n",
      "  ' Beautiful Soup.' % markup)\n",
      "C:\\Users\\alanl\\Anaconda3\\lib\\site-packages\\bs4\\__init__.py:272: UserWarning: \"b'........................... .'\" looks like a filename, not markup. You should probably open this file and pass the filehandle into Beautiful Soup.\n",
      "  ' Beautiful Soup.' % markup)\n",
      "C:\\Users\\alanl\\Anaconda3\\lib\\site-packages\\bs4\\__init__.py:272: UserWarning: \"b'/ ...........'\" looks like a filename, not markup. You should probably open this file and pass the filehandle into Beautiful Soup.\n",
      "  ' Beautiful Soup.' % markup)\n",
      "C:\\Users\\alanl\\Anaconda3\\lib\\site-packages\\bs4\\__init__.py:272: UserWarning: \"b'......'\" looks like a filename, not markup. You should probably open this file and pass the filehandle into Beautiful Soup.\n",
      "  ' Beautiful Soup.' % markup)\n",
      "C:\\Users\\alanl\\Anaconda3\\lib\\site-packages\\bs4\\__init__.py:272: UserWarning: \"b'...'\" looks like a filename, not markup. You should probably open this file and pass the filehandle into Beautiful Soup.\n",
      "  ' Beautiful Soup.' % markup)\n",
      "C:\\Users\\alanl\\Anaconda3\\lib\\site-packages\\bs4\\__init__.py:272: UserWarning: \"b'..'\" looks like a filename, not markup. You should probably open this file and pass the filehandle into Beautiful Soup.\n",
      "  ' Beautiful Soup.' % markup)\n",
      "C:\\Users\\alanl\\Anaconda3\\lib\\site-packages\\bs4\\__init__.py:272: UserWarning: \"b'.........'\" looks like a filename, not markup. You should probably open this file and pass the filehandle into Beautiful Soup.\n",
      "  ' Beautiful Soup.' % markup)\n",
      "C:\\Users\\alanl\\Anaconda3\\lib\\site-packages\\bs4\\__init__.py:272: UserWarning: \"b'.. .'\" looks like a filename, not markup. You should probably open this file and pass the filehandle into Beautiful Soup.\n",
      "  ' Beautiful Soup.' % markup)\n",
      "C:\\Users\\alanl\\Anaconda3\\lib\\site-packages\\bs4\\__init__.py:272: UserWarning: \"b'.. .. .. .. .. .'\" looks like a filename, not markup. You should probably open this file and pass the filehandle into Beautiful Soup.\n",
      "  ' Beautiful Soup.' % markup)\n",
      "C:\\Users\\alanl\\Anaconda3\\lib\\site-packages\\bs4\\__init__.py:272: UserWarning: \"b'.....'\" looks like a filename, not markup. You should probably open this file and pass the filehandle into Beautiful Soup.\n",
      "  ' Beautiful Soup.' % markup)\n",
      "C:\\Users\\alanl\\Anaconda3\\lib\\site-packages\\bs4\\__init__.py:272: UserWarning: \"b'.... .... ... .'\" looks like a filename, not markup. You should probably open this file and pass the filehandle into Beautiful Soup.\n",
      "  ' Beautiful Soup.' % markup)\n",
      "C:\\Users\\alanl\\Anaconda3\\lib\\site-packages\\bs4\\__init__.py:272: UserWarning: \"b'..........'\" looks like a filename, not markup. You should probably open this file and pass the filehandle into Beautiful Soup.\n",
      "  ' Beautiful Soup.' % markup)\n",
      "C:\\Users\\alanl\\Anaconda3\\lib\\site-packages\\bs4\\__init__.py:272: UserWarning: \"b'/'\" looks like a filename, not markup. You should probably open this file and pass the filehandle into Beautiful Soup.\n",
      "  ' Beautiful Soup.' % markup)\n",
      "C:\\Users\\alanl\\Anaconda3\\lib\\site-packages\\bs4\\__init__.py:272: UserWarning: \"b'... ...'\" looks like a filename, not markup. You should probably open this file and pass the filehandle into Beautiful Soup.\n",
      "  ' Beautiful Soup.' % markup)\n",
      "C:\\Users\\alanl\\Anaconda3\\lib\\site-packages\\bs4\\__init__.py:272: UserWarning: \"b'....'\" looks like a filename, not markup. You should probably open this file and pass the filehandle into Beautiful Soup.\n",
      "  ' Beautiful Soup.' % markup)\n",
      "C:\\Users\\alanl\\Anaconda3\\lib\\site-packages\\bs4\\__init__.py:272: UserWarning: \"b'.......'\" looks like a filename, not markup. You should probably open this file and pass the filehandle into Beautiful Soup.\n",
      "  ' Beautiful Soup.' % markup)\n",
      "C:\\Users\\alanl\\Anaconda3\\lib\\site-packages\\bs4\\__init__.py:272: UserWarning: \"b'................'\" looks like a filename, not markup. You should probably open this file and pass the filehandle into Beautiful Soup.\n",
      "  ' Beautiful Soup.' % markup)\n"
     ]
    },
    {
     "name": "stdout",
     "output_type": "stream",
     "text": [
      "50000\n"
     ]
    },
    {
     "name": "stderr",
     "output_type": "stream",
     "text": [
      "C:\\Users\\alanl\\Anaconda3\\lib\\site-packages\\bs4\\__init__.py:272: UserWarning: \"b'..............'\" looks like a filename, not markup. You should probably open this file and pass the filehandle into Beautiful Soup.\n",
      "  ' Beautiful Soup.' % markup)\n",
      "C:\\Users\\alanl\\Anaconda3\\lib\\site-packages\\bs4\\__init__.py:272: UserWarning: \"b'../ .'\" looks like a filename, not markup. You should probably open this file and pass the filehandle into Beautiful Soup.\n",
      "  ' Beautiful Soup.' % markup)\n",
      "C:\\Users\\alanl\\Anaconda3\\lib\\site-packages\\bs4\\__init__.py:272: UserWarning: \"b'./ .'\" looks like a filename, not markup. You should probably open this file and pass the filehandle into Beautiful Soup.\n",
      "  ' Beautiful Soup.' % markup)\n",
      "C:\\Users\\alanl\\Anaconda3\\lib\\site-packages\\bs4\\__init__.py:272: UserWarning: \"b'/ .'\" looks like a filename, not markup. You should probably open this file and pass the filehandle into Beautiful Soup.\n",
      "  ' Beautiful Soup.' % markup)\n",
      "C:\\Users\\alanl\\Anaconda3\\lib\\site-packages\\bs4\\__init__.py:272: UserWarning: \"b'......................................................'\" looks like a filename, not markup. You should probably open this file and pass the filehandle into Beautiful Soup.\n",
      "  ' Beautiful Soup.' % markup)\n",
      "C:\\Users\\alanl\\Anaconda3\\lib\\site-packages\\bs4\\__init__.py:272: UserWarning: \"b'/ ./.'\" looks like a filename, not markup. You should probably open this file and pass the filehandle into Beautiful Soup.\n",
      "  ' Beautiful Soup.' % markup)\n",
      "C:\\Users\\alanl\\Anaconda3\\lib\\site-packages\\bs4\\__init__.py:272: UserWarning: \"b'/.'\" looks like a filename, not markup. You should probably open this file and pass the filehandle into Beautiful Soup.\n",
      "  ' Beautiful Soup.' % markup)\n",
      "C:\\Users\\alanl\\Anaconda3\\lib\\site-packages\\bs4\\__init__.py:272: UserWarning: \"b'./.'\" looks like a filename, not markup. You should probably open this file and pass the filehandle into Beautiful Soup.\n",
      "  ' Beautiful Soup.' % markup)\n",
      "C:\\Users\\alanl\\Anaconda3\\lib\\site-packages\\bs4\\__init__.py:272: UserWarning: \"b'...................... .'\" looks like a filename, not markup. You should probably open this file and pass the filehandle into Beautiful Soup.\n",
      "  ' Beautiful Soup.' % markup)\n",
      "C:\\Users\\alanl\\Anaconda3\\lib\\site-packages\\bs4\\__init__.py:272: UserWarning: \"b'./...................... .'\" looks like a filename, not markup. You should probably open this file and pass the filehandle into Beautiful Soup.\n",
      "  ' Beautiful Soup.' % markup)\n"
     ]
    },
    {
     "name": "stdout",
     "output_type": "stream",
     "text": [
      "100000\n"
     ]
    },
    {
     "name": "stderr",
     "output_type": "stream",
     "text": [
      "C:\\Users\\alanl\\Anaconda3\\lib\\site-packages\\bs4\\__init__.py:272: UserWarning: \"b'..............................'\" looks like a filename, not markup. You should probably open this file and pass the filehandle into Beautiful Soup.\n",
      "  ' Beautiful Soup.' % markup)\n",
      "C:\\Users\\alanl\\Anaconda3\\lib\\site-packages\\bs4\\__init__.py:272: UserWarning: \"b'... .'\" looks like a filename, not markup. You should probably open this file and pass the filehandle into Beautiful Soup.\n",
      "  ' Beautiful Soup.' % markup)\n"
     ]
    },
    {
     "name": "stdout",
     "output_type": "stream",
     "text": [
      "150000\n"
     ]
    },
    {
     "name": "stderr",
     "output_type": "stream",
     "text": [
      "C:\\Users\\alanl\\Anaconda3\\lib\\site-packages\\bs4\\__init__.py:272: UserWarning: \"b'...................'\" looks like a filename, not markup. You should probably open this file and pass the filehandle into Beautiful Soup.\n",
      "  ' Beautiful Soup.' % markup)\n",
      "C:\\Users\\alanl\\Anaconda3\\lib\\site-packages\\bs4\\__init__.py:272: UserWarning: \"b'.. ............. /../ ..... .........'\" looks like a filename, not markup. You should probably open this file and pass the filehandle into Beautiful Soup.\n",
      "  ' Beautiful Soup.' % markup)\n"
     ]
    },
    {
     "name": "stdout",
     "output_type": "stream",
     "text": [
      "200000\n"
     ]
    },
    {
     "name": "stderr",
     "output_type": "stream",
     "text": [
      "C:\\Users\\alanl\\Anaconda3\\lib\\site-packages\\bs4\\__init__.py:272: UserWarning: \"b'........'\" looks like a filename, not markup. You should probably open this file and pass the filehandle into Beautiful Soup.\n",
      "  ' Beautiful Soup.' % markup)\n",
      "C:\\Users\\alanl\\Anaconda3\\lib\\site-packages\\bs4\\__init__.py:272: UserWarning: \"b'............................................'\" looks like a filename, not markup. You should probably open this file and pass the filehandle into Beautiful Soup.\n",
      "  ' Beautiful Soup.' % markup)\n",
      "C:\\Users\\alanl\\Anaconda3\\lib\\site-packages\\bs4\\__init__.py:272: UserWarning: \"b'.. .... .. .'\" looks like a filename, not markup. You should probably open this file and pass the filehandle into Beautiful Soup.\n",
      "  ' Beautiful Soup.' % markup)\n",
      "C:\\Users\\alanl\\Anaconda3\\lib\\site-packages\\bs4\\__init__.py:272: UserWarning: \"b'.......................................................'\" looks like a filename, not markup. You should probably open this file and pass the filehandle into Beautiful Soup.\n",
      "  ' Beautiful Soup.' % markup)\n",
      "C:\\Users\\alanl\\Anaconda3\\lib\\site-packages\\bs4\\__init__.py:272: UserWarning: \"b'.. .. .. .. .. .. .'\" looks like a filename, not markup. You should probably open this file and pass the filehandle into Beautiful Soup.\n",
      "  ' Beautiful Soup.' % markup)\n",
      "C:\\Users\\alanl\\Anaconda3\\lib\\site-packages\\bs4\\__init__.py:272: UserWarning: \"b'.. .. .. .'\" looks like a filename, not markup. You should probably open this file and pass the filehandle into Beautiful Soup.\n",
      "  ' Beautiful Soup.' % markup)\n",
      "C:\\Users\\alanl\\Anaconda3\\lib\\site-packages\\bs4\\__init__.py:272: UserWarning: \"b'................................................'\" looks like a filename, not markup. You should probably open this file and pass the filehandle into Beautiful Soup.\n",
      "  ' Beautiful Soup.' % markup)\n"
     ]
    },
    {
     "name": "stdout",
     "output_type": "stream",
     "text": [
      "250000\n"
     ]
    },
    {
     "name": "stderr",
     "output_type": "stream",
     "text": [
      "C:\\Users\\alanl\\Anaconda3\\lib\\site-packages\\bs4\\__init__.py:272: UserWarning: \"b'/ .. .'\" looks like a filename, not markup. You should probably open this file and pass the filehandle into Beautiful Soup.\n",
      "  ' Beautiful Soup.' % markup)\n",
      "C:\\Users\\alanl\\Anaconda3\\lib\\site-packages\\bs4\\__init__.py:272: UserWarning: \"b'.... .'\" looks like a filename, not markup. You should probably open this file and pass the filehandle into Beautiful Soup.\n",
      "  ' Beautiful Soup.' % markup)\n",
      "C:\\Users\\alanl\\Anaconda3\\lib\\site-packages\\bs4\\__init__.py:272: UserWarning: \"b'/ .... .. .'\" looks like a filename, not markup. You should probably open this file and pass the filehandle into Beautiful Soup.\n",
      "  ' Beautiful Soup.' % markup)\n",
      "C:\\Users\\alanl\\Anaconda3\\lib\\site-packages\\bs4\\__init__.py:272: UserWarning: \"b'./ ...................... .'\" looks like a filename, not markup. You should probably open this file and pass the filehandle into Beautiful Soup.\n",
      "  ' Beautiful Soup.' % markup)\n",
      "C:\\Users\\alanl\\Anaconda3\\lib\\site-packages\\bs4\\__init__.py:272: UserWarning: \"b'............................... .'\" looks like a filename, not markup. You should probably open this file and pass the filehandle into Beautiful Soup.\n",
      "  ' Beautiful Soup.' % markup)\n",
      "C:\\Users\\alanl\\Anaconda3\\lib\\site-packages\\bs4\\__init__.py:272: UserWarning: \"b'...............................'\" looks like a filename, not markup. You should probably open this file and pass the filehandle into Beautiful Soup.\n",
      "  ' Beautiful Soup.' % markup)\n",
      "C:\\Users\\alanl\\Anaconda3\\lib\\site-packages\\bs4\\__init__.py:272: UserWarning: \"b'............................................................'\" looks like a filename, not markup. You should probably open this file and pass the filehandle into Beautiful Soup.\n",
      "  ' Beautiful Soup.' % markup)\n",
      "C:\\Users\\alanl\\Anaconda3\\lib\\site-packages\\bs4\\__init__.py:272: UserWarning: \"b'............'\" looks like a filename, not markup. You should probably open this file and pass the filehandle into Beautiful Soup.\n",
      "  ' Beautiful Soup.' % markup)\n",
      "C:\\Users\\alanl\\Anaconda3\\lib\\site-packages\\bs4\\__init__.py:272: UserWarning: \"b'.. ..'\" looks like a filename, not markup. You should probably open this file and pass the filehandle into Beautiful Soup.\n",
      "  ' Beautiful Soup.' % markup)\n",
      "C:\\Users\\alanl\\Anaconda3\\lib\\site-packages\\bs4\\__init__.py:272: UserWarning: \"b'.............. .'\" looks like a filename, not markup. You should probably open this file and pass the filehandle into Beautiful Soup.\n",
      "  ' Beautiful Soup.' % markup)\n",
      "C:\\Users\\alanl\\Anaconda3\\lib\\site-packages\\bs4\\__init__.py:272: UserWarning: \"b'/ ... ... .'\" looks like a filename, not markup. You should probably open this file and pass the filehandle into Beautiful Soup.\n",
      "  ' Beautiful Soup.' % markup)\n",
      "C:\\Users\\alanl\\Anaconda3\\lib\\site-packages\\bs4\\__init__.py:272: UserWarning: \"b'.........................'\" looks like a filename, not markup. You should probably open this file and pass the filehandle into Beautiful Soup.\n",
      "  ' Beautiful Soup.' % markup)\n",
      "C:\\Users\\alanl\\Anaconda3\\lib\\site-packages\\bs4\\__init__.py:272: UserWarning: \"b'..................'\" looks like a filename, not markup. You should probably open this file and pass the filehandle into Beautiful Soup.\n",
      "  ' Beautiful Soup.' % markup)\n"
     ]
    },
    {
     "name": "stdout",
     "output_type": "stream",
     "text": [
      "300000\n"
     ]
    },
    {
     "name": "stderr",
     "output_type": "stream",
     "text": [
      "C:\\Users\\alanl\\Anaconda3\\lib\\site-packages\\bs4\\__init__.py:272: UserWarning: \"b'.................'\" looks like a filename, not markup. You should probably open this file and pass the filehandle into Beautiful Soup.\n",
      "  ' Beautiful Soup.' % markup)\n",
      "C:\\Users\\alanl\\Anaconda3\\lib\\site-packages\\bs4\\__init__.py:272: UserWarning: \"b'............ .................... .'\" looks like a filename, not markup. You should probably open this file and pass the filehandle into Beautiful Soup.\n",
      "  ' Beautiful Soup.' % markup)\n",
      "C:\\Users\\alanl\\Anaconda3\\lib\\site-packages\\bs4\\__init__.py:272: UserWarning: \"b'............................. .'\" looks like a filename, not markup. You should probably open this file and pass the filehandle into Beautiful Soup.\n",
      "  ' Beautiful Soup.' % markup)\n",
      "C:\\Users\\alanl\\Anaconda3\\lib\\site-packages\\bs4\\__init__.py:272: UserWarning: \"b'.............................'\" looks like a filename, not markup. You should probably open this file and pass the filehandle into Beautiful Soup.\n",
      "  ' Beautiful Soup.' % markup)\n",
      "C:\\Users\\alanl\\Anaconda3\\lib\\site-packages\\bs4\\__init__.py:272: UserWarning: \"b'......................'\" looks like a filename, not markup. You should probably open this file and pass the filehandle into Beautiful Soup.\n",
      "  ' Beautiful Soup.' % markup)\n",
      "C:\\Users\\alanl\\Anaconda3\\lib\\site-packages\\bs4\\__init__.py:272: UserWarning: \"b'WOWOWOWOWOWOWOOWOWOWO ././././.././././.././.'\" looks like a filename, not markup. You should probably open this file and pass the filehandle into Beautiful Soup.\n",
      "  ' Beautiful Soup.' % markup)\n"
     ]
    },
    {
     "name": "stdout",
     "output_type": "stream",
     "text": [
      "350000\n"
     ]
    },
    {
     "name": "stderr",
     "output_type": "stream",
     "text": [
      "C:\\Users\\alanl\\Anaconda3\\lib\\site-packages\\bs4\\__init__.py:272: UserWarning: \"b'.. /.'\" looks like a filename, not markup. You should probably open this file and pass the filehandle into Beautiful Soup.\n",
      "  ' Beautiful Soup.' % markup)\n",
      "C:\\Users\\alanl\\Anaconda3\\lib\\site-packages\\bs4\\__init__.py:272: UserWarning: \"b'...... .'\" looks like a filename, not markup. You should probably open this file and pass the filehandle into Beautiful Soup.\n",
      "  ' Beautiful Soup.' % markup)\n",
      "C:\\Users\\alanl\\Anaconda3\\lib\\site-packages\\bs4\\__init__.py:272: UserWarning: \"b'....... .'\" looks like a filename, not markup. You should probably open this file and pass the filehandle into Beautiful Soup.\n",
      "  ' Beautiful Soup.' % markup)\n",
      "C:\\Users\\alanl\\Anaconda3\\lib\\site-packages\\bs4\\__init__.py:272: UserWarning: \"b'................................................................'\" looks like a filename, not markup. You should probably open this file and pass the filehandle into Beautiful Soup.\n",
      "  ' Beautiful Soup.' % markup)\n",
      "C:\\Users\\alanl\\Anaconda3\\lib\\site-packages\\bs4\\__init__.py:272: UserWarning: \"b'.. ./.'\" looks like a filename, not markup. You should probably open this file and pass the filehandle into Beautiful Soup.\n",
      "  ' Beautiful Soup.' % markup)\n",
      "C:\\Users\\alanl\\Anaconda3\\lib\\site-packages\\bs4\\__init__.py:272: UserWarning: \"b'.. ../.'\" looks like a filename, not markup. You should probably open this file and pass the filehandle into Beautiful Soup.\n",
      "  ' Beautiful Soup.' % markup)\n",
      "C:\\Users\\alanl\\Anaconda3\\lib\\site-packages\\bs4\\__init__.py:272: UserWarning: \"b'../.'\" looks like a filename, not markup. You should probably open this file and pass the filehandle into Beautiful Soup.\n",
      "  ' Beautiful Soup.' % markup)\n",
      "C:\\Users\\alanl\\Anaconda3\\lib\\site-packages\\bs4\\__init__.py:272: UserWarning: \"b'.. .. .'\" looks like a filename, not markup. You should probably open this file and pass the filehandle into Beautiful Soup.\n",
      "  ' Beautiful Soup.' % markup)\n",
      "C:\\Users\\alanl\\Anaconda3\\lib\\site-packages\\bs4\\__init__.py:272: UserWarning: \"b'.............................................'\" looks like a filename, not markup. You should probably open this file and pass the filehandle into Beautiful Soup.\n",
      "  ' Beautiful Soup.' % markup)\n",
      "C:\\Users\\alanl\\Anaconda3\\lib\\site-packages\\bs4\\__init__.py:272: UserWarning: \"b'... ... .. ............. ... ...... ...... .. ... .. ...... ...... ... ...... ........'\" looks like a filename, not markup. You should probably open this file and pass the filehandle into Beautiful Soup.\n",
      "  ' Beautiful Soup.' % markup)\n"
     ]
    },
    {
     "name": "stdout",
     "output_type": "stream",
     "text": [
      "400000\n"
     ]
    },
    {
     "name": "stderr",
     "output_type": "stream",
     "text": [
      "C:\\Users\\alanl\\Anaconda3\\lib\\site-packages\\bs4\\__init__.py:272: UserWarning: \"b'..........................................'\" looks like a filename, not markup. You should probably open this file and pass the filehandle into Beautiful Soup.\n",
      "  ' Beautiful Soup.' % markup)\n",
      "C:\\Users\\alanl\\Anaconda3\\lib\\site-packages\\bs4\\__init__.py:272: UserWarning: \"b'........................'\" looks like a filename, not markup. You should probably open this file and pass the filehandle into Beautiful Soup.\n",
      "  ' Beautiful Soup.' % markup)\n",
      "C:\\Users\\alanl\\Anaconda3\\lib\\site-packages\\bs4\\__init__.py:272: UserWarning: \"b'..... .'\" looks like a filename, not markup. You should probably open this file and pass the filehandle into Beautiful Soup.\n",
      "  ' Beautiful Soup.' % markup)\n"
     ]
    }
   ],
   "source": [
    "data.recommendation[data.recommendation=='Recommended']=1\n",
    "data.recommendation[data.recommendation=='Not Recommended']=0\n",
    "\n",
    "sentences = []  # Initialize an empty list of sentences\n",
    "sentencesCnt = [] \n",
    "# print(\"Parsing sentences from training set\")\n",
    "cnt=1\n",
    "for review in data['review']:\n",
    "    if pd.isna(review)==False:\n",
    "        Sent,Scnt=review_to_sentences(review, tokenizer)\n",
    "        sentences+=Sent\n",
    "        sentencesCnt.append(Scnt)\n",
    "    \n",
    "    cnt+=1\n",
    "    if cnt%50000==0:\n",
    "        print(cnt)"
   ]
  },
  {
   "cell_type": "code",
   "execution_count": 5,
   "metadata": {},
   "outputs": [
    {
     "name": "stdout",
     "output_type": "stream",
     "text": [
      "Training model...\n"
     ]
    }
   ],
   "source": [
    "def generate_z1(sentences,num_features,min_word_count,context,num_workers = 4,downsampling = 1e-3, model_name = \"model1_100features_40minwords_5context\"):\n",
    "\n",
    "    print(\"Training model...\")\n",
    "\n",
    "    trained_word2vec_model = word2vec.Word2Vec(sentences, \n",
    "                                               workers=num_workers, \n",
    "                                               size=num_features, \n",
    "                                               min_count = min_word_count, \n",
    "                                               window = context, \n",
    "                                               sample = downsampling) \n",
    "    trained_word2vec_model.init_sims(replace=True) \n",
    "    trained_word2vec_model.save(model_name)\n",
    "\n",
    "    wv=trained_word2vec_model.wv # normalized vector\n",
    "    word_list_z1=trained_word2vec_model.wv.index2word\n",
    "    z1=[]\n",
    "    for i in range(0,len(word_list_z1)):\n",
    "        z1.append(wv[word_list_z1[i]])\n",
    "\n",
    "    z1=np.array(z1,dtype='float32')\n",
    "\n",
    "    return trained_word2vec_model, z1, word_list_z1\n",
    "\n",
    "num_features = 100    # 100, Word vector dimensionality                      \n",
    "min_word_count = 40       # Minimum word count                        \n",
    "context = 5            # Context window size                                                                                    \n",
    "\n",
    "model1, z1, word_list_z1 = generate_z1(sentences,num_features,min_word_count,context)"
   ]
  },
  {
   "cell_type": "code",
   "execution_count": 6,
   "metadata": {},
   "outputs": [],
   "source": [
    "from sklearn.cluster import KMeans\n",
    "\n",
    "CLUSTER_NUM=80\n",
    "\n",
    "def fit_kmeans(z,word_list_z,num_clusters):\n",
    "\n",
    "    kmeans = KMeans(n_clusters=num_clusters, random_state=1000).fit(z)\n",
    "    Labels=kmeans.labels_\n",
    "    word_centroid_map_z={}\n",
    "    for i in range(0,len(word_list_z)):\n",
    "        word_centroid_map_z[word_list_z[i]]=Labels[i]\n",
    "\n",
    "    return word_centroid_map_z\n",
    "\n",
    "\n",
    "word_centroid_map_z1 = fit_kmeans(z1, word_list_z1, CLUSTER_NUM)"
   ]
  },
  {
   "cell_type": "code",
   "execution_count": 7,
   "metadata": {},
   "outputs": [
    {
     "name": "stdout",
     "output_type": "stream",
     "text": [
      "Words of cluster Index 0: \n",
      "['top', 'side', 'based', 'hand', 'market', 'focus', 'sight', 'plan', 'depending', 'edge', 'focused', 'depends', 'planet', 'planning', 'behalf', 'streaming', 'basis', 'fence', 'focusing', 'site']\n",
      "Words of cluster Index 1: \n",
      "['best', 'same', 'worst', 'whole', 'main', 'between', 'current', 'favorite', 'possible', 'biggest', 'third', 'available', 'including', 'rd', 'favourite', 'greatest', 'personal', 'king', 'apart', 'mainly']\n",
      "Words of cluster Index 2: \n",
      "['life', 'friend', 'opinion', 'account', 'name', 'self', 'family', 'library', 'eyes', 'teammate', 'mother', 'dream', 'advice', 'brain', 'buddies', 'taste', 'mom', 'buddy', 'goty', 'soul']\n",
      "Words of cluster Index 3: \n",
      "['fan', 'happy', 'sad', 'honest', 'mad', 'sick', 'enjoying', 'addicted', 'glad', 'tired', 'interested', 'hoping', 'disappointed', 'excited', 'angry', 'loving', 'meant', 'aware', 'expecting', 'recommending']\n",
      "Words of cluster Index 4: \n",
      "['he', 'his', 'naked', 'guy', 'man', 'him', 'black', 'dude', 'mine', 'her', 'she', 'school', 'trevor', 'winner', 'kid', 'white', 'michael', 'gang', 'franklin', 'mate']\n",
      "Words of cluster Index 5: \n",
      "['balls', 'hot', 'star', 'dog', 'baby', 'fat', 'bang', 'peace', 'boys', 'bowling', 'hat', 'horse', 'dogs', 'pew', 'poop', 'drugs', 'vroom', 'cute', 'dirty', 'shirt']\n",
      "Words of cluster Index 6: \n",
      "['human', 'living', 'gamefailed', 'class', 'triple', 'crime', 'pool', 'violence', 'digital', 'fantasy', 'culture', 'former', 'shadow', 'acts', 'madness', 'society', 'equivalent', 'tone', 'rising', 'western']\n",
      "Words of cluster Index 7: \n",
      "['since', 'update', 'access', 'release', 'edit', 'soon', 'patch', 'launch', 'beta', 'recent', 'recently', 'today', 'th', 'forward', 'final', 'patches', 'pre', 'late', 'post', 'date']\n",
      "Words of cluster Index 8: \n",
      "['etc', 'building', 'random', 'simulator', 'amp', 'heists', 'along', 'crazy', 'heist', 'looting', 'hunting', 'raiding', 'gathering', 'bases', 'farming', 'jobs', 'races', 'ceo', 'spawns', 'roam']\n",
      "Words of cluster Index 9: \n",
      "['bad', 'terrible', 'decent', 'broken', 'buggy', 'unplayable', 'laggy', 'poor', 'horrible', 'slow', 'playable', 'awful', 'smooth', 'poorly', 'weird', 'stable', 'meh', 'clunky', 'glitchy', 'badly']\n",
      "Words of cluster Index 10: \n",
      "['banned', 'killed', 'shot', 'dead', 'stuck', 'kills', 'bored', 'raided', 'lucky', 'hooked', 'destroyed', 'kicked', 'disconnected', 'frustrated', 'caught', 'hacked', 'chased', 'scared', 'rekt', 'geared']\n",
      "Words of cluster Index 11: \n",
      "['pros', 'interesting', 'unique', 'realistic', 'balanced', 'similar', 'basic', 'polished', 'designed', 'depth', 'environment', 'tactical', 'deep', 'creative', 'atmosphere', 'detailed', 'immersive', 'engaging', 'complex', 'packed']\n",
      "Words of cluster Index 12: \n",
      "['survival', 'fortnite', 'z', 'royale', 'soccer', 'dayz', 'football', 'style', 'minecraft', 'horror', 'sports', 'br', 'shooter', 'arma', 'royal', 'dark', 'racing', 'cs', 'souls', 'csgo']\n",
      "Words of cluster Index 13: \n",
      "['ban', 'report', 'bans', 'stream', 'apparently', 'reset', 'unknown', 'via', 'sniping', 'accounts', 'disabled', 'vac', 'admin', 'false', 'contact', 'reported', 'permanently', 'ticket', 'bot', 'reporting']\n",
      "Words of cluster Index 14: \n",
      "['controller', 'mouse', 'control', 'keyboard', 'voice', 'windows', 'camera', 'input', 'default', 'menus', 'disable', 'motion', 'function', 'ads', 'fov', 'blur', 'plug', 'buttons', 'wheel', 'controllers']\n",
      "Words of cluster Index 15: \n",
      "['car', 'house', 'ball', 'driving', 'drive', 'wall', 'flying', 'walls', 'ground', 'door', 'circle', 'plane', 'land', 'zone', 'air', 'fly', 'field', 'bear', 'walk', 'jumping']\n",
      "Words of cluster Index 16: \n",
      "['way', 'reason', 'idea', 'chance', 'matter', 'longer', 'luck', 'progress', 'option', 'sense', 'effort', 'choice', 'advantage', 'attention', 'doubt', 'reward', 'mistake', 'tutorial', 'difference', 'communication']\n",
      "Words of cluster Index 17: \n",
      "['you', 'have', 'are', 'play', 'be', 'get', 'your', 'or', 'do', 'buy', 'take', 'go', 're', 'find', 'run', 'work', 'start', 'try', 'enjoy', 'feel']\n",
      "Words of cluster Index 18: \n",
      "['from', 'out', 'up', 'by', 'into', 'gt', 'around', 'off', 'down', 'without', 'another', 'through', 'away', 'each', 'next', 'spawn', 'left', 'behind', 'death', 'close']\n",
      "Words of cluster Index 19: \n",
      "['some', 'most', 'many', 'lot', 'full', 'these', 'lots', 'instead', 'alot', 'amount', 'kind', 'number', 'type', 'tons', 'lack', 'course', 'bunch', 'ton', 'variety', 'plenty']\n",
      "Words of cluster Index 20: \n",
      "['gameplay', 'graphics', 'system', 'optimization', 'mechanics', 'looks', 'performance', 'itself', 'optimized', 'controls', 'combat', 'matchmaking', 'cons', 'quality', 'sound', 'port', 'physics', 'design', 'general', 'engine']\n",
      "Words of cluster Index 21: \n",
      "['kill', 'shoot', 'watch', 'fight', 'hear', 'hunt', 'raid', 'hide', 'attack', 'camp', 'steal', 'hook', 'screaming', 'kick', 'mic', 'chase', 'act', 'block', 'nerf', 'shoots']\n",
      "Words of cluster Index 22: \n",
      "['hackers', 'cheaters', 'chinese', 'hacker', 'modders', 'cheating', 'cheat', 'hacking', 'everywhere', 'cheater', 'non', 'hacks', 'hack', 'filled', 'cheats', 'modder', 'legit', 'rampant', 'campers', 'bots']\n",
      "Words of cluster Index 23: \n",
      "['killer', 'survivor', 'auto', 'race', 'boss', 'powered', 'semi', 'gold', 'nurse', 'freddy', 'elder', 'dragon', 'wraith', 'ice', 'myers', 'tempered', 'scenario', 'buff', 'lone', 'trapper']\n",
      "Words of cluster Index 24: \n",
      "['e', 'o', 'n', 'g', 'b', 'de', 'y', 'l', 'w', 'que', 'un', 'da', 'es', 'en', 'sa', 'jogo', 'se', 'la', 'si', 'j']\n",
      "Words of cluster Index 25: \n",
      "['water', 'salt', 'cup', 'butter', 'remaining', 'eggs', 'cheese', 'dough', 'tea', 'heat', 'sugar', 'filling', 'golden', 'paper', 'flour', 'cook', 'ravioli', 'mixture', 'lagggslaggg', 'cake']\n",
      "Words of cluster Index 26: \n",
      "['is', 's', 'has', 'makes', 'does', 'gets', 'isn', 'feels', 'takes', 'thats', 'sucks', 'comes', 'works', 'goes', 'aren', 'keeps', 'means', 'gives', 'except', 'gave']\n",
      "Words of cluster Index 27: \n",
      "['end', 'pick', 'set', 'rank', 'ed', 'straight', 'thumbs', 'blow', 'shut', 'ranks', 'picking', 'pop', 'ended', 'wake', 'ends', 'screwed', 'picked', 'blown', 'clean', 'blowing']\n",
      "Words of cluster Index 28: \n",
      "['team', 'base', 'own', 'character', 'goal', 'ability', 'room', 'skills', 'power', 'location', 'favor', 'mistakes', 'position', 'track', 'objective', 'lives', 'path', 'gender', 'playstyle', 'opponents']\n",
      "Words of cluster Index 29: \n",
      "['ing', 'u', 'f', 'ok', 'lt', 'oh', 'god', 'damn', 'yeah', 'thanks', 'lol', 'wow', 'gg', 'thank', 'rip', 'xd', 'ur', 'hey', 'wtf', 'sorry']\n",
      "Words of cluster Index 30: \n",
      "['different', 'weapons', 'vehicles', 'perks', 'customization', 'effects', 'selection', 'attachments', 'models', 'radio', 'paint', 'weather', 'sets', 'upgrades', 'abilities', 'creation', 'explosions', 'interactions', 'customisation', 'color']\n",
      "Words of cluster Index 31: \n",
      "['stupid', 'useless', 'popular', 'important', 'ridiculous', 'clear', 'dumb', 'common', 'unfair', 'obvious', 'lazy', 'disgusting', 'pathetic', 'necessary', 'overpowered', 'successful', 'unacceptable', 'acceptable', 'nowadays', 'apparent']\n",
      "Words of cluster Index 32: \n",
      "['made', 'fixed', 'done', 'said', 'added', 'released', 'changed', 'given', 'called', 'improved', 'expected', 'removed', 'told', 'allowed', 'known', 'sold', 'broke', 'implemented', 'mentioned', 'resolved']\n",
      "Words of cluster Index 33: \n",
      "['example', 'actual', 'absolute', 'entirely', 'attempt', 'empty', 'eye', 'instant', 'mmo', 'idiot', 'animal', 'opportunity', 'indie', 'addiction', 'exception', 'esport', 'individual', 'equal', 'essential', 'achievement']\n",
      "Words of cluster Index 34: \n",
      "['fun', 'good', 'well', 'hard', 'little', 'easy', 'cool', 'boring', 'fast', 'simple', 'enjoyable', 'annoying', 'addictive', 'often', 'short', 'frustrating', 'addicting', 'funny', 'difficult', 'quick']\n",
      "Words of cluster Index 35: \n",
      "['playing', 'being', 'getting', 'having', 'doing', 'running', 'using', 'killing', 'waiting', 'shooting', 'taking', 'giving', 'starting', 'dying', 'seeing', 'finding', 'camping', 'alive', 'fighting', 'fresh']\n",
      "Words of cluster Index 36: \n",
      "['they', 'their', 'rockstar', 'devs', 'developers', 'r', 'job', 'bluehole', 'company', 'dev', 'developer', 'capcom', 'greedy', 'interactive', 'ea', 'hole', 'playerunknown', 'psyonix', 'facepunch', 'greene']\n",
      "Words of cluster Index 37: \n",
      "['was', 'played', 'been', 'had', 'got', 'received', 'am', 'were', 'bought', 'started', 'spent', 'came', 'seen', 'found', 'thought', 'tried', 'took', 'went', 'lost', 'gone']\n",
      "Words of cluster Index 38: \n",
      "['to', 'can', 'will', 'would', 'don', 'want', 'dont', 'need', 'could', 'should', 'd', 'll', 'going', 'cant', 'did', 'doesn', 'please', 'trying', 'let', 'needs']\n",
      "Words of cluster Index 39: \n",
      "['steam', 'chat', 'com', 'youtube', 'https', 'www', 'videos', 'twitch', 'forums', 'information', 'discord', 'http', 'text', 'page', 'workshop', 'tip', 'reddit', 'google', 'link', 'org']\n",
      "Words of cluster Index 40: \n",
      "['gud', 'kappa', 'ign', 'lit', 'yeet', 'dis', 'gr', 'gaem', 'git', 'eh', 'dank', 'noice', 'meme', 'lul', 'dab', 'bruh', 'gam', 'veri', 'gut', 'boi']\n",
      "Words of cluster Index 41: \n",
      "['screen', 'crash', 'says', 'error', 'menu', 'social', 'club', 'code', 'download', 'button', 'click', 'failed', 'press', 'restart', 'mw', 'install', 'message', 'net', 'sign', 'installed']\n",
      "Words of cluster Index 42: \n",
      "['new', 'updates', 'working', 'coming', 'adding', 'fixing', 'development', 'updated', 'fixes', 'hopefully', 'changing', 'active', 'updating', 'improving', 'keeping', 'weekly', 'following', 'creating', 'becoming', 'releasing']\n",
      "Words of cluster Index 43: \n",
      "['map', 'area', 'buildings', 'city', 'red', 'animals', 'zombies', 'island', 'los', 'size', 'desert', 'light', 'santos', 'military', 'rain', 'arena', 'tiny', 'npc', 'terrain', 'scale']\n",
      "Words of cluster Index 44: \n",
      "['make', 'use', 'open', 'learn', 'build', 'master', 'survive', 'improve', 'choose', 'create', 'sell', 'test', 'escape', 'craft', 'destroy', 'practice', 'force', 'explore', 'gather', 'unlock']\n",
      "Words of cluster Index 45: \n",
      "['people', 'players', 'them', 'player', 'everyone', 'those', 'someone', 'us', 'yourself', 'guys', 'others', 'survivors', 'killers', 'kids', 'themselves', 'gamers', 'teammates', 'men', 'streamers', 'users']\n",
      "Words of cluster Index 46: \n",
      "['nc', 'tl', 'realy', 'tbh', 'soo', 'iti', 'sooo', 'tldr', 'verry', 'absolutly', 'hella', 'rly', 'soooo', 'nuff', 'ol', 'whit', 'nonetheless', 'twilight', 'storymode', 'freakin']\n",
      "Words of cluster Index 47: \n",
      "['money', 'free', 'content', 'price', 'pay', 'dlc', 'items', 'shark', 'cards', 'crates', 'microtransactions', 'cash', 'paid', 'grinding', 'dollars', 'points', 'skins', 'pass', 'key', 'keys']\n",
      "Words of cluster Index 48: \n",
      "['for', 'in', 'after', 'every', 'over', 'two', 'few', 'almost', 'last', 'half', 'literally', 'later', 'couple', 'ago', 'past', 'during', 'three', 'within', 'multiple', 'several']\n",
      "Words of cluster Index 49: \n",
      "['fps', 'high', 'low', 'runs', 'settings', 'computer', 'average', 'above', 'graphic', 'medium', 'textures', 'max', 'lower', 'mid', 'setting', 'specs', 'minimum', 'ultra', 'potato', 'perfectly']\n",
      "Words of cluster Index 50: \n",
      "['the', 'game', 'and', 'i', 'it', 'this', 'that', 'but', 't', 'not', 'if', 'so', 'just', 'as', 'like', 'at', 'its', 'no', 'when', 'really']\n",
      "Words of cluster Index 51: \n",
      "['ruined', 'taken', 'created', 'developed', 'caused', 'plagued', 'surprise', 'abandoned', 'followed', 'provided', 'driven', 'replaced', 'covered', 'offered', 'led', 'affected', 'established', 'shared', 'published', 'surrounded']\n",
      "Words of cluster Index 52: \n",
      "['china', 'lock', 'region', 'our', 'official', 'na', 'busy', 'public', 'english', 'asian', 'dedicated', 'eu', 'host', 'language', 'american', 'chinaregion', 'north', 'asia', 'sea', 'population']\n",
      "Words of cluster Index 53: \n",
      "['hit', 'damage', 'fire', 'aim', 'enemy', 'shots', 'speed', 'range', 'bullets', 'enemies', 'cover', 'bullet', 'view', 'hits', 'distance', 'recoil', 'health', 'boost', 'aiming', 'grass']\n",
      "Words of cluster Index 54: \n",
      "['great', 'nice', 'amazing', 'awesome', 'overall', 'perfect', 'fantastic', 'beautiful', 'solid', 'core', 'blast', 'excellent', 'epic', 'alright', 'incredible', 'awsome', 'wonderful', 'brilliant', 'wise', 'art']\n",
      "Words of cluster Index 55: \n",
      "['of', 'big', 'such', 'huge', 'due', 'constantly', 'small', 'large', 'constant', 'despite', 'major', 'massive', 'certain', 'endless', 'serious', 'insane', 'aside', 'limited', 'regular', 'various']\n",
      "Words of cluster Index 56: \n",
      "['there', 'servers', 'server', 'bugs', 'issues', 'lag', 'sometimes', 'loading', 'problems', 'crashes', 'bug', 'connection', 'glitches', 'ping', 'drops', 'internet', 'crashing', 'lags', 'network', 'desync']\n",
      "Words of cluster Index 57: \n",
      "['cars', 'loot', 'guns', 'weapon', 'gear', 'resources', 'rocks', 'vehicle', 'armor', 'wood', 'space', 'food', 'stone', 'houses', 'ammo', 'clothes', 'materials', 'doors', 'trees', 'metal']\n",
      "Words of cluster Index 58: \n",
      "['more', 'other', 'better', 'less', 'worse', 'rather', 'higher', 'easier', 'faster', 'further', 'harder', 'bigger', 'smaller', 'smoother', 'larger', 'closer', 'slower', 'cheaper', 'stronger', 'superior']\n",
      "Words of cluster Index 59: \n",
      "['with', 'friends', 'online', 'single', 'multiplayer', 'mode', 'v', 'solo', 'person', 'either', 'especially', 'singleplayer', 'both', 'alone', 'lobby', 'group', 'pvp', 'together', 'competitive', 'squad']\n",
      "Words of cluster Index 60: \n",
      "['gun', 'shotgun', 'pan', 'ak', 'headshot', 'sniper', 'pistol', 'bow', 'rifle', 'lvl', 'double', 'scope', 'torch', 'helmet', 'kar', 'spear', 'frying', 'shotguns', 'rifles', 'ump']\n",
      "Words of cluster Index 61: \n",
      "['love', 'recommend', 'm', 'worth', 'anyone', 'buying', 'highly', 'definitely', 'sale', 'refund', 'recommended', 'reccomend', 'purchase', 'rate', 'recomend', 'regret', 'suggest', 'dr', 'prefer', 'conclusion']\n",
      "Words of cluster Index 62: \n",
      "['care', 'talk', 'thinking', 'talking', 'forget', 'complain', 'complaining', 'cry', 'worry', 'cares', 'forgot', 'crying', 'worried', 'lying', 'talked', 'whining', 'caring', 'cared', 'jokes', 'dunno']\n",
      "Words of cluster Index 63: \n",
      "['rock', 'head', 'face', 'hands', 'body', 'eat', 'blood', 'sweet', 'bag', 'meat', 'pants', 'butt', 'cat', 'heads', 'chest', 'stole', 'arms', 'cold', 'seat', 'eating']\n",
      "Words of cluster Index 64: \n",
      "['all', 'first', 'times', 'look', 'point', 'looking', 'least', 'moment', 'beginning', 'stage', 'risk', 'laugh', 'bottom', 'pace', 'laughing', 'yelling', 'disadvantage', 'attempts', 'staring', 'begining']\n",
      "Words of cluster Index 65: \n",
      "['skill', 'action', 'feeling', 'learning', 'heart', 'curve', 'value', 'rng', 'paced', 'winning', 'challenge', 'adrenaline', 'rush', 'difficulty', 'replay', 'pain', 'strategy', 'mix', 'enjoyment', 'frustration']\n",
      "Words of cluster Index 66: \n",
      "['toxic', 'against', 'friendly', 'banning', 'pro', 'salty', 'noob', 'rich', 'speaking', 'audience', 'skilled', 'cancerous', 'innocent', 'racist', 'kos', 'famous', 'smart', 'veteran', 'aka', 'hostile']\n",
      "Words of cluster Index 67: \n",
      "['very', 'too', 'pretty', 'bit', 'quite', 'super', 'absolutely', 'completely', 'extremely', 'mostly', 'totally', 'kinda', 'incredibly', 'fairly', 'af', 'somewhat', 'beyond', 'slightly', 'generally', 'insanely']\n",
      "Words of cluster Index 68: \n",
      "['k', 'p', 'x', 'gb', 'c', 'gtx', 'ram', 'card', 'machine', 'cpu', 'laptop', 'ti', 'gpu', 'amd', 'memory', 'nvidia', 'ghz', 'ssd', 'setup', 'intel']\n",
      "Words of cluster Index 69: \n",
      "['a', 'on', 'my', 'me', 'time', 'one', 'then', 'hours', 've', 'again', 'we', 'back', 'while', 'before', 'long', 'day', 'once', 'im', 'minutes', 'years']\n",
      "Words of cluster Index 70: \n",
      "['fix', 'see', 'say', 'know', 'think', 'give', 'stop', 'add', 'help', 'hate', 'change', 'mean', 'seem', 'tell', 'understand', 'expect', 'believe', 'ruin', 'call', 'trust']\n",
      "Words of cluster Index 71: \n",
      "['review', 'here', 'issue', 'reviews', 'negative', 'positive', 'read', 'list', 'writing', 'reasons', 'reading', 'note', 'rating', 'word', 'words', 'mixed', 'con', 'complaints', 'warning', 'complaint']\n",
      "Words of cluster Index 72: \n",
      "['trash', 'hell', 'garbage', 'basically', 'complete', 'crap', 'piece', 'mess', 'cancer', 'joke', 'sh', 'shame', 'pure', 'bs', 'pile', 'unfinished', 'microtransaction', 'kip', 'utter', 'aids']\n",
      "Words of cluster Index 73: \n",
      "['gta', 'product', 'rust', 'pubg', 'story', 'experience', 'world', 'battle', 'monster', 'league', 'part', 'alpha', 'gaming', 'potential', 'future', 'series', 'concept', 'state', 'grand', 'video']\n",
      "Words of cluster Index 74: \n",
      "['making', 'real', 'waste', 'save', 'grab', 'spending', 'wasted', 'earn', 'selling', 'paying', 'earned', 'wasting', 'charge', 'hungry', 'spare', 'bank', 'invest', 'milk', 'irl', 'sink']\n",
      "Words of cluster Index 75: \n",
      "['level', 'crafting', 'progression', 'tools', 'ranking', 'inventory', 'research', 'specific', 'equipment', 'model', 'blueprints', 'stats', 'perk', 'resource', 'blueprint', 'management', 'raw', 'builds', 'practically', 'scrap']\n",
      "Words of cluster Index 76: \n",
      "['games', 'things', 'stuff', 'missions', 'maps', 'monsters', 'characters', 'matches', 'features', 'changes', 'options', 'ways', 'modes', 'ones', 'moments', 'areas', 'improvements', 'parts', 'events', 'fights']\n",
      "Words of cluster Index 77: \n",
      "['turn', 'jump', 'turned', 'putting', 'fall', 'turns', 'cut', 'pull', 'nowhere', 'turning', 'roll', 'holding', 'fell', 'crack', 'thrown', 'jumped', 'iron', 'flat', 'knock', 'pulled']\n",
      "Words of cluster Index 78: \n",
      "['community', 'mods', 'modding', 'support', 'mod', 'openiv', 'anti', 'business', 'cease', 'playerbase', 'decision', 'tool', 'desist', 'user', 'software', 'service', 'illegal', 'customers', 'greed', 'actions']\n",
      "Words of cluster Index 79: \n",
      "['pc', 'version', 'old', 'ps', 'hunter', 'console', 'xbox', 'iv', 'original', 'previous', 'legacy', 'mh', 'skyrim', 'platform', 'gtav', 'consoles', 'mobile', 'older', 'edition', 'cross']\n",
      "\n",
      "\n"
     ]
    }
   ],
   "source": [
    "PRINT_NUM=20\n",
    "\n",
    "def print_clusters(word_centroid_map_z, model_name):\n",
    "    pool=[]\n",
    "    for i in range(0,CLUSTER_NUM):\n",
    "        pool.append([])\n",
    "\n",
    "    for word in word_centroid_map_z:\n",
    "        index=word_centroid_map_z[word]\n",
    "        if len(pool[index])<PRINT_NUM:\n",
    "            pool[index].append(word)\n",
    "\n",
    "    for i in range(0,CLUSTER_NUM):\n",
    "        print(\"Words of cluster Index {}: \".format(i))\n",
    "        print(pool[i])\n",
    "        \n",
    "    print(\"\\n\")\n",
    "\n",
    "\n",
    "\n",
    "print_clusters(word_centroid_map_z1, \"model1\")"
   ]
  },
  {
   "cell_type": "code",
   "execution_count": 8,
   "metadata": {},
   "outputs": [
    {
     "name": "stdout",
     "output_type": "stream",
     "text": [
      "cluster0:  cnt:[48.] sigma:[0.78717849]\n",
      "cluster1:  cnt:[78.] sigma:[0.86997465]\n",
      "cluster2:  cnt:[101.] sigma:[0.73022445]\n",
      "cluster3:  cnt:[118.] sigma:[0.7860458]\n",
      "cluster4:  cnt:[131.] sigma:[0.76587472]\n",
      "cluster5:  cnt:[211.] sigma:[0.7754967]\n",
      "cluster6:  cnt:[180.] sigma:[0.79904026]\n",
      "cluster7:  cnt:[106.] sigma:[0.82838508]\n",
      "cluster8:  cnt:[89.] sigma:[0.8126081]\n",
      "cluster9:  cnt:[90.] sigma:[0.73074875]\n",
      "cluster10:  cnt:[105.] sigma:[0.70515743]\n",
      "cluster11:  cnt:[161.] sigma:[0.73025402]\n",
      "cluster12:  cnt:[188.] sigma:[0.794126]\n",
      "cluster13:  cnt:[83.] sigma:[0.78434287]\n",
      "cluster14:  cnt:[118.] sigma:[0.75515705]\n",
      "cluster15:  cnt:[266.] sigma:[0.70879551]\n",
      "cluster16:  cnt:[98.] sigma:[0.82753536]\n",
      "cluster17:  cnt:[99.] sigma:[0.8686538]\n",
      "cluster18:  cnt:[147.] sigma:[0.85947511]\n",
      "cluster19:  cnt:[70.] sigma:[0.7904437]\n",
      "cluster20:  cnt:[116.] sigma:[0.80536227]\n",
      "cluster21:  cnt:[141.] sigma:[0.7667596]\n",
      "cluster22:  cnt:[99.] sigma:[0.77371864]\n",
      "cluster23:  cnt:[130.] sigma:[0.7624354]\n",
      "cluster24:  cnt:[257.] sigma:[0.53188462]\n",
      "cluster25:  cnt:[103.] sigma:[0.69469762]\n",
      "cluster26:  cnt:[148.] sigma:[0.85521718]\n",
      "cluster27:  cnt:[107.] sigma:[0.68689537]\n",
      "cluster28:  cnt:[144.] sigma:[0.79971493]\n",
      "cluster29:  cnt:[135.] sigma:[0.83082877]\n",
      "cluster30:  cnt:[137.] sigma:[0.71395689]\n",
      "cluster31:  cnt:[136.] sigma:[0.8125799]\n",
      "cluster32:  cnt:[115.] sigma:[0.80109502]\n",
      "cluster33:  cnt:[118.] sigma:[0.73828287]\n",
      "cluster34:  cnt:[119.] sigma:[0.76297189]\n",
      "cluster35:  cnt:[120.] sigma:[0.81574517]\n",
      "cluster36:  cnt:[86.] sigma:[0.79420388]\n",
      "cluster37:  cnt:[152.] sigma:[0.8172363]\n",
      "cluster38:  cnt:[93.] sigma:[0.85040427]\n",
      "cluster39:  cnt:[107.] sigma:[0.76918961]\n",
      "cluster40:  cnt:[166.] sigma:[0.72811982]\n",
      "cluster41:  cnt:[120.] sigma:[0.77266264]\n",
      "cluster42:  cnt:[79.] sigma:[0.8144372]\n",
      "cluster43:  cnt:[151.] sigma:[0.75594049]\n",
      "cluster44:  cnt:[142.] sigma:[0.80120025]\n",
      "cluster45:  cnt:[105.] sigma:[0.80055784]\n",
      "cluster46:  cnt:[118.] sigma:[0.83551573]\n",
      "cluster47:  cnt:[143.] sigma:[0.81509368]\n",
      "cluster48:  cnt:[77.] sigma:[0.81618287]\n",
      "cluster49:  cnt:[95.] sigma:[0.77946479]\n",
      "cluster50:  cnt:[141.] sigma:[0.93346847]\n",
      "cluster51:  cnt:[94.] sigma:[0.75740525]\n",
      "cluster52:  cnt:[88.] sigma:[0.76766799]\n",
      "cluster53:  cnt:[176.] sigma:[0.74891862]\n",
      "cluster54:  cnt:[78.] sigma:[0.75042839]\n",
      "cluster55:  cnt:[110.] sigma:[0.83747105]\n",
      "cluster56:  cnt:[113.] sigma:[0.78604378]\n",
      "cluster57:  cnt:[193.] sigma:[0.71805388]\n",
      "cluster58:  cnt:[49.] sigma:[0.72907794]\n",
      "cluster59:  cnt:[124.] sigma:[0.84625502]\n",
      "cluster60:  cnt:[110.] sigma:[0.66363692]\n",
      "cluster61:  cnt:[108.] sigma:[0.89529791]\n",
      "cluster62:  cnt:[40.] sigma:[0.69876712]\n",
      "cluster63:  cnt:[144.] sigma:[0.72322908]\n",
      "cluster64:  cnt:[45.] sigma:[0.77801773]\n",
      "cluster65:  cnt:[125.] sigma:[0.81084245]\n",
      "cluster66:  cnt:[141.] sigma:[0.79142353]\n",
      "cluster67:  cnt:[79.] sigma:[0.78049817]\n",
      "cluster68:  cnt:[101.] sigma:[0.69714096]\n",
      "cluster69:  cnt:[95.] sigma:[0.88491464]\n",
      "cluster70:  cnt:[153.] sigma:[0.81782282]\n",
      "cluster71:  cnt:[96.] sigma:[0.83883418]\n",
      "cluster72:  cnt:[71.] sigma:[0.79085479]\n",
      "cluster73:  cnt:[169.] sigma:[0.85700239]\n",
      "cluster74:  cnt:[66.] sigma:[0.81234927]\n",
      "cluster75:  cnt:[165.] sigma:[0.77731265]\n",
      "cluster76:  cnt:[132.] sigma:[0.77960134]\n",
      "cluster77:  cnt:[170.] sigma:[0.74430527]\n",
      "cluster78:  cnt:[150.] sigma:[0.81166233]\n",
      "cluster79:  cnt:[78.] sigma:[0.79654591]\n",
      "[0.78295904]\n"
     ]
    }
   ],
   "source": [
    "cluster_centroid=np.zeros((CLUSTER_NUM,100))\n",
    "cluster_cnt=np.zeros((CLUSTER_NUM,1))\n",
    "cluster_sigma=np.zeros((CLUSTER_NUM,1))\n",
    "\n",
    "L=len(z1)\n",
    "for i in range(0,L):\n",
    "    cluster=word_centroid_map_z1[word_list_z1[i]]\n",
    "    cluster_centroid[cluster]+=z1[i]\n",
    "    cluster_cnt[cluster]+=1\n",
    "\n",
    "for i in range(0,CLUSTER_NUM):\n",
    "    cluster_centroid[i]=cluster_centroid[i]/cluster_cnt[i]\n",
    "\n",
    "for i in range(0,L):\n",
    "    cluster=word_centroid_map_z1[word_list_z1[i]]\n",
    "    cluster_sigma[cluster]+=sum(np.square(z1[i]-cluster_centroid[cluster]))\n",
    "\n",
    "Sum=0\n",
    "for i in range(0,CLUSTER_NUM):\n",
    "    cluster_sigma[i]=np.sqrt(cluster_sigma[i]/cluster_cnt[i])\n",
    "    Sum+=cluster_sigma[i]\n",
    "    print(\"cluster\"+str(i)+\":  cnt:\"+str(cluster_cnt[i])+\" sigma:\"+str(cluster_sigma[i]))\n",
    "\n",
    "print(Sum/CLUSTER_NUM)"
   ]
  },
  {
   "cell_type": "code",
   "execution_count": 9,
   "metadata": {},
   "outputs": [
    {
     "name": "stderr",
     "output_type": "stream",
     "text": [
      "C:\\Users\\alanl\\Anaconda3\\lib\\site-packages\\bs4\\__init__.py:272: UserWarning: \"b'.'\" looks like a filename, not markup. You should probably open this file and pass the filehandle into Beautiful Soup.\n",
      "  ' Beautiful Soup.' % markup)\n",
      "C:\\Users\\alanl\\Anaconda3\\lib\\site-packages\\bs4\\__init__.py:272: UserWarning: \"b'...'\" looks like a filename, not markup. You should probably open this file and pass the filehandle into Beautiful Soup.\n",
      "  ' Beautiful Soup.' % markup)\n",
      "C:\\Users\\alanl\\Anaconda3\\lib\\site-packages\\bs4\\__init__.py:272: UserWarning: \"b'..'\" looks like a filename, not markup. You should probably open this file and pass the filehandle into Beautiful Soup.\n",
      "  ' Beautiful Soup.' % markup)\n",
      "C:\\Users\\alanl\\Anaconda3\\lib\\site-packages\\bs4\\__init__.py:272: UserWarning: \"b'.....'\" looks like a filename, not markup. You should probably open this file and pass the filehandle into Beautiful Soup.\n",
      "  ' Beautiful Soup.' % markup)\n",
      "C:\\Users\\alanl\\Anaconda3\\lib\\site-packages\\bs4\\__init__.py:272: UserWarning: \"b'..........'\" looks like a filename, not markup. You should probably open this file and pass the filehandle into Beautiful Soup.\n",
      "  ' Beautiful Soup.' % markup)\n",
      "C:\\Users\\alanl\\Anaconda3\\lib\\site-packages\\bs4\\__init__.py:272: UserWarning: \"b'/'\" looks like a filename, not markup. You should probably open this file and pass the filehandle into Beautiful Soup.\n",
      "  ' Beautiful Soup.' % markup)\n",
      "C:\\Users\\alanl\\Anaconda3\\lib\\site-packages\\bs4\\__init__.py:272: UserWarning: \"b'... ...'\" looks like a filename, not markup. You should probably open this file and pass the filehandle into Beautiful Soup.\n",
      "  ' Beautiful Soup.' % markup)\n",
      "C:\\Users\\alanl\\Anaconda3\\lib\\site-packages\\bs4\\__init__.py:272: UserWarning: \"b'....'\" looks like a filename, not markup. You should probably open this file and pass the filehandle into Beautiful Soup.\n",
      "  ' Beautiful Soup.' % markup)\n",
      "C:\\Users\\alanl\\Anaconda3\\lib\\site-packages\\bs4\\__init__.py:272: UserWarning: \"b'.......'\" looks like a filename, not markup. You should probably open this file and pass the filehandle into Beautiful Soup.\n",
      "  ' Beautiful Soup.' % markup)\n"
     ]
    },
    {
     "name": "stdout",
     "output_type": "stream",
     "text": [
      "50000\n"
     ]
    },
    {
     "name": "stderr",
     "output_type": "stream",
     "text": [
      "C:\\Users\\alanl\\Anaconda3\\lib\\site-packages\\bs4\\__init__.py:272: UserWarning: \"b'..............'\" looks like a filename, not markup. You should probably open this file and pass the filehandle into Beautiful Soup.\n",
      "  ' Beautiful Soup.' % markup)\n",
      "C:\\Users\\alanl\\Anaconda3\\lib\\site-packages\\bs4\\__init__.py:272: UserWarning: \"b'. .'\" looks like a filename, not markup. You should probably open this file and pass the filehandle into Beautiful Soup.\n",
      "  ' Beautiful Soup.' % markup)\n",
      "C:\\Users\\alanl\\Anaconda3\\lib\\site-packages\\bs4\\__init__.py:272: UserWarning: \"b'......................................................'\" looks like a filename, not markup. You should probably open this file and pass the filehandle into Beautiful Soup.\n",
      "  ' Beautiful Soup.' % markup)\n"
     ]
    },
    {
     "name": "stdout",
     "output_type": "stream",
     "text": [
      "100000\n"
     ]
    },
    {
     "name": "stderr",
     "output_type": "stream",
     "text": [
      "C:\\Users\\alanl\\Anaconda3\\lib\\site-packages\\bs4\\__init__.py:272: UserWarning: \"b'..............................'\" looks like a filename, not markup. You should probably open this file and pass the filehandle into Beautiful Soup.\n",
      "  ' Beautiful Soup.' % markup)\n",
      "C:\\Users\\alanl\\Anaconda3\\lib\\site-packages\\bs4\\__init__.py:272: UserWarning: \"b'.........'\" looks like a filename, not markup. You should probably open this file and pass the filehandle into Beautiful Soup.\n",
      "  ' Beautiful Soup.' % markup)\n"
     ]
    },
    {
     "name": "stdout",
     "output_type": "stream",
     "text": [
      "150000\n"
     ]
    },
    {
     "name": "stderr",
     "output_type": "stream",
     "text": [
      "C:\\Users\\alanl\\Anaconda3\\lib\\site-packages\\bs4\\__init__.py:272: UserWarning: \"b'. . . .'\" looks like a filename, not markup. You should probably open this file and pass the filehandle into Beautiful Soup.\n",
      "  ' Beautiful Soup.' % markup)\n",
      "C:\\Users\\alanl\\Anaconda3\\lib\\site-packages\\bs4\\__init__.py:272: UserWarning: \"b'...................'\" looks like a filename, not markup. You should probably open this file and pass the filehandle into Beautiful Soup.\n",
      "  ' Beautiful Soup.' % markup)\n"
     ]
    },
    {
     "name": "stdout",
     "output_type": "stream",
     "text": [
      "200000\n"
     ]
    },
    {
     "name": "stderr",
     "output_type": "stream",
     "text": [
      "C:\\Users\\alanl\\Anaconda3\\lib\\site-packages\\bs4\\__init__.py:272: UserWarning: \"b'.......................................................'\" looks like a filename, not markup. You should probably open this file and pass the filehandle into Beautiful Soup.\n",
      "  ' Beautiful Soup.' % markup)\n",
      "C:\\Users\\alanl\\Anaconda3\\lib\\site-packages\\bs4\\__init__.py:272: UserWarning: \"b'........'\" looks like a filename, not markup. You should probably open this file and pass the filehandle into Beautiful Soup.\n",
      "  ' Beautiful Soup.' % markup)\n",
      "C:\\Users\\alanl\\Anaconda3\\lib\\site-packages\\bs4\\__init__.py:272: UserWarning: \"b'................................................'\" looks like a filename, not markup. You should probably open this file and pass the filehandle into Beautiful Soup.\n",
      "  ' Beautiful Soup.' % markup)\n"
     ]
    },
    {
     "name": "stdout",
     "output_type": "stream",
     "text": [
      "250000\n"
     ]
    },
    {
     "name": "stderr",
     "output_type": "stream",
     "text": [
      "C:\\Users\\alanl\\Anaconda3\\lib\\site-packages\\bs4\\__init__.py:272: UserWarning: \"b'............................................................'\" looks like a filename, not markup. You should probably open this file and pass the filehandle into Beautiful Soup.\n",
      "  ' Beautiful Soup.' % markup)\n",
      "C:\\Users\\alanl\\Anaconda3\\lib\\site-packages\\bs4\\__init__.py:272: UserWarning: \"b'............'\" looks like a filename, not markup. You should probably open this file and pass the filehandle into Beautiful Soup.\n",
      "  ' Beautiful Soup.' % markup)\n",
      "C:\\Users\\alanl\\Anaconda3\\lib\\site-packages\\bs4\\__init__.py:272: UserWarning: \"b'.........................'\" looks like a filename, not markup. You should probably open this file and pass the filehandle into Beautiful Soup.\n",
      "  ' Beautiful Soup.' % markup)\n",
      "C:\\Users\\alanl\\Anaconda3\\lib\\site-packages\\bs4\\__init__.py:272: UserWarning: \"b'..................'\" looks like a filename, not markup. You should probably open this file and pass the filehandle into Beautiful Soup.\n",
      "  ' Beautiful Soup.' % markup)\n"
     ]
    },
    {
     "name": "stdout",
     "output_type": "stream",
     "text": [
      "300000\n"
     ]
    },
    {
     "name": "stderr",
     "output_type": "stream",
     "text": [
      "C:\\Users\\alanl\\Anaconda3\\lib\\site-packages\\bs4\\__init__.py:272: UserWarning: \"b'/.'\" looks like a filename, not markup. You should probably open this file and pass the filehandle into Beautiful Soup.\n",
      "  ' Beautiful Soup.' % markup)\n",
      "C:\\Users\\alanl\\Anaconda3\\lib\\site-packages\\bs4\\__init__.py:272: UserWarning: \"b'.................'\" looks like a filename, not markup. You should probably open this file and pass the filehandle into Beautiful Soup.\n",
      "  ' Beautiful Soup.' % markup)\n",
      "C:\\Users\\alanl\\Anaconda3\\lib\\site-packages\\bs4\\__init__.py:272: UserWarning: \"b'................'\" looks like a filename, not markup. You should probably open this file and pass the filehandle into Beautiful Soup.\n",
      "  ' Beautiful Soup.' % markup)\n",
      "C:\\Users\\alanl\\Anaconda3\\lib\\site-packages\\bs4\\__init__.py:272: UserWarning: \"b'......'\" looks like a filename, not markup. You should probably open this file and pass the filehandle into Beautiful Soup.\n",
      "  ' Beautiful Soup.' % markup)\n",
      "C:\\Users\\alanl\\Anaconda3\\lib\\site-packages\\bs4\\__init__.py:272: UserWarning: \"b'.............................'\" looks like a filename, not markup. You should probably open this file and pass the filehandle into Beautiful Soup.\n",
      "  ' Beautiful Soup.' % markup)\n",
      "C:\\Users\\alanl\\Anaconda3\\lib\\site-packages\\bs4\\__init__.py:272: UserWarning: \"b'......................'\" looks like a filename, not markup. You should probably open this file and pass the filehandle into Beautiful Soup.\n",
      "  ' Beautiful Soup.' % markup)\n",
      "C:\\Users\\alanl\\Anaconda3\\lib\\site-packages\\bs4\\__init__.py:272: UserWarning: \"b'SERVERS ARE TOO BUSY EVERYDAY!!!!!!!!!!!!!!!!!. WOWOWOWOWOWOWOOWOWOWO ././././.././././.././.'\" looks like a filename, not markup. You should probably open this file and pass the filehandle into Beautiful Soup.\n",
      "  ' Beautiful Soup.' % markup)\n"
     ]
    },
    {
     "name": "stdout",
     "output_type": "stream",
     "text": [
      "350000\n"
     ]
    },
    {
     "name": "stderr",
     "output_type": "stream",
     "text": [
      "C:\\Users\\alanl\\Anaconda3\\lib\\site-packages\\bs4\\__init__.py:272: UserWarning: \"b'................................................................'\" looks like a filename, not markup. You should probably open this file and pass the filehandle into Beautiful Soup.\n",
      "  ' Beautiful Soup.' % markup)\n"
     ]
    },
    {
     "name": "stdout",
     "output_type": "stream",
     "text": [
      "400000\n"
     ]
    },
    {
     "name": "stderr",
     "output_type": "stream",
     "text": [
      "C:\\Users\\alanl\\Anaconda3\\lib\\site-packages\\bs4\\__init__.py:272: UserWarning: \"b'. . .'\" looks like a filename, not markup. You should probably open this file and pass the filehandle into Beautiful Soup.\n",
      "  ' Beautiful Soup.' % markup)\n",
      "C:\\Users\\alanl\\Anaconda3\\lib\\site-packages\\bs4\\__init__.py:272: UserWarning: \"b'..........................................'\" looks like a filename, not markup. You should probably open this file and pass the filehandle into Beautiful Soup.\n",
      "  ' Beautiful Soup.' % markup)\n",
      "C:\\Users\\alanl\\Anaconda3\\lib\\site-packages\\bs4\\__init__.py:272: UserWarning: \"b'........................'\" looks like a filename, not markup. You should probably open this file and pass the filehandle into Beautiful Soup.\n",
      "  ' Beautiful Soup.' % markup)\n",
      "C:\\Users\\alanl\\Anaconda3\\lib\\site-packages\\bs4\\__init__.py:272: UserWarning: \"b'. '\" looks like a filename, not markup. You should probably open this file and pass the filehandle into Beautiful Soup.\n",
      "  ' Beautiful Soup.' % markup)\n"
     ]
    },
    {
     "name": "stdout",
     "output_type": "stream",
     "text": [
      "Train Cleaned\n"
     ]
    }
   ],
   "source": [
    "clean_train_reviews = []\n",
    "\n",
    "def preprocess_review(review):\n",
    "\n",
    "    review_text = BeautifulSoup(review,\"lxml\").get_text()\n",
    "    letters_only = re.sub(\"[^a-zA-Z]\", \" \", review_text)\n",
    "    words = letters_only.lower().split()\n",
    "    stops = set(stopwords.words(\"english\"))\n",
    "    meaningful_words = [w for w in words if not w in stops]\n",
    "    \n",
    "    return meaningful_words #clean_review\n",
    "\n",
    "cnt=1\n",
    "for review in data['review']:\n",
    "    clean_train_reviews.append(preprocess_review(review))\n",
    "    if cnt%50000==0:\n",
    "        print(cnt)\n",
    "    cnt+=1\n",
    "\n",
    "print(\"Train Cleaned\")"
   ]
  },
  {
   "cell_type": "code",
   "execution_count": 10,
   "metadata": {},
   "outputs": [],
   "source": [
    "from sklearn import preprocessing\n",
    "\n",
    "def create_bag_of_centroids(tokenized_review, word_centroid_map, num_clusters,normalize):\n",
    "    bag_of_centroids=[]\n",
    "    for i in range(0,num_clusters):\n",
    "        bag_of_centroids.append(0)\n",
    "\n",
    "    for i in range(0,len(tokenized_review)):\n",
    "        if tokenized_review[i] in word_centroid_map:\n",
    "            bag_of_centroids[word_centroid_map[tokenized_review[i]]]=bag_of_centroids[word_centroid_map[tokenized_review[i]]]+1\n",
    "\n",
    "    if normalize==0:\n",
    "        return bag_of_centroids\n",
    "    else:\n",
    "        Sum=sum(bag_of_centroids)\n",
    "        if Sum!=0:\n",
    "            bag_of_centroids=[x / Sum for x in bag_of_centroids]\n",
    "        return bag_of_centroids\n",
    "\n",
    "\n",
    "def create_design_matrices(cleaned_reviews, word_centroid_map_z1, num_clusters,normalize):\n",
    "    X1=[]\n",
    "    for i in range(0,len(cleaned_reviews)):\n",
    "          X1.append(create_bag_of_centroids(cleaned_reviews[i], word_centroid_map_z1, num_clusters ,normalize))\n",
    "\n",
    "    x1_data=np.array(X1)\n",
    "\n",
    "    return x1_data\n",
    "\n",
    "NORMALIZE=1\n",
    "X_Train_baseline = create_design_matrices(clean_train_reviews,word_centroid_map_z1,CLUSTER_NUM, NORMALIZE)\n",
    "Y_Train = data.recommendation.values.astype('int')"
   ]
  },
  {
   "cell_type": "code",
   "execution_count": 11,
   "metadata": {},
   "outputs": [
    {
     "name": "stdout",
     "output_type": "stream",
     "text": [
      "[[0.         0.         0.05882353 0.         0.05882353 0.\n",
      "  0.         0.         0.         0.         0.         0.\n",
      "  0.05882353 0.         0.         0.         0.         0.23529412\n",
      "  0.29411765 0.         0.         0.         0.         0.\n",
      "  0.         0.         0.         0.         0.         0.\n",
      "  0.         0.         0.         0.         0.         0.\n",
      "  0.         0.05882353 0.05882353 0.         0.         0.\n",
      "  0.         0.         0.         0.         0.         0.\n",
      "  0.         0.         0.05882353 0.         0.         0.\n",
      "  0.         0.         0.         0.         0.         0.\n",
      "  0.         0.         0.         0.         0.         0.\n",
      "  0.         0.         0.         0.         0.05882353 0.\n",
      "  0.         0.05882353 0.         0.         0.         0.\n",
      "  0.         0.        ]\n",
      " [0.         0.         0.         0.         0.         0.\n",
      "  0.         0.         0.         0.         0.         0.\n",
      "  0.         0.         0.         0.         0.         0.\n",
      "  0.         0.         0.         0.         0.         0.\n",
      "  0.         0.         0.         0.         0.         0.\n",
      "  0.         0.         0.         0.         0.         0.\n",
      "  0.         0.         0.         0.         0.         0.\n",
      "  0.         0.         0.         0.         0.         0.\n",
      "  0.         0.         1.         0.         0.         0.\n",
      "  0.         0.         0.         0.         0.         0.\n",
      "  0.         0.         0.         0.         0.         0.\n",
      "  0.         0.         0.         0.         0.         0.\n",
      "  0.         0.         0.         0.         0.         0.\n",
      "  0.         0.        ]\n",
      " [0.         0.         0.0625     0.         0.         0.\n",
      "  0.         0.         0.         0.         0.         0.\n",
      "  0.         0.         0.         0.         0.         0.\n",
      "  0.         0.         0.         0.         0.         0.\n",
      "  0.         0.         0.         0.         0.         0.\n",
      "  0.         0.         0.         0.         0.125      0.0625\n",
      "  0.         0.         0.         0.         0.         0.\n",
      "  0.         0.         0.         0.         0.         0.0625\n",
      "  0.         0.         0.25       0.         0.         0.0625\n",
      "  0.         0.         0.         0.         0.         0.125\n",
      "  0.         0.0625     0.         0.         0.         0.\n",
      "  0.         0.0625     0.         0.         0.         0.\n",
      "  0.         0.         0.         0.         0.         0.\n",
      "  0.0625     0.0625    ]]\n",
      "[1 1 1]\n"
     ]
    }
   ],
   "source": [
    "print(X_Train_baseline[0:3])\n",
    "print(Y_Train[0:3])"
   ]
  },
  {
   "cell_type": "markdown",
   "metadata": {},
   "source": [
    "# 2. LDA Features"
   ]
  },
  {
   "cell_type": "code",
   "execution_count": 12,
   "metadata": {},
   "outputs": [],
   "source": [
    "df_lda = pd.read_csv('lda_set.csv')\n",
    "colnames = list(df_lda.columns)[1:]\n",
    "X_lda = df_lda[colnames]"
   ]
  },
  {
   "cell_type": "code",
   "execution_count": 13,
   "metadata": {},
   "outputs": [],
   "source": [
    "X_Train_lda = np.array(X_lda) # only containing lda features"
   ]
  },
  {
   "cell_type": "code",
   "execution_count": 14,
   "metadata": {},
   "outputs": [],
   "source": [
    "X_Train_full = np.hstack((X_Train_baseline,X_Train_lda)) # containing word2vec embeddings and lda embeddings"
   ]
  },
  {
   "cell_type": "markdown",
   "metadata": {},
   "source": [
    "# 3. Utility Functions"
   ]
  },
  {
   "cell_type": "code",
   "execution_count": 15,
   "metadata": {},
   "outputs": [],
   "source": [
    "from sklearn.metrics import accuracy_score, recall_score, precision_score, f1_score, make_scorer\n",
    "from sklearn.model_selection import train_test_split, KFold, cross_val_score, cross_validate, GridSearchCV\n",
    "from sklearn.ensemble import RandomForestClassifier\n",
    "from sklearn.naive_bayes import GaussianNB\n",
    "from random import sample\n",
    "from sklearn.linear_model import LogisticRegression\n",
    "from sklearn.linear_model import LogisticRegressionCV\n",
    "from sklearn.naive_bayes import MultinomialNB\n",
    "from sklearn.tree import DecisionTreeClassifier"
   ]
  },
  {
   "cell_type": "code",
   "execution_count": 16,
   "metadata": {},
   "outputs": [],
   "source": [
    "# train test split\n",
    "def split(X, label, random_state=0, test_size=0.2):\n",
    "    x_train, x_test, y_train, y_test = train_test_split(X, label, test_size=test_size, random_state=random_state)\n",
    "    return x_train, x_test, y_train, y_test"
   ]
  },
  {
   "cell_type": "code",
   "execution_count": 17,
   "metadata": {},
   "outputs": [],
   "source": [
    "# 5-fold cross validation\n",
    "# if parameters == None, runing cv on the single model\n",
    "# if parameters is set, doing grid search by using cv\n",
    "def cv(model, x_train, y_train, parameters=None, cv=5):\n",
    "    para = parameters\n",
    "    if para==None:\n",
    "        # Stratified KFold is used in default, which is better for imbalanced dataset\n",
    "        score_dic = cross_validate(model, x_train,y_train, cv=cv, scoring=['f1', 'recall', 'precision', 'accuracy'])\n",
    "        f1 = np.mean(score_dic['test_f1'])\n",
    "        recall = np.mean(score_dic['test_recall'])\n",
    "        precision = np.mean(score_dic['test_precision'])\n",
    "        acc = np.mean(score_dic['test_accuracy'])   \n",
    "    else:\n",
    "        # Stratified KFold is used in default, which is better for imbalanced dataset\n",
    "        cv = GridSearchCV(model, para, cv=cv, scoring=['f1', 'recall', 'precision', 'accuracy'], refit='f1')\n",
    "        cv.fit(x_train, y_train)\n",
    "        print('best parameters:', cv.best_params_)\n",
    "        \n",
    "        # metrics of the best model\n",
    "        index = cv.cv_results_['rank_test_f1'][0]-1\n",
    "        f1 = cv.cv_results_['mean_test_f1'][index]\n",
    "        recall = cv.cv_results_['mean_test_recall'][index]\n",
    "        precision = cv.cv_results_['mean_test_precision'][index]\n",
    "        acc = cv.cv_results_['mean_test_accuracy'][index]\n",
    "        \n",
    "    print(\"f1: %.4f\" % f1,\"recall: %.4f\" %  recall, \"precision: %.4f\" % precision, \"acc: %.4f\" % acc)\n",
    "    return f1, recall, precision, acc"
   ]
  },
  {
   "cell_type": "code",
   "execution_count": 18,
   "metadata": {},
   "outputs": [],
   "source": [
    "# use test set to evaluate the selected models\n",
    "def final_evluation(y_true, y_pred):\n",
    "    acc = accuracy_score(y_true, y_pred)\n",
    "    precision = precision_score(y_true, y_pred)\n",
    "    recall = recall_score(y_true, y_pred)\n",
    "    f1 =  f1_score(y_true, y_pred)\n",
    "    print(\"%.4f\" % f1,\"%.4f\" %  recall, \"%.4f\" % precision, \"%.4f\" % acc)\n",
    "    return f1, recall, precision, acc"
   ]
  },
  {
   "cell_type": "markdown",
   "metadata": {},
   "source": [
    "# 3. Baseline Models"
   ]
  },
  {
   "cell_type": "code",
   "execution_count": 19,
   "metadata": {},
   "outputs": [],
   "source": [
    "x_train_baseline, x_test_baseline, y_train_baseline, y_test_baseline = split(X_Train_baseline, Y_Train)"
   ]
  },
  {
   "cell_type": "code",
   "execution_count": 20,
   "metadata": {},
   "outputs": [
    {
     "name": "stdout",
     "output_type": "stream",
     "text": [
      "f1: 0.8765 recall: 0.9131 precision: 0.8427 acc: 0.8202\n"
     ]
    },
    {
     "data": {
      "text/plain": [
       "(0.8764830340427612, 0.91314308934351, 0.8426536345542093, 0.8201701759446207)"
      ]
     },
     "execution_count": 20,
     "metadata": {},
     "output_type": "execute_result"
    }
   ],
   "source": [
    "# Random Forest\n",
    "parameter_dict = None\n",
    "model = RandomForestClassifier(n_estimators=500, random_state=0)\n",
    "cv(model, x_train_baseline, y_train_baseline, parameters=parameter_dict, cv=5)"
   ]
  },
  {
   "cell_type": "code",
   "execution_count": 21,
   "metadata": {},
   "outputs": [
    {
     "name": "stdout",
     "output_type": "stream",
     "text": [
      "f1: 0.8615 recall: 0.9257 precision: 0.8057 acc: 0.7921\n"
     ]
    },
    {
     "data": {
      "text/plain": [
       "(0.861540821738493, 0.9256756467563978, 0.8057200106538293, 0.7921055667724256)"
      ]
     },
     "execution_count": 21,
     "metadata": {},
     "output_type": "execute_result"
    }
   ],
   "source": [
    "# Logistic Regression\n",
    "parameter_dict = None\n",
    "model = LogisticRegression(random_state=0, max_iter=10000)\n",
    "cv(model, x_train_baseline, y_train_baseline, parameters=parameter_dict, cv=5)"
   ]
  },
  {
   "cell_type": "code",
   "execution_count": 22,
   "metadata": {},
   "outputs": [
    {
     "name": "stdout",
     "output_type": "stream",
     "text": [
      "f1: 0.7527 recall: 0.6542 precision: 0.8862 acc: 0.6997\n"
     ]
    },
    {
     "data": {
      "text/plain": [
       "(0.7527427900368509, 0.654227641373486, 0.8862189023085193, 0.6997086818575137)"
      ]
     },
     "execution_count": 22,
     "metadata": {},
     "output_type": "execute_result"
    }
   ],
   "source": [
    "# Naive Bayes\n",
    "parameter_dict = None\n",
    "model = GaussianNB()\n",
    "cv(model, x_train_baseline, y_train_baseline, parameters=parameter_dict, cv=5)"
   ]
  },
  {
   "cell_type": "code",
   "execution_count": 23,
   "metadata": {},
   "outputs": [
    {
     "name": "stdout",
     "output_type": "stream",
     "text": [
      "f1: 0.8333 recall: 0.8466 precision: 0.8203 acc: 0.7633\n"
     ]
    },
    {
     "data": {
      "text/plain": [
       "(0.8332599435601707, 0.84659173753529, 0.8203457748192402, 0.7632621863282376)"
      ]
     },
     "execution_count": 23,
     "metadata": {},
     "output_type": "execute_result"
    }
   ],
   "source": [
    "# Decision Tree\n",
    "parameter_dict = None\n",
    "model = DecisionTreeClassifier(random_state=0)\n",
    "cv(model, x_train_baseline, y_train_baseline, parameters=parameter_dict, cv=5)"
   ]
  },
  {
   "cell_type": "markdown",
   "metadata": {},
   "source": [
    "# 4. LDA embeddings"
   ]
  },
  {
   "cell_type": "code",
   "execution_count": 24,
   "metadata": {},
   "outputs": [],
   "source": [
    "x_train_lda, x_test_lda, y_train_lda, y_test_lda = split(X_Train_lda, Y_Train)"
   ]
  },
  {
   "cell_type": "code",
   "execution_count": 25,
   "metadata": {},
   "outputs": [
    {
     "name": "stdout",
     "output_type": "stream",
     "text": [
      "f1: 0.8853 recall: 0.9084 precision: 0.8633 acc: 0.8355\n"
     ]
    },
    {
     "data": {
      "text/plain": [
       "(0.8852755526056612, 0.9084041568420409, 0.8632957305126094, 0.835488895298529)"
      ]
     },
     "execution_count": 25,
     "metadata": {},
     "output_type": "execute_result"
    }
   ],
   "source": [
    "# Random Forest\n",
    "parameter_dict = None\n",
    "model = RandomForestClassifier(n_estimators=500, random_state=0)\n",
    "cv(model, x_train_lda, y_train_lda, parameters=parameter_dict, cv=5)"
   ]
  },
  {
   "cell_type": "code",
   "execution_count": 26,
   "metadata": {},
   "outputs": [
    {
     "name": "stdout",
     "output_type": "stream",
     "text": [
      "f1: 0.8622 recall: 0.8934 precision: 0.8331 acc: 0.8005\n"
     ]
    },
    {
     "data": {
      "text/plain": [
       "(0.8622286817382868,\n",
       " 0.8934443377214443,\n",
       " 0.8331217675960998,\n",
       " 0.8005018748197289)"
      ]
     },
     "execution_count": 26,
     "metadata": {},
     "output_type": "execute_result"
    }
   ],
   "source": [
    "# Logistic Regression\n",
    "parameter_dict = None\n",
    "model = LogisticRegression(random_state=0, max_iter=10000)\n",
    "cv(model, x_train_lda, y_train_lda, parameters=parameter_dict, cv=5)"
   ]
  },
  {
   "cell_type": "code",
   "execution_count": 52,
   "metadata": {},
   "outputs": [
    {
     "name": "stdout",
     "output_type": "stream",
     "text": [
      "f1: 0.8853 recall: 0.9053 precision: 0.8662 acc: 0.8361\n"
     ]
    },
    {
     "data": {
      "text/plain": [
       "(0.8853269971475873,\n",
       " 0.9052792768947657,\n",
       " 0.8662355746214455,\n",
       " 0.8361378713585232)"
      ]
     },
     "execution_count": 52,
     "metadata": {},
     "output_type": "execute_result"
    }
   ],
   "source": [
    "# Gradient boosting\n",
    "from lightgbm import LGBMClassifier\n",
    "parameter_dict = None\n",
    "model = LGBMClassifier(n_estimators=500, random_state=0)\n",
    "cv(model, x_train_lda, y_train_lda, parameters=parameter_dict, cv=5)"
   ]
  },
  {
   "cell_type": "markdown",
   "metadata": {},
   "source": [
    "# 5. Word2vec and LDA"
   ]
  },
  {
   "cell_type": "code",
   "execution_count": 28,
   "metadata": {},
   "outputs": [],
   "source": [
    "x_train_full, x_test_full, y_train_full, y_test_full = split(X_Train_full, Y_Train)"
   ]
  },
  {
   "cell_type": "code",
   "execution_count": 29,
   "metadata": {},
   "outputs": [
    {
     "name": "stdout",
     "output_type": "stream",
     "text": [
      "f1: 0.8920 recall: 0.9189 precision: 0.8666 acc: 0.8445\n"
     ]
    },
    {
     "data": {
      "text/plain": [
       "(0.8919993328860556, 0.9189098789762882, 0.866621954833368, 0.8445197577156043)"
      ]
     },
     "execution_count": 29,
     "metadata": {},
     "output_type": "execute_result"
    }
   ],
   "source": [
    "# Random Forest\n",
    "parameter_dict = None\n",
    "model = RandomForestClassifier(n_estimators=500, random_state=0)\n",
    "cv(model, x_train_full, y_train_full, parameters=parameter_dict, cv=5)"
   ]
  },
  {
   "cell_type": "code",
   "execution_count": 30,
   "metadata": {},
   "outputs": [
    {
     "name": "stdout",
     "output_type": "stream",
     "text": [
      "f1: 0.8746 recall: 0.9041 precision: 0.8470 acc: 0.8189\n"
     ]
    },
    {
     "data": {
      "text/plain": [
       "(0.8746324642859967,\n",
       " 0.9041482072122866,\n",
       " 0.8469834369219889,\n",
       " 0.8188924141909432)"
      ]
     },
     "execution_count": 30,
     "metadata": {},
     "output_type": "execute_result"
    }
   ],
   "source": [
    "# Logistic Regression\n",
    "parameter_dict = None\n",
    "model = LogisticRegression(random_state=0, max_iter=10000)\n",
    "cv(model, x_train_full, y_train_full, parameters=parameter_dict, cv=5)"
   ]
  },
  {
   "cell_type": "code",
   "execution_count": 51,
   "metadata": {},
   "outputs": [
    {
     "name": "stdout",
     "output_type": "stream",
     "text": [
      "f1: 0.8937 recall: 0.9152 precision: 0.8733 acc: 0.8479\n"
     ]
    },
    {
     "data": {
      "text/plain": [
       "(0.8937247015093401,\n",
       " 0.9151575449813375,\n",
       " 0.8732748757994372,\n",
       " 0.8479232766080184)"
      ]
     },
     "execution_count": 51,
     "metadata": {},
     "output_type": "execute_result"
    }
   ],
   "source": [
    "# Gradient boosting\n",
    "parameter_dict = None\n",
    "model = LGBMClassifier(n_estimators=500, random_state=0)\n",
    "cv(model, x_train_full, y_train_full, parameters=parameter_dict, cv=5)"
   ]
  },
  {
   "cell_type": "markdown",
   "metadata": {},
   "source": [
    "# 6. Bayesian Optimization on GBM"
   ]
  },
  {
   "cell_type": "code",
   "execution_count": null,
   "metadata": {},
   "outputs": [],
   "source": [
    "from bayes_opt import BayesianOptimization"
   ]
  },
  {
   "cell_type": "code",
   "execution_count": 48,
   "metadata": {},
   "outputs": [],
   "source": [
    "def get_f1(y_pred, data):\n",
    "    y_true = data.get_label()\n",
    "    pred = (y_pred>=0.5).astype('int')\n",
    "    f1 = f1_score(y_true, pred)\n",
    "    return ('f1', f1, True) "
   ]
  },
  {
   "cell_type": "code",
   "execution_count": 50,
   "metadata": {},
   "outputs": [
    {
     "name": "stdout",
     "output_type": "stream",
     "text": [
      "|   iter    |  target   | colsam... | learni... | max_depth | min_ch... | min_da... | min_sp... | n_esti... | num_le... | reg_alpha | reg_la... | subsample |\n",
      "-------------------------------------------------------------------------------------------------------------------------------------------------------------\n"
     ]
    },
    {
     "name": "stderr",
     "output_type": "stream",
     "text": [
      "C:\\Users\\alanl\\Anaconda3\\lib\\site-packages\\lightgbm\\engine.py:503: UserWarning: Found `n_estimators` in params. Will use it instead of argument\n",
      "  warnings.warn(\"Found `{}` in params. Will use it instead of argument\".format(alias))\n"
     ]
    },
    {
     "name": "stdout",
     "output_type": "stream",
     "text": [
      "[200]\tcv_agg's binary_logloss: 0.347069 + 0.00174252\tcv_agg's f1: 0.892667 + 0.00129868\n",
      "[400]\tcv_agg's binary_logloss: 0.341466 + 0.00178387\tcv_agg's f1: 0.894497 + 0.0012606\n",
      "[600]\tcv_agg's binary_logloss: 0.338882 + 0.00192627\tcv_agg's f1: 0.895413 + 0.00126928\n",
      "[800]\tcv_agg's binary_logloss: 0.337416 + 0.00185183\tcv_agg's f1: 0.895813 + 0.00123653\n",
      "[1000]\tcv_agg's binary_logloss: 0.33652 + 0.00189482\tcv_agg's f1: 0.896038 + 0.00118312\n",
      "[1200]\tcv_agg's binary_logloss: 0.335885 + 0.0019138\tcv_agg's f1: 0.896206 + 0.000998554\n",
      "[1400]\tcv_agg's binary_logloss: 0.335626 + 0.0018421\tcv_agg's f1: 0.896344 + 0.00101571\n",
      "[1600]\tcv_agg's binary_logloss: 0.335531 + 0.00181511\tcv_agg's f1: 0.896362 + 0.000957407\n",
      "[1800]\tcv_agg's binary_logloss: 0.335635 + 0.00183756\tcv_agg's f1: 0.896286 + 0.0011423\n",
      "[2000]\tcv_agg's binary_logloss: 0.335805 + 0.00183331\tcv_agg's f1: 0.896152 + 0.000995778\n",
      "[2200]\tcv_agg's binary_logloss: 0.336072 + 0.00184246\tcv_agg's f1: 0.896185 + 0.000907954\n",
      "| \u001b[0m 1       \u001b[0m | \u001b[0m 0.8965  \u001b[0m | \u001b[0m 0.5391  \u001b[0m | \u001b[0m 0.0718  \u001b[0m | \u001b[0m 8.425   \u001b[0m | \u001b[0m 29.52   \u001b[0m | \u001b[0m 481.3   \u001b[0m | \u001b[0m 0.06494 \u001b[0m | \u001b[0m 4.657e+0\u001b[0m | \u001b[0m 64.59   \u001b[0m | \u001b[0m 2.891   \u001b[0m | \u001b[0m 1.15    \u001b[0m | \u001b[0m 0.8959  \u001b[0m |\n"
     ]
    },
    {
     "name": "stderr",
     "output_type": "stream",
     "text": [
      "C:\\Users\\alanl\\Anaconda3\\lib\\site-packages\\lightgbm\\engine.py:503: UserWarning: Found `n_estimators` in params. Will use it instead of argument\n",
      "  warnings.warn(\"Found `{}` in params. Will use it instead of argument\".format(alias))\n"
     ]
    },
    {
     "name": "stdout",
     "output_type": "stream",
     "text": [
      "[200]\tcv_agg's binary_logloss: 0.346856 + 0.00166592\tcv_agg's f1: 0.892807 + 0.00113074\n",
      "[400]\tcv_agg's binary_logloss: 0.340901 + 0.00170405\tcv_agg's f1: 0.894588 + 0.0010989\n",
      "[600]\tcv_agg's binary_logloss: 0.338464 + 0.00166714\tcv_agg's f1: 0.895506 + 0.00120185\n",
      "[800]\tcv_agg's binary_logloss: 0.337067 + 0.00162545\tcv_agg's f1: 0.89585 + 0.00112808\n",
      "[1000]\tcv_agg's binary_logloss: 0.336095 + 0.00163602\tcv_agg's f1: 0.896177 + 0.00112655\n",
      "[1200]\tcv_agg's binary_logloss: 0.335504 + 0.00166896\tcv_agg's f1: 0.896489 + 0.000997273\n",
      "[1400]\tcv_agg's binary_logloss: 0.335126 + 0.00168882\tcv_agg's f1: 0.896629 + 0.000935219\n",
      "[1600]\tcv_agg's binary_logloss: 0.334914 + 0.00169768\tcv_agg's f1: 0.896659 + 0.00101715\n",
      "[1800]\tcv_agg's binary_logloss: 0.334834 + 0.00168873\tcv_agg's f1: 0.896695 + 0.000937887\n",
      "[2000]\tcv_agg's binary_logloss: 0.33481 + 0.00177115\tcv_agg's f1: 0.896721 + 0.000865877\n",
      "[2200]\tcv_agg's binary_logloss: 0.334879 + 0.00175105\tcv_agg's f1: 0.896696 + 0.000862661\n",
      "[2400]\tcv_agg's binary_logloss: 0.335067 + 0.00178577\tcv_agg's f1: 0.896591 + 0.000896273\n",
      "[2600]\tcv_agg's binary_logloss: 0.335252 + 0.00178392\tcv_agg's f1: 0.896561 + 0.000967151\n",
      "| \u001b[95m 2       \u001b[0m | \u001b[95m 0.8968  \u001b[0m | \u001b[95m 0.5231  \u001b[0m | \u001b[95m 0.05724 \u001b[0m | \u001b[95m 11.33   \u001b[0m | \u001b[95m 8.197   \u001b[0m | \u001b[95m 178.4   \u001b[0m | \u001b[95m 0.003002\u001b[0m | \u001b[95m 8.41e+03\u001b[0m | \u001b[95m 58.91   \u001b[0m | \u001b[95m 2.61    \u001b[0m | \u001b[95m 2.936   \u001b[0m | \u001b[95m 0.8996  \u001b[0m |\n"
     ]
    },
    {
     "name": "stderr",
     "output_type": "stream",
     "text": [
      "C:\\Users\\alanl\\Anaconda3\\lib\\site-packages\\lightgbm\\engine.py:503: UserWarning: Found `n_estimators` in params. Will use it instead of argument\n",
      "  warnings.warn(\"Found `{}` in params. Will use it instead of argument\".format(alias))\n"
     ]
    },
    {
     "name": "stdout",
     "output_type": "stream",
     "text": [
      "[200]\tcv_agg's binary_logloss: 0.359928 + 0.00134579\tcv_agg's f1: 0.888551 + 0.000955656\n",
      "[400]\tcv_agg's binary_logloss: 0.352754 + 0.00148868\tcv_agg's f1: 0.890921 + 0.00101204\n",
      "[600]\tcv_agg's binary_logloss: 0.348858 + 0.00146633\tcv_agg's f1: 0.892338 + 0.000897722\n",
      "[800]\tcv_agg's binary_logloss: 0.346417 + 0.00153492\tcv_agg's f1: 0.893064 + 0.00112365\n",
      "[1000]\tcv_agg's binary_logloss: 0.344542 + 0.00160187\tcv_agg's f1: 0.893661 + 0.00138755\n",
      "[1200]\tcv_agg's binary_logloss: 0.343084 + 0.00166577\tcv_agg's f1: 0.89399 + 0.00120187\n",
      "[1400]\tcv_agg's binary_logloss: 0.341908 + 0.00171837\tcv_agg's f1: 0.894472 + 0.00128311\n",
      "[1600]\tcv_agg's binary_logloss: 0.341003 + 0.001726\tcv_agg's f1: 0.89483 + 0.00127479\n",
      "[1800]\tcv_agg's binary_logloss: 0.340265 + 0.00171683\tcv_agg's f1: 0.894916 + 0.00120323\n",
      "[2000]\tcv_agg's binary_logloss: 0.339684 + 0.00169469\tcv_agg's f1: 0.895136 + 0.00121328\n",
      "[2200]\tcv_agg's binary_logloss: 0.339184 + 0.00170022\tcv_agg's f1: 0.895163 + 0.00124483\n",
      "[2400]\tcv_agg's binary_logloss: 0.338708 + 0.00170112\tcv_agg's f1: 0.895362 + 0.00123701\n",
      "[2600]\tcv_agg's binary_logloss: 0.338297 + 0.00171088\tcv_agg's f1: 0.895488 + 0.001216\n",
      "[2800]\tcv_agg's binary_logloss: 0.338036 + 0.00170677\tcv_agg's f1: 0.895585 + 0.00123091\n",
      "[3000]\tcv_agg's binary_logloss: 0.337841 + 0.00171069\tcv_agg's f1: 0.895601 + 0.00114968\n",
      "[3200]\tcv_agg's binary_logloss: 0.33768 + 0.00170454\tcv_agg's f1: 0.895543 + 0.00109276\n",
      "[3400]\tcv_agg's binary_logloss: 0.337511 + 0.00169456\tcv_agg's f1: 0.895595 + 0.000993706\n",
      "[3600]\tcv_agg's binary_logloss: 0.337349 + 0.00168283\tcv_agg's f1: 0.895617 + 0.00105927\n",
      "[3800]\tcv_agg's binary_logloss: 0.337266 + 0.00165049\tcv_agg's f1: 0.895717 + 0.00105729\n",
      "[4000]\tcv_agg's binary_logloss: 0.337179 + 0.00167963\tcv_agg's f1: 0.895695 + 0.00106785\n",
      "[4200]\tcv_agg's binary_logloss: 0.337163 + 0.00167669\tcv_agg's f1: 0.89582 + 0.00103803\n",
      "[4400]\tcv_agg's binary_logloss: 0.337105 + 0.00161327\tcv_agg's f1: 0.895801 + 0.00106144\n",
      "[4600]\tcv_agg's binary_logloss: 0.337107 + 0.00164682\tcv_agg's f1: 0.895815 + 0.00103502\n",
      "[4800]\tcv_agg's binary_logloss: 0.337083 + 0.00166812\tcv_agg's f1: 0.895746 + 0.00112102\n",
      "[5000]\tcv_agg's binary_logloss: 0.337068 + 0.00168632\tcv_agg's f1: 0.895614 + 0.00112396\n",
      "[5200]\tcv_agg's binary_logloss: 0.33709 + 0.00169234\tcv_agg's f1: 0.895669 + 0.00104914\n",
      "| \u001b[0m 3       \u001b[0m | \u001b[0m 0.8959  \u001b[0m | \u001b[0m 0.4692  \u001b[0m | \u001b[0m 0.07827 \u001b[0m | \u001b[0m 4.064   \u001b[0m | \u001b[0m 33.8    \u001b[0m | \u001b[0m 229.0   \u001b[0m | \u001b[0m 0.09452 \u001b[0m | \u001b[0m 5.458e+0\u001b[0m | \u001b[0m 40.73   \u001b[0m | \u001b[0m 0.7937  \u001b[0m | \u001b[0m 2.323   \u001b[0m | \u001b[0m 0.7281  \u001b[0m |\n"
     ]
    },
    {
     "name": "stderr",
     "output_type": "stream",
     "text": [
      "C:\\Users\\alanl\\Anaconda3\\lib\\site-packages\\lightgbm\\engine.py:503: UserWarning: Found `n_estimators` in params. Will use it instead of argument\n",
      "  warnings.warn(\"Found `{}` in params. Will use it instead of argument\".format(alias))\n"
     ]
    },
    {
     "name": "stdout",
     "output_type": "stream",
     "text": [
      "[200]\tcv_agg's binary_logloss: 0.492508 + 0.000499381\tcv_agg's f1: 0.846334 + 0.000480467\n",
      "[400]\tcv_agg's binary_logloss: 0.436339 + 0.000755115\tcv_agg's f1: 0.879012 + 0.000621302\n",
      "[600]\tcv_agg's binary_logloss: 0.406833 + 0.000938152\tcv_agg's f1: 0.88366 + 0.000398729\n",
      "[800]\tcv_agg's binary_logloss: 0.390059 + 0.00106468\tcv_agg's f1: 0.88513 + 0.000838425\n",
      "[1000]\tcv_agg's binary_logloss: 0.379948 + 0.00117106\tcv_agg's f1: 0.885948 + 0.000969885\n",
      "[1200]\tcv_agg's binary_logloss: 0.373227 + 0.00124739\tcv_agg's f1: 0.886409 + 0.00102326\n",
      "[1400]\tcv_agg's binary_logloss: 0.36857 + 0.00129549\tcv_agg's f1: 0.887045 + 0.00105057\n",
      "[1600]\tcv_agg's binary_logloss: 0.365165 + 0.00133516\tcv_agg's f1: 0.887653 + 0.00104997\n",
      "[1800]\tcv_agg's binary_logloss: 0.362551 + 0.00137113\tcv_agg's f1: 0.888196 + 0.000840929\n",
      "[2000]\tcv_agg's binary_logloss: 0.360491 + 0.00139742\tcv_agg's f1: 0.888771 + 0.000851626\n",
      "[2200]\tcv_agg's binary_logloss: 0.358801 + 0.00142404\tcv_agg's f1: 0.889221 + 0.000803531\n",
      "[2400]\tcv_agg's binary_logloss: 0.357394 + 0.00145525\tcv_agg's f1: 0.889638 + 0.000845587\n",
      "[2600]\tcv_agg's binary_logloss: 0.356184 + 0.00148749\tcv_agg's f1: 0.88987 + 0.0010007\n",
      "[2800]\tcv_agg's binary_logloss: 0.355131 + 0.00151142\tcv_agg's f1: 0.890151 + 0.00101361\n",
      "[3000]\tcv_agg's binary_logloss: 0.354208 + 0.00153366\tcv_agg's f1: 0.890417 + 0.00093094\n",
      "[3200]\tcv_agg's binary_logloss: 0.353349 + 0.00154858\tcv_agg's f1: 0.890698 + 0.00096643\n",
      "[3400]\tcv_agg's binary_logloss: 0.352575 + 0.00156558\tcv_agg's f1: 0.890889 + 0.00100117\n",
      "[3600]\tcv_agg's binary_logloss: 0.351854 + 0.00157971\tcv_agg's f1: 0.891279 + 0.00107595\n",
      "[3800]\tcv_agg's binary_logloss: 0.351206 + 0.00159548\tcv_agg's f1: 0.891446 + 0.00108936\n",
      "[4000]\tcv_agg's binary_logloss: 0.350607 + 0.00161053\tcv_agg's f1: 0.89159 + 0.00109883\n",
      "[4200]\tcv_agg's binary_logloss: 0.350056 + 0.00163309\tcv_agg's f1: 0.891773 + 0.00106171\n",
      "[4400]\tcv_agg's binary_logloss: 0.349533 + 0.00164634\tcv_agg's f1: 0.891929 + 0.00101528\n",
      "[4600]\tcv_agg's binary_logloss: 0.349049 + 0.00165926\tcv_agg's f1: 0.89209 + 0.000914946\n",
      "[4800]\tcv_agg's binary_logloss: 0.348596 + 0.00166739\tcv_agg's f1: 0.892258 + 0.000938104\n",
      "[5000]\tcv_agg's binary_logloss: 0.348178 + 0.00167578\tcv_agg's f1: 0.892381 + 0.000939219\n",
      "[5200]\tcv_agg's binary_logloss: 0.347773 + 0.0016732\tcv_agg's f1: 0.892525 + 0.000995622\n",
      "[5400]\tcv_agg's binary_logloss: 0.347396 + 0.0016821\tcv_agg's f1: 0.892689 + 0.000981968\n",
      "[5600]\tcv_agg's binary_logloss: 0.347038 + 0.00168699\tcv_agg's f1: 0.892774 + 0.00104985\n",
      "[5800]\tcv_agg's binary_logloss: 0.346694 + 0.00168886\tcv_agg's f1: 0.89283 + 0.00105416\n",
      "[6000]\tcv_agg's binary_logloss: 0.346362 + 0.00169017\tcv_agg's f1: 0.892937 + 0.00104966\n",
      "[6200]\tcv_agg's binary_logloss: 0.346043 + 0.00168232\tcv_agg's f1: 0.893065 + 0.00112845\n",
      "[6400]\tcv_agg's binary_logloss: 0.345736 + 0.00168253\tcv_agg's f1: 0.89313 + 0.00114342\n",
      "[6600]\tcv_agg's binary_logloss: 0.345446 + 0.0016782\tcv_agg's f1: 0.893207 + 0.00111768\n",
      "[6800]\tcv_agg's binary_logloss: 0.345167 + 0.00167851\tcv_agg's f1: 0.893309 + 0.00109905\n",
      "| \u001b[0m 4       \u001b[0m | \u001b[0m 0.8934  \u001b[0m | \u001b[0m 0.5547  \u001b[0m | \u001b[0m 0.00286 \u001b[0m | \u001b[0m 8.559   \u001b[0m | \u001b[0m 32.54   \u001b[0m | \u001b[0m 655.2   \u001b[0m | \u001b[0m 0.09443 \u001b[0m | \u001b[0m 6.977e+0\u001b[0m | \u001b[0m 37.98   \u001b[0m | \u001b[0m 1.311   \u001b[0m | \u001b[0m 2.093   \u001b[0m | \u001b[0m 0.5301  \u001b[0m |\n"
     ]
    },
    {
     "name": "stderr",
     "output_type": "stream",
     "text": [
      "C:\\Users\\alanl\\Anaconda3\\lib\\site-packages\\lightgbm\\engine.py:503: UserWarning: Found `n_estimators` in params. Will use it instead of argument\n",
      "  warnings.warn(\"Found `{}` in params. Will use it instead of argument\".format(alias))\n"
     ]
    },
    {
     "name": "stdout",
     "output_type": "stream",
     "text": [
      "[200]\tcv_agg's binary_logloss: 0.356268 + 0.00139846\tcv_agg's f1: 0.889447 + 0.000829979\n",
      "[400]\tcv_agg's binary_logloss: 0.349229 + 0.00145513\tcv_agg's f1: 0.891951 + 0.000795397\n",
      "[600]\tcv_agg's binary_logloss: 0.34562 + 0.0013956\tcv_agg's f1: 0.892956 + 0.000991763\n",
      "[800]\tcv_agg's binary_logloss: 0.343234 + 0.00138384\tcv_agg's f1: 0.893739 + 0.000904236\n",
      "[1000]\tcv_agg's binary_logloss: 0.341563 + 0.00146517\tcv_agg's f1: 0.894333 + 0.00108476\n",
      "[1200]\tcv_agg's binary_logloss: 0.340267 + 0.00146207\tcv_agg's f1: 0.894657 + 0.00111927\n",
      "[1400]\tcv_agg's binary_logloss: 0.339307 + 0.00152269\tcv_agg's f1: 0.894991 + 0.000994228\n",
      "[1600]\tcv_agg's binary_logloss: 0.338541 + 0.00153812\tcv_agg's f1: 0.895309 + 0.00106802\n",
      "[1800]\tcv_agg's binary_logloss: 0.337986 + 0.00154682\tcv_agg's f1: 0.89548 + 0.00103662\n",
      "[2000]\tcv_agg's binary_logloss: 0.337494 + 0.00149293\tcv_agg's f1: 0.895664 + 0.000970423\n",
      "[2200]\tcv_agg's binary_logloss: 0.337197 + 0.00151853\tcv_agg's f1: 0.895811 + 0.000991372\n",
      "[2400]\tcv_agg's binary_logloss: 0.336947 + 0.00154164\tcv_agg's f1: 0.895754 + 0.00103036\n",
      "[2600]\tcv_agg's binary_logloss: 0.33677 + 0.00152407\tcv_agg's f1: 0.895811 + 0.000972079\n",
      "[2800]\tcv_agg's binary_logloss: 0.336626 + 0.0014879\tcv_agg's f1: 0.895832 + 0.000937349\n",
      "[3000]\tcv_agg's binary_logloss: 0.336486 + 0.00149801\tcv_agg's f1: 0.895862 + 0.000940451\n",
      "[3200]\tcv_agg's binary_logloss: 0.336486 + 0.00153315\tcv_agg's f1: 0.895864 + 0.001004\n",
      "| \u001b[0m 5       \u001b[0m | \u001b[0m 0.896   \u001b[0m | \u001b[0m 0.6334  \u001b[0m | \u001b[0m 0.06739 \u001b[0m | \u001b[0m 4.893   \u001b[0m | \u001b[0m 10.8    \u001b[0m | \u001b[0m 383.9   \u001b[0m | \u001b[0m 0.03701 \u001b[0m | \u001b[0m 5.917e+0\u001b[0m | \u001b[0m 41.93   \u001b[0m | \u001b[0m 2.965   \u001b[0m | \u001b[0m 0.3061  \u001b[0m | \u001b[0m 0.6044  \u001b[0m |\n"
     ]
    },
    {
     "name": "stderr",
     "output_type": "stream",
     "text": [
      "C:\\Users\\alanl\\Anaconda3\\lib\\site-packages\\lightgbm\\engine.py:503: UserWarning: Found `n_estimators` in params. Will use it instead of argument\n",
      "  warnings.warn(\"Found `{}` in params. Will use it instead of argument\".format(alias))\n"
     ]
    },
    {
     "name": "stdout",
     "output_type": "stream",
     "text": [
      "[200]\tcv_agg's binary_logloss: 0.359868 + 0.00172295\tcv_agg's f1: 0.889483 + 0.00116735\n",
      "[400]\tcv_agg's binary_logloss: 0.350169 + 0.00172392\tcv_agg's f1: 0.892082 + 0.00102168\n",
      "| \u001b[0m 6       \u001b[0m | \u001b[0m 0.8928  \u001b[0m | \u001b[0m 0.1697  \u001b[0m | \u001b[0m 0.05383 \u001b[0m | \u001b[0m 5.632   \u001b[0m | \u001b[0m 30.4    \u001b[0m | \u001b[0m 113.3   \u001b[0m | \u001b[0m 0.07568 \u001b[0m | \u001b[0m 501.9   \u001b[0m | \u001b[0m 31.78   \u001b[0m | \u001b[0m 0.3356  \u001b[0m | \u001b[0m 0.8274  \u001b[0m | \u001b[0m 0.6573  \u001b[0m |\n"
     ]
    },
    {
     "name": "stderr",
     "output_type": "stream",
     "text": [
      "C:\\Users\\alanl\\Anaconda3\\lib\\site-packages\\lightgbm\\engine.py:503: UserWarning: Found `n_estimators` in params. Will use it instead of argument\n",
      "  warnings.warn(\"Found `{}` in params. Will use it instead of argument\".format(alias))\n"
     ]
    },
    {
     "name": "stdout",
     "output_type": "stream",
     "text": [
      "[200]\tcv_agg's binary_logloss: 0.354646 + 0.00135837\tcv_agg's f1: 0.890219 + 0.000980656\n",
      "[400]\tcv_agg's binary_logloss: 0.347898 + 0.00155769\tcv_agg's f1: 0.892657 + 0.0012651\n",
      "[600]\tcv_agg's binary_logloss: 0.344373 + 0.00161207\tcv_agg's f1: 0.89345 + 0.00111553\n",
      "[800]\tcv_agg's binary_logloss: 0.342157 + 0.00162038\tcv_agg's f1: 0.894314 + 0.00110986\n",
      "[1000]\tcv_agg's binary_logloss: 0.340599 + 0.00167585\tcv_agg's f1: 0.894828 + 0.00125006\n",
      "[1200]\tcv_agg's binary_logloss: 0.339539 + 0.00165008\tcv_agg's f1: 0.894963 + 0.0013038\n",
      "[1400]\tcv_agg's binary_logloss: 0.338687 + 0.00160075\tcv_agg's f1: 0.895249 + 0.00130668\n",
      "[1600]\tcv_agg's binary_logloss: 0.338105 + 0.00163272\tcv_agg's f1: 0.895424 + 0.00118032\n",
      "[1800]\tcv_agg's binary_logloss: 0.337681 + 0.00169175\tcv_agg's f1: 0.895534 + 0.00119697\n",
      "[2000]\tcv_agg's binary_logloss: 0.337274 + 0.00173668\tcv_agg's f1: 0.895618 + 0.00114664\n",
      "[2200]\tcv_agg's binary_logloss: 0.337026 + 0.00179764\tcv_agg's f1: 0.895725 + 0.00117632\n",
      "[2400]\tcv_agg's binary_logloss: 0.336835 + 0.00180609\tcv_agg's f1: 0.895825 + 0.00123223\n",
      "[2600]\tcv_agg's binary_logloss: 0.336715 + 0.00179047\tcv_agg's f1: 0.895827 + 0.00127701\n",
      "[2800]\tcv_agg's binary_logloss: 0.336712 + 0.00173837\tcv_agg's f1: 0.895758 + 0.00116299\n",
      "[3000]\tcv_agg's binary_logloss: 0.336691 + 0.0017088\tcv_agg's f1: 0.895738 + 0.00103053\n",
      "[3200]\tcv_agg's binary_logloss: 0.336718 + 0.00171759\tcv_agg's f1: 0.895734 + 0.00106528\n",
      "[3400]\tcv_agg's binary_logloss: 0.336724 + 0.00170648\tcv_agg's f1: 0.89569 + 0.000986911\n",
      "[3600]\tcv_agg's binary_logloss: 0.33673 + 0.00170707\tcv_agg's f1: 0.895705 + 0.000994214\n",
      "[3800]\tcv_agg's binary_logloss: 0.33673 + 0.00170707\tcv_agg's f1: 0.895705 + 0.000994214\n",
      "| \u001b[0m 7       \u001b[0m | \u001b[0m 0.8959  \u001b[0m | \u001b[0m 0.7014  \u001b[0m | \u001b[0m 0.07603 \u001b[0m | \u001b[0m 4.506   \u001b[0m | \u001b[0m 47.76   \u001b[0m | \u001b[0m 104.6   \u001b[0m | \u001b[0m 0.09867 \u001b[0m | \u001b[0m 9.953e+0\u001b[0m | \u001b[0m 63.19   \u001b[0m | \u001b[0m 2.234   \u001b[0m | \u001b[0m 0.8986  \u001b[0m | \u001b[0m 0.9805  \u001b[0m |\n"
     ]
    },
    {
     "name": "stderr",
     "output_type": "stream",
     "text": [
      "C:\\Users\\alanl\\Anaconda3\\lib\\site-packages\\lightgbm\\engine.py:503: UserWarning: Found `n_estimators` in params. Will use it instead of argument\n",
      "  warnings.warn(\"Found `{}` in params. Will use it instead of argument\".format(alias))\n"
     ]
    },
    {
     "name": "stdout",
     "output_type": "stream",
     "text": [
      "[200]\tcv_agg's binary_logloss: 0.377484 + 0.00120164\tcv_agg's f1: 0.886389 + 0.00095435\n",
      "[400]\tcv_agg's binary_logloss: 0.360111 + 0.00142781\tcv_agg's f1: 0.889056 + 0.00109503\n",
      "[600]\tcv_agg's binary_logloss: 0.354315 + 0.00152118\tcv_agg's f1: 0.890766 + 0.00113453\n",
      "[800]\tcv_agg's binary_logloss: 0.350996 + 0.00155014\tcv_agg's f1: 0.891729 + 0.00108252\n",
      "[1000]\tcv_agg's binary_logloss: 0.348757 + 0.00159322\tcv_agg's f1: 0.892481 + 0.00111172\n",
      "[1200]\tcv_agg's binary_logloss: 0.347052 + 0.00161526\tcv_agg's f1: 0.892891 + 0.0011786\n",
      "[1400]\tcv_agg's binary_logloss: 0.345718 + 0.00159847\tcv_agg's f1: 0.893311 + 0.00119367\n",
      "[1600]\tcv_agg's binary_logloss: 0.34461 + 0.00160828\tcv_agg's f1: 0.893769 + 0.00124345\n",
      "[1800]\tcv_agg's binary_logloss: 0.343647 + 0.00159754\tcv_agg's f1: 0.894122 + 0.00118651\n",
      "[2000]\tcv_agg's binary_logloss: 0.342789 + 0.00159134\tcv_agg's f1: 0.894447 + 0.00117406\n",
      "[2200]\tcv_agg's binary_logloss: 0.342021 + 0.00163677\tcv_agg's f1: 0.8946 + 0.00120306\n",
      "[2400]\tcv_agg's binary_logloss: 0.341378 + 0.00167077\tcv_agg's f1: 0.894733 + 0.00119653\n",
      "[2600]\tcv_agg's binary_logloss: 0.340786 + 0.00170531\tcv_agg's f1: 0.894878 + 0.00122998\n",
      "[2800]\tcv_agg's binary_logloss: 0.340277 + 0.00171283\tcv_agg's f1: 0.894953 + 0.00123591\n",
      "[3000]\tcv_agg's binary_logloss: 0.339784 + 0.0017318\tcv_agg's f1: 0.895127 + 0.0012754\n",
      "[3200]\tcv_agg's binary_logloss: 0.339355 + 0.00171134\tcv_agg's f1: 0.895267 + 0.00131683\n",
      "[3400]\tcv_agg's binary_logloss: 0.338941 + 0.00166153\tcv_agg's f1: 0.895434 + 0.001288\n",
      "[3600]\tcv_agg's binary_logloss: 0.338534 + 0.00163869\tcv_agg's f1: 0.895474 + 0.00119472\n",
      "[3800]\tcv_agg's binary_logloss: 0.33818 + 0.00165276\tcv_agg's f1: 0.895509 + 0.00118503\n",
      "[4000]\tcv_agg's binary_logloss: 0.337851 + 0.00166125\tcv_agg's f1: 0.895647 + 0.00125592\n",
      "[4200]\tcv_agg's binary_logloss: 0.337554 + 0.00168506\tcv_agg's f1: 0.895719 + 0.00129003\n",
      "[4400]\tcv_agg's binary_logloss: 0.337258 + 0.00167546\tcv_agg's f1: 0.895852 + 0.00133779\n",
      "[4600]\tcv_agg's binary_logloss: 0.33699 + 0.00168775\tcv_agg's f1: 0.895951 + 0.00131043\n",
      "[4800]\tcv_agg's binary_logloss: 0.336746 + 0.00165352\tcv_agg's f1: 0.896042 + 0.00135934\n",
      "[5000]\tcv_agg's binary_logloss: 0.33654 + 0.00165561\tcv_agg's f1: 0.896099 + 0.00136608\n",
      "[5200]\tcv_agg's binary_logloss: 0.336326 + 0.00162086\tcv_agg's f1: 0.896143 + 0.0012942\n",
      "[5400]\tcv_agg's binary_logloss: 0.336149 + 0.0016217\tcv_agg's f1: 0.896219 + 0.00128935\n",
      "[5600]\tcv_agg's binary_logloss: 0.335982 + 0.00161821\tcv_agg's f1: 0.896251 + 0.00125444\n",
      "| \u001b[0m 8       \u001b[0m | \u001b[0m 0.8963  \u001b[0m | \u001b[0m 0.4227  \u001b[0m | \u001b[0m 0.01701 \u001b[0m | \u001b[0m 6.125   \u001b[0m | \u001b[0m 14.79   \u001b[0m | \u001b[0m 108.7   \u001b[0m | \u001b[0m 0.07052 \u001b[0m | \u001b[0m 5.609e+0\u001b[0m | \u001b[0m 67.5    \u001b[0m | \u001b[0m 1.528   \u001b[0m | \u001b[0m 2.84    \u001b[0m | \u001b[0m 0.6563  \u001b[0m |\n"
     ]
    },
    {
     "name": "stderr",
     "output_type": "stream",
     "text": [
      "C:\\Users\\alanl\\Anaconda3\\lib\\site-packages\\lightgbm\\engine.py:503: UserWarning: Found `n_estimators` in params. Will use it instead of argument\n",
      "  warnings.warn(\"Found `{}` in params. Will use it instead of argument\".format(alias))\n"
     ]
    },
    {
     "name": "stdout",
     "output_type": "stream",
     "text": [
      "[200]\tcv_agg's binary_logloss: 0.362496 + 0.00141365\tcv_agg's f1: 0.888143 + 0.00107217\n",
      "[400]\tcv_agg's binary_logloss: 0.352112 + 0.00166047\tcv_agg's f1: 0.891068 + 0.00105859\n",
      "[600]\tcv_agg's binary_logloss: 0.347916 + 0.00168054\tcv_agg's f1: 0.892414 + 0.00108288\n",
      "[800]\tcv_agg's binary_logloss: 0.345608 + 0.00168341\tcv_agg's f1: 0.893235 + 0.00106218\n",
      "[1000]\tcv_agg's binary_logloss: 0.343983 + 0.00163926\tcv_agg's f1: 0.893707 + 0.00110729\n",
      "[1200]\tcv_agg's binary_logloss: 0.342712 + 0.0016736\tcv_agg's f1: 0.894046 + 0.00120022\n",
      "[1400]\tcv_agg's binary_logloss: 0.341729 + 0.00169838\tcv_agg's f1: 0.894345 + 0.00121376\n",
      "[1600]\tcv_agg's binary_logloss: 0.34088 + 0.00168208\tcv_agg's f1: 0.894551 + 0.00123632\n",
      "[1800]\tcv_agg's binary_logloss: 0.340159 + 0.00169784\tcv_agg's f1: 0.894803 + 0.00116919\n",
      "[2000]\tcv_agg's binary_logloss: 0.339494 + 0.00169161\tcv_agg's f1: 0.894933 + 0.00122977\n",
      "[2200]\tcv_agg's binary_logloss: 0.338939 + 0.00169043\tcv_agg's f1: 0.89514 + 0.00121813\n",
      "[2400]\tcv_agg's binary_logloss: 0.338434 + 0.00165784\tcv_agg's f1: 0.895335 + 0.00131891\n",
      "[2600]\tcv_agg's binary_logloss: 0.337968 + 0.00167416\tcv_agg's f1: 0.895587 + 0.00128796\n",
      "[2800]\tcv_agg's binary_logloss: 0.337551 + 0.00168483\tcv_agg's f1: 0.895674 + 0.00125845\n",
      "[3000]\tcv_agg's binary_logloss: 0.337236 + 0.00170347\tcv_agg's f1: 0.895774 + 0.00123873\n",
      "[3200]\tcv_agg's binary_logloss: 0.33696 + 0.00171331\tcv_agg's f1: 0.895964 + 0.00124032\n",
      "[3400]\tcv_agg's binary_logloss: 0.336671 + 0.00172671\tcv_agg's f1: 0.896013 + 0.00119486\n",
      "[3600]\tcv_agg's binary_logloss: 0.33643 + 0.00171415\tcv_agg's f1: 0.896122 + 0.00120173\n",
      "[3800]\tcv_agg's binary_logloss: 0.33619 + 0.00166644\tcv_agg's f1: 0.896149 + 0.00128032\n",
      "[4000]\tcv_agg's binary_logloss: 0.33601 + 0.00168569\tcv_agg's f1: 0.896205 + 0.00125673\n",
      "[4200]\tcv_agg's binary_logloss: 0.335829 + 0.00168507\tcv_agg's f1: 0.896317 + 0.00127203\n",
      "[4400]\tcv_agg's binary_logloss: 0.335667 + 0.0016732\tcv_agg's f1: 0.896237 + 0.00127166\n",
      "[4600]\tcv_agg's binary_logloss: 0.33551 + 0.0016648\tcv_agg's f1: 0.896286 + 0.0013512\n",
      "[4800]\tcv_agg's binary_logloss: 0.335388 + 0.00168839\tcv_agg's f1: 0.896322 + 0.00134939\n",
      "[5000]\tcv_agg's binary_logloss: 0.335302 + 0.00168972\tcv_agg's f1: 0.89638 + 0.00128259\n",
      "[5200]\tcv_agg's binary_logloss: 0.33521 + 0.00171558\tcv_agg's f1: 0.896399 + 0.00125097\n",
      "[5400]\tcv_agg's binary_logloss: 0.335116 + 0.00174236\tcv_agg's f1: 0.896414 + 0.00122623\n",
      "[5600]\tcv_agg's binary_logloss: 0.335029 + 0.00176041\tcv_agg's f1: 0.896307 + 0.001295\n",
      "[5800]\tcv_agg's binary_logloss: 0.334971 + 0.00175457\tcv_agg's f1: 0.896341 + 0.00130269\n",
      "[6000]\tcv_agg's binary_logloss: 0.334935 + 0.00174525\tcv_agg's f1: 0.896375 + 0.0013333\n",
      "[6200]\tcv_agg's binary_logloss: 0.334872 + 0.00174796\tcv_agg's f1: 0.896513 + 0.00122455\n",
      "[6400]\tcv_agg's binary_logloss: 0.334845 + 0.00176112\tcv_agg's f1: 0.896527 + 0.0013295\n",
      "[6600]\tcv_agg's binary_logloss: 0.334809 + 0.00178208\tcv_agg's f1: 0.896455 + 0.00130848\n",
      "[6800]\tcv_agg's binary_logloss: 0.334788 + 0.00180883\tcv_agg's f1: 0.896462 + 0.00138025\n",
      "[7000]\tcv_agg's binary_logloss: 0.334754 + 0.00180072\tcv_agg's f1: 0.896464 + 0.00133247\n",
      "[7200]\tcv_agg's binary_logloss: 0.33474 + 0.00179804\tcv_agg's f1: 0.896443 + 0.00137893\n",
      "[7400]\tcv_agg's binary_logloss: 0.334754 + 0.00177697\tcv_agg's f1: 0.896393 + 0.00131581\n",
      "| \u001b[0m 9       \u001b[0m | \u001b[0m 0.8965  \u001b[0m | \u001b[0m 0.5942  \u001b[0m | \u001b[0m 0.02809 \u001b[0m | \u001b[0m 9.398   \u001b[0m | \u001b[0m 13.51   \u001b[0m | \u001b[0m 105.8   \u001b[0m | \u001b[0m 0.08028 \u001b[0m | \u001b[0m 8.462e+0\u001b[0m | \u001b[0m 28.77   \u001b[0m | \u001b[0m 1.011   \u001b[0m | \u001b[0m 2.275   \u001b[0m | \u001b[0m 0.9506  \u001b[0m |\n"
     ]
    },
    {
     "name": "stderr",
     "output_type": "stream",
     "text": [
      "C:\\Users\\alanl\\Anaconda3\\lib\\site-packages\\lightgbm\\engine.py:503: UserWarning: Found `n_estimators` in params. Will use it instead of argument\n",
      "  warnings.warn(\"Found `{}` in params. Will use it instead of argument\".format(alias))\n"
     ]
    },
    {
     "name": "stdout",
     "output_type": "stream",
     "text": [
      "[200]\tcv_agg's binary_logloss: 0.355284 + 0.00148845\tcv_agg's f1: 0.889896 + 0.00114211\n",
      "[400]\tcv_agg's binary_logloss: 0.348479 + 0.00141666\tcv_agg's f1: 0.892023 + 0.00104693\n",
      "[600]\tcv_agg's binary_logloss: 0.345287 + 0.00145542\tcv_agg's f1: 0.893098 + 0.00105676\n",
      "[800]\tcv_agg's binary_logloss: 0.343178 + 0.00145298\tcv_agg's f1: 0.893682 + 0.000986085\n",
      "[1000]\tcv_agg's binary_logloss: 0.341623 + 0.00153644\tcv_agg's f1: 0.894307 + 0.00089987\n",
      "[1200]\tcv_agg's binary_logloss: 0.340461 + 0.0015486\tcv_agg's f1: 0.894752 + 0.000978789\n",
      "[1400]\tcv_agg's binary_logloss: 0.339593 + 0.00157633\tcv_agg's f1: 0.895029 + 0.000931698\n",
      "[1600]\tcv_agg's binary_logloss: 0.338896 + 0.00166994\tcv_agg's f1: 0.895403 + 0.000865239\n",
      "[1800]\tcv_agg's binary_logloss: 0.338311 + 0.00171723\tcv_agg's f1: 0.895551 + 0.000881012\n",
      "[2000]\tcv_agg's binary_logloss: 0.337844 + 0.00174969\tcv_agg's f1: 0.895651 + 0.000875962\n",
      "[2200]\tcv_agg's binary_logloss: 0.337445 + 0.00175583\tcv_agg's f1: 0.895762 + 0.000734567\n",
      "[2400]\tcv_agg's binary_logloss: 0.337128 + 0.0017006\tcv_agg's f1: 0.895798 + 0.000633603\n",
      "[2600]\tcv_agg's binary_logloss: 0.336951 + 0.00173118\tcv_agg's f1: 0.895857 + 0.000677311\n",
      "[2800]\tcv_agg's binary_logloss: 0.336728 + 0.00174699\tcv_agg's f1: 0.895831 + 0.000764691\n",
      "[3000]\tcv_agg's binary_logloss: 0.336566 + 0.00175507\tcv_agg's f1: 0.895935 + 0.000735905\n",
      "[3200]\tcv_agg's binary_logloss: 0.336481 + 0.00169627\tcv_agg's f1: 0.895939 + 0.000700071\n",
      "[3400]\tcv_agg's binary_logloss: 0.336434 + 0.00165288\tcv_agg's f1: 0.895887 + 0.000780444\n",
      "[3600]\tcv_agg's binary_logloss: 0.336373 + 0.00165681\tcv_agg's f1: 0.895889 + 0.000679147\n",
      "[3800]\tcv_agg's binary_logloss: 0.336386 + 0.00159611\tcv_agg's f1: 0.895939 + 0.000620904\n",
      "[4000]\tcv_agg's binary_logloss: 0.336339 + 0.00155771\tcv_agg's f1: 0.895852 + 0.000714186\n",
      "[4200]\tcv_agg's binary_logloss: 0.336366 + 0.00154409\tcv_agg's f1: 0.895939 + 0.000638528\n",
      "| \u001b[0m 10      \u001b[0m | \u001b[0m 0.896   \u001b[0m | \u001b[0m 0.8731  \u001b[0m | \u001b[0m 0.05683 \u001b[0m | \u001b[0m 11.75   \u001b[0m | \u001b[0m 48.74   \u001b[0m | \u001b[0m 103.5   \u001b[0m | \u001b[0m 0.09888 \u001b[0m | \u001b[0m 6.297e+0\u001b[0m | \u001b[0m 21.33   \u001b[0m | \u001b[0m 1.301   \u001b[0m | \u001b[0m 0.2397  \u001b[0m | \u001b[0m 0.8642  \u001b[0m |\n"
     ]
    },
    {
     "name": "stderr",
     "output_type": "stream",
     "text": [
      "C:\\Users\\alanl\\Anaconda3\\lib\\site-packages\\lightgbm\\engine.py:503: UserWarning: Found `n_estimators` in params. Will use it instead of argument\n",
      "  warnings.warn(\"Found `{}` in params. Will use it instead of argument\".format(alias))\n"
     ]
    },
    {
     "name": "stdout",
     "output_type": "stream",
     "text": [
      "[200]\tcv_agg's binary_logloss: 0.3464 + 0.00182548\tcv_agg's f1: 0.893466 + 0.00109164\n",
      "[400]\tcv_agg's binary_logloss: 0.340841 + 0.00180159\tcv_agg's f1: 0.89486 + 0.00114615\n",
      "[600]\tcv_agg's binary_logloss: 0.338425 + 0.00166243\tcv_agg's f1: 0.89559 + 0.00110082\n",
      "[800]\tcv_agg's binary_logloss: 0.337062 + 0.00167695\tcv_agg's f1: 0.895888 + 0.00125261\n",
      "[1000]\tcv_agg's binary_logloss: 0.336161 + 0.00170089\tcv_agg's f1: 0.896174 + 0.00110554\n",
      "[1200]\tcv_agg's binary_logloss: 0.335659 + 0.00171763\tcv_agg's f1: 0.896347 + 0.00126266\n",
      "[1400]\tcv_agg's binary_logloss: 0.335483 + 0.0017542\tcv_agg's f1: 0.896328 + 0.00127611\n",
      "[1600]\tcv_agg's binary_logloss: 0.335386 + 0.00178235\tcv_agg's f1: 0.896424 + 0.00122212\n",
      "[1800]\tcv_agg's binary_logloss: 0.335436 + 0.00173999\tcv_agg's f1: 0.896499 + 0.00111224\n",
      "[2000]\tcv_agg's binary_logloss: 0.335582 + 0.00173749\tcv_agg's f1: 0.896501 + 0.000954195\n",
      "[2200]\tcv_agg's binary_logloss: 0.3359 + 0.00175983\tcv_agg's f1: 0.896417 + 0.000981951\n",
      "[2400]\tcv_agg's binary_logloss: 0.336226 + 0.00177809\tcv_agg's f1: 0.896311 + 0.00108472\n",
      "[2600]\tcv_agg's binary_logloss: 0.33657 + 0.00181693\tcv_agg's f1: 0.896293 + 0.00105081\n",
      "| \u001b[0m 11      \u001b[0m | \u001b[0m 0.8966  \u001b[0m | \u001b[0m 0.3726  \u001b[0m | \u001b[0m 0.06309 \u001b[0m | \u001b[0m 9.175   \u001b[0m | \u001b[0m 9.117   \u001b[0m | \u001b[0m 100.1   \u001b[0m | \u001b[0m 0.08334 \u001b[0m | \u001b[0m 4.661e+0\u001b[0m | \u001b[0m 67.8    \u001b[0m | \u001b[0m 0.8311  \u001b[0m | \u001b[0m 1.794   \u001b[0m | \u001b[0m 0.9594  \u001b[0m |\n"
     ]
    },
    {
     "name": "stderr",
     "output_type": "stream",
     "text": [
      "C:\\Users\\alanl\\Anaconda3\\lib\\site-packages\\lightgbm\\engine.py:503: UserWarning: Found `n_estimators` in params. Will use it instead of argument\n",
      "  warnings.warn(\"Found `{}` in params. Will use it instead of argument\".format(alias))\n"
     ]
    },
    {
     "name": "stdout",
     "output_type": "stream",
     "text": [
      "[200]\tcv_agg's binary_logloss: 0.353552 + 0.00163033\tcv_agg's f1: 0.89139 + 0.00119248\n",
      "[400]\tcv_agg's binary_logloss: 0.345109 + 0.00160247\tcv_agg's f1: 0.893697 + 0.00111031\n",
      "[600]\tcv_agg's binary_logloss: 0.341578 + 0.00159743\tcv_agg's f1: 0.894668 + 0.00118366\n",
      "[800]\tcv_agg's binary_logloss: 0.339503 + 0.00164315\tcv_agg's f1: 0.895438 + 0.00116166\n",
      "[1000]\tcv_agg's binary_logloss: 0.338053 + 0.00163128\tcv_agg's f1: 0.895621 + 0.00119599\n",
      "[1200]\tcv_agg's binary_logloss: 0.337053 + 0.00156513\tcv_agg's f1: 0.896 + 0.00118023\n",
      "[1400]\tcv_agg's binary_logloss: 0.336242 + 0.00155723\tcv_agg's f1: 0.896148 + 0.00124735\n",
      "[1600]\tcv_agg's binary_logloss: 0.335742 + 0.00157185\tcv_agg's f1: 0.8963 + 0.00110575\n",
      "[1800]\tcv_agg's binary_logloss: 0.33522 + 0.00159011\tcv_agg's f1: 0.896479 + 0.0012267\n",
      "[2000]\tcv_agg's binary_logloss: 0.334916 + 0.00158111\tcv_agg's f1: 0.896562 + 0.00112789\n",
      "[2200]\tcv_agg's binary_logloss: 0.334628 + 0.00161061\tcv_agg's f1: 0.896543 + 0.00106103\n",
      "[2400]\tcv_agg's binary_logloss: 0.334443 + 0.00163421\tcv_agg's f1: 0.89664 + 0.00101863\n",
      "[2600]\tcv_agg's binary_logloss: 0.334318 + 0.00167357\tcv_agg's f1: 0.896769 + 0.0010354\n",
      "[2800]\tcv_agg's binary_logloss: 0.334247 + 0.00166167\tcv_agg's f1: 0.896737 + 0.000876786\n",
      "[3000]\tcv_agg's binary_logloss: 0.334266 + 0.00167502\tcv_agg's f1: 0.896658 + 0.000711532\n",
      "[3200]\tcv_agg's binary_logloss: 0.334299 + 0.00167406\tcv_agg's f1: 0.896644 + 0.000731454\n",
      "[3400]\tcv_agg's binary_logloss: 0.334355 + 0.00173266\tcv_agg's f1: 0.896655 + 0.000634731\n",
      "[3600]\tcv_agg's binary_logloss: 0.334441 + 0.00173943\tcv_agg's f1: 0.896745 + 0.000679047\n",
      "| \u001b[95m 12      \u001b[0m | \u001b[95m 0.8968  \u001b[0m | \u001b[95m 0.4008  \u001b[0m | \u001b[95m 0.03616 \u001b[0m | \u001b[95m 8.128   \u001b[0m | \u001b[95m 8.65    \u001b[0m | \u001b[95m 110.1   \u001b[0m | \u001b[95m 0.06095 \u001b[0m | \u001b[95m 9.924e+0\u001b[0m | \u001b[95m 69.3    \u001b[0m | \u001b[95m 1.631   \u001b[0m | \u001b[95m 0.05826 \u001b[0m | \u001b[95m 0.8351  \u001b[0m |\n"
     ]
    },
    {
     "name": "stderr",
     "output_type": "stream",
     "text": [
      "C:\\Users\\alanl\\Anaconda3\\lib\\site-packages\\lightgbm\\engine.py:503: UserWarning: Found `n_estimators` in params. Will use it instead of argument\n",
      "  warnings.warn(\"Found `{}` in params. Will use it instead of argument\".format(alias))\n"
     ]
    },
    {
     "name": "stdout",
     "output_type": "stream",
     "text": [
      "[200]\tcv_agg's binary_logloss: 0.343233 + 0.00155987\tcv_agg's f1: 0.89422 + 0.000965325\n",
      "[400]\tcv_agg's binary_logloss: 0.338852 + 0.00143665\tcv_agg's f1: 0.895441 + 0.000792942\n",
      "[600]\tcv_agg's binary_logloss: 0.337327 + 0.00133962\tcv_agg's f1: 0.895784 + 0.00089747\n",
      "[800]\tcv_agg's binary_logloss: 0.336739 + 0.00134314\tcv_agg's f1: 0.895823 + 0.000960232\n",
      "[1000]\tcv_agg's binary_logloss: 0.336587 + 0.00135313\tcv_agg's f1: 0.896045 + 0.000931581\n",
      "[1200]\tcv_agg's binary_logloss: 0.336668 + 0.00152295\tcv_agg's f1: 0.89599 + 0.000969296\n",
      "[1400]\tcv_agg's binary_logloss: 0.336881 + 0.00165018\tcv_agg's f1: 0.896009 + 0.00101602\n",
      "[1600]\tcv_agg's binary_logloss: 0.337294 + 0.00181332\tcv_agg's f1: 0.896058 + 0.00103103\n",
      "[1800]\tcv_agg's binary_logloss: 0.337764 + 0.00181394\tcv_agg's f1: 0.895956 + 0.00098935\n",
      "| \u001b[0m 13      \u001b[0m | \u001b[0m 0.8961  \u001b[0m | \u001b[0m 0.25    \u001b[0m | \u001b[0m 0.0958  \u001b[0m | \u001b[0m 11.57   \u001b[0m | \u001b[0m 12.09   \u001b[0m | \u001b[0m 112.0   \u001b[0m | \u001b[0m 0.07198 \u001b[0m | \u001b[0m 6.704e+0\u001b[0m | \u001b[0m 68.06   \u001b[0m | \u001b[0m 1.913   \u001b[0m | \u001b[0m 2.803   \u001b[0m | \u001b[0m 0.5696  \u001b[0m |\n"
     ]
    },
    {
     "name": "stderr",
     "output_type": "stream",
     "text": [
      "C:\\Users\\alanl\\Anaconda3\\lib\\site-packages\\lightgbm\\engine.py:503: UserWarning: Found `n_estimators` in params. Will use it instead of argument\n",
      "  warnings.warn(\"Found `{}` in params. Will use it instead of argument\".format(alias))\n"
     ]
    },
    {
     "name": "stdout",
     "output_type": "stream",
     "text": [
      "[200]\tcv_agg's binary_logloss: 0.357283 + 0.00149485\tcv_agg's f1: 0.889606 + 0.00103418\n",
      "[400]\tcv_agg's binary_logloss: 0.348668 + 0.00169404\tcv_agg's f1: 0.892048 + 0.00113077\n",
      "[600]\tcv_agg's binary_logloss: 0.345078 + 0.00175956\tcv_agg's f1: 0.893235 + 0.00112823\n",
      "[800]\tcv_agg's binary_logloss: 0.342732 + 0.00172983\tcv_agg's f1: 0.894017 + 0.00108616\n",
      "[1000]\tcv_agg's binary_logloss: 0.341196 + 0.00170308\tcv_agg's f1: 0.894528 + 0.00112742\n",
      "[1200]\tcv_agg's binary_logloss: 0.339985 + 0.00167095\tcv_agg's f1: 0.894856 + 0.0011636\n",
      "[1400]\tcv_agg's binary_logloss: 0.33907 + 0.00162517\tcv_agg's f1: 0.895227 + 0.00105883\n",
      "[1600]\tcv_agg's binary_logloss: 0.338304 + 0.0016376\tcv_agg's f1: 0.89543 + 0.00112857\n",
      "[1800]\tcv_agg's binary_logloss: 0.337724 + 0.0016614\tcv_agg's f1: 0.895567 + 0.00119921\n",
      "[2000]\tcv_agg's binary_logloss: 0.337208 + 0.00165211\tcv_agg's f1: 0.895844 + 0.00120943\n",
      "[2200]\tcv_agg's binary_logloss: 0.336871 + 0.00165364\tcv_agg's f1: 0.895929 + 0.00118257\n",
      "[2400]\tcv_agg's binary_logloss: 0.33654 + 0.00165332\tcv_agg's f1: 0.895947 + 0.00125815\n",
      "[2600]\tcv_agg's binary_logloss: 0.33627 + 0.0016453\tcv_agg's f1: 0.896014 + 0.00116399\n",
      "[2800]\tcv_agg's binary_logloss: 0.336008 + 0.00162932\tcv_agg's f1: 0.896006 + 0.00111066\n",
      "[3000]\tcv_agg's binary_logloss: 0.335788 + 0.00161003\tcv_agg's f1: 0.896103 + 0.00116716\n",
      "[3200]\tcv_agg's binary_logloss: 0.335599 + 0.00160011\tcv_agg's f1: 0.896147 + 0.00104468\n",
      "[3400]\tcv_agg's binary_logloss: 0.335434 + 0.00156867\tcv_agg's f1: 0.896229 + 0.000955748\n",
      "[3600]\tcv_agg's binary_logloss: 0.335316 + 0.00157357\tcv_agg's f1: 0.896236 + 0.00087103\n",
      "[3800]\tcv_agg's binary_logloss: 0.335265 + 0.00158492\tcv_agg's f1: 0.896324 + 0.000871433\n",
      "[4000]\tcv_agg's binary_logloss: 0.3352 + 0.00158462\tcv_agg's f1: 0.896381 + 0.000833909\n",
      "[4200]\tcv_agg's binary_logloss: 0.335144 + 0.00157188\tcv_agg's f1: 0.896495 + 0.00090763\n",
      "[4400]\tcv_agg's binary_logloss: 0.335108 + 0.00156748\tcv_agg's f1: 0.896411 + 0.0008224\n",
      "[4600]\tcv_agg's binary_logloss: 0.33507 + 0.00156328\tcv_agg's f1: 0.896376 + 0.000856851\n",
      "[4800]\tcv_agg's binary_logloss: 0.335086 + 0.00156681\tcv_agg's f1: 0.896371 + 0.00085772\n",
      "[5000]\tcv_agg's binary_logloss: 0.335104 + 0.00154406\tcv_agg's f1: 0.896343 + 0.000893826\n",
      "| \u001b[0m 14      \u001b[0m | \u001b[0m 0.8965  \u001b[0m | \u001b[0m 0.6403  \u001b[0m | \u001b[0m 0.02831 \u001b[0m | \u001b[0m 8.594   \u001b[0m | \u001b[0m 11.64   \u001b[0m | \u001b[0m 934.7   \u001b[0m | \u001b[0m 0.09528 \u001b[0m | \u001b[0m 9.97e+03\u001b[0m | \u001b[0m 69.31   \u001b[0m | \u001b[0m 0.5669  \u001b[0m | \u001b[0m 0.9877  \u001b[0m | \u001b[0m 0.6827  \u001b[0m |\n"
     ]
    },
    {
     "name": "stderr",
     "output_type": "stream",
     "text": [
      "C:\\Users\\alanl\\Anaconda3\\lib\\site-packages\\lightgbm\\engine.py:503: UserWarning: Found `n_estimators` in params. Will use it instead of argument\n",
      "  warnings.warn(\"Found `{}` in params. Will use it instead of argument\".format(alias))\n"
     ]
    },
    {
     "name": "stdout",
     "output_type": "stream",
     "text": [
      "[200]\tcv_agg's binary_logloss: 0.365796 + 0.00154761\tcv_agg's f1: 0.88644 + 0.000938518\n",
      "[400]\tcv_agg's binary_logloss: 0.358196 + 0.00155414\tcv_agg's f1: 0.888951 + 0.000889557\n",
      "[600]\tcv_agg's binary_logloss: 0.354177 + 0.00170741\tcv_agg's f1: 0.89036 + 0.00107178\n",
      "[800]\tcv_agg's binary_logloss: 0.351447 + 0.00173065\tcv_agg's f1: 0.89127 + 0.000907737\n",
      "[1000]\tcv_agg's binary_logloss: 0.349548 + 0.00171583\tcv_agg's f1: 0.891904 + 0.000930607\n",
      "[1200]\tcv_agg's binary_logloss: 0.347954 + 0.00170395\tcv_agg's f1: 0.892308 + 0.000928697\n",
      "[1400]\tcv_agg's binary_logloss: 0.346655 + 0.00170746\tcv_agg's f1: 0.892729 + 0.000900215\n",
      "[1600]\tcv_agg's binary_logloss: 0.345578 + 0.00172859\tcv_agg's f1: 0.893075 + 0.000827065\n",
      "[1800]\tcv_agg's binary_logloss: 0.344585 + 0.00172727\tcv_agg's f1: 0.893483 + 0.000863326\n",
      "[2000]\tcv_agg's binary_logloss: 0.343755 + 0.00170276\tcv_agg's f1: 0.893642 + 0.00084707\n",
      "[2200]\tcv_agg's binary_logloss: 0.343065 + 0.00166713\tcv_agg's f1: 0.893856 + 0.000802049\n",
      "[2400]\tcv_agg's binary_logloss: 0.342487 + 0.00162537\tcv_agg's f1: 0.894063 + 0.000837772\n",
      "[2600]\tcv_agg's binary_logloss: 0.341961 + 0.00161816\tcv_agg's f1: 0.894186 + 0.000858649\n",
      "[2800]\tcv_agg's binary_logloss: 0.341487 + 0.00162912\tcv_agg's f1: 0.894361 + 0.000930815\n",
      "[3000]\tcv_agg's binary_logloss: 0.341106 + 0.00159553\tcv_agg's f1: 0.894344 + 0.000897681\n",
      "[3200]\tcv_agg's binary_logloss: 0.340721 + 0.0016179\tcv_agg's f1: 0.894467 + 0.000930615\n",
      "[3400]\tcv_agg's binary_logloss: 0.340471 + 0.00160276\tcv_agg's f1: 0.894609 + 0.000954604\n",
      "[3600]\tcv_agg's binary_logloss: 0.340145 + 0.00161407\tcv_agg's f1: 0.894678 + 0.000899585\n",
      "[3800]\tcv_agg's binary_logloss: 0.33989 + 0.00161265\tcv_agg's f1: 0.894662 + 0.000960617\n",
      "[4000]\tcv_agg's binary_logloss: 0.339629 + 0.00157884\tcv_agg's f1: 0.894956 + 0.000926333\n",
      "[4200]\tcv_agg's binary_logloss: 0.339452 + 0.00159145\tcv_agg's f1: 0.894983 + 0.000886406\n",
      "[4400]\tcv_agg's binary_logloss: 0.33925 + 0.00159687\tcv_agg's f1: 0.895017 + 0.00097109\n",
      "[4600]\tcv_agg's binary_logloss: 0.33908 + 0.00162976\tcv_agg's f1: 0.895138 + 0.000982008\n",
      "[4800]\tcv_agg's binary_logloss: 0.338934 + 0.00160271\tcv_agg's f1: 0.895256 + 0.000873151\n",
      "[5000]\tcv_agg's binary_logloss: 0.338788 + 0.00164099\tcv_agg's f1: 0.895174 + 0.000971091\n",
      "[5200]\tcv_agg's binary_logloss: 0.338715 + 0.00161152\tcv_agg's f1: 0.895193 + 0.000911994\n",
      "[5400]\tcv_agg's binary_logloss: 0.338634 + 0.0016601\tcv_agg's f1: 0.89526 + 0.00104571\n",
      "[5600]\tcv_agg's binary_logloss: 0.33858 + 0.00165914\tcv_agg's f1: 0.895202 + 0.000997616\n",
      "[5800]\tcv_agg's binary_logloss: 0.338509 + 0.00166494\tcv_agg's f1: 0.895229 + 0.000987482\n",
      "[6000]\tcv_agg's binary_logloss: 0.338439 + 0.0016286\tcv_agg's f1: 0.895298 + 0.00103564\n",
      "[6200]\tcv_agg's binary_logloss: 0.338398 + 0.00163576\tcv_agg's f1: 0.895249 + 0.000995005\n",
      "[6400]\tcv_agg's binary_logloss: 0.33839 + 0.00164121\tcv_agg's f1: 0.89522 + 0.00106997\n",
      "[6600]\tcv_agg's binary_logloss: 0.338356 + 0.0016509\tcv_agg's f1: 0.895358 + 0.00115943\n",
      "[6800]\tcv_agg's binary_logloss: 0.338315 + 0.0016501\tcv_agg's f1: 0.895287 + 0.00103888\n",
      "[7000]\tcv_agg's binary_logloss: 0.338293 + 0.00165109\tcv_agg's f1: 0.895268 + 0.000979948\n",
      "[7200]\tcv_agg's binary_logloss: 0.338305 + 0.00164106\tcv_agg's f1: 0.89532 + 0.000951466\n",
      "[7400]\tcv_agg's binary_logloss: 0.338314 + 0.00161996\tcv_agg's f1: 0.895293 + 0.00103386\n",
      "[7600]\tcv_agg's binary_logloss: 0.338349 + 0.00163535\tcv_agg's f1: 0.895262 + 0.00103762\n",
      "| \u001b[0m 15      \u001b[0m | \u001b[0m 0.8954  \u001b[0m | \u001b[0m 0.453   \u001b[0m | \u001b[0m 0.08552 \u001b[0m | \u001b[0m 3.286   \u001b[0m | \u001b[0m 11.77   \u001b[0m | \u001b[0m 131.1   \u001b[0m | \u001b[0m 0.04792 \u001b[0m | \u001b[0m 9.935e+0\u001b[0m | \u001b[0m 40.13   \u001b[0m | \u001b[0m 0.3815  \u001b[0m | \u001b[0m 2.783   \u001b[0m | \u001b[0m 0.7683  \u001b[0m |\n"
     ]
    },
    {
     "name": "stderr",
     "output_type": "stream",
     "text": [
      "C:\\Users\\alanl\\Anaconda3\\lib\\site-packages\\lightgbm\\engine.py:503: UserWarning: Found `n_estimators` in params. Will use it instead of argument\n",
      "  warnings.warn(\"Found `{}` in params. Will use it instead of argument\".format(alias))\n"
     ]
    },
    {
     "name": "stdout",
     "output_type": "stream",
     "text": [
      "[200]\tcv_agg's binary_logloss: 0.346169 + 0.00149892\tcv_agg's f1: 0.892959 + 0.00109913\n",
      "[400]\tcv_agg's binary_logloss: 0.340982 + 0.00156145\tcv_agg's f1: 0.894569 + 0.000969716\n",
      "[600]\tcv_agg's binary_logloss: 0.338731 + 0.00154253\tcv_agg's f1: 0.895253 + 0.00116992\n",
      "[800]\tcv_agg's binary_logloss: 0.337552 + 0.00162003\tcv_agg's f1: 0.895676 + 0.00129901\n",
      "[1000]\tcv_agg's binary_logloss: 0.33693 + 0.00161848\tcv_agg's f1: 0.895844 + 0.00107561\n",
      "[1200]\tcv_agg's binary_logloss: 0.33674 + 0.00159445\tcv_agg's f1: 0.895859 + 0.000892343\n",
      "[1400]\tcv_agg's binary_logloss: 0.336734 + 0.00160468\tcv_agg's f1: 0.895809 + 0.000798686\n",
      "[1600]\tcv_agg's binary_logloss: 0.336922 + 0.00162048\tcv_agg's f1: 0.895854 + 0.000922882\n",
      "[1800]\tcv_agg's binary_logloss: 0.337154 + 0.00161949\tcv_agg's f1: 0.895703 + 0.000897775\n",
      "[2000]\tcv_agg's binary_logloss: 0.337558 + 0.00160642\tcv_agg's f1: 0.895656 + 0.000850804\n",
      "[2200]\tcv_agg's binary_logloss: 0.3379 + 0.00160892\tcv_agg's f1: 0.895684 + 0.000836818\n",
      "| \u001b[0m 16      \u001b[0m | \u001b[0m 0.8959  \u001b[0m | \u001b[0m 0.8492  \u001b[0m | \u001b[0m 0.08425 \u001b[0m | \u001b[0m 9.093   \u001b[0m | \u001b[0m 5.199   \u001b[0m | \u001b[0m 977.1   \u001b[0m | \u001b[0m 0.02405 \u001b[0m | \u001b[0m 2.996e+0\u001b[0m | \u001b[0m 66.78   \u001b[0m | \u001b[0m 2.44    \u001b[0m | \u001b[0m 0.9991  \u001b[0m | \u001b[0m 0.6035  \u001b[0m |\n"
     ]
    },
    {
     "name": "stderr",
     "output_type": "stream",
     "text": [
      "C:\\Users\\alanl\\Anaconda3\\lib\\site-packages\\lightgbm\\engine.py:503: UserWarning: Found `n_estimators` in params. Will use it instead of argument\n",
      "  warnings.warn(\"Found `{}` in params. Will use it instead of argument\".format(alias))\n"
     ]
    },
    {
     "name": "stdout",
     "output_type": "stream",
     "text": [
      "[200]\tcv_agg's binary_logloss: 0.344104 + 0.00161453\tcv_agg's f1: 0.893527 + 0.00121456\n",
      "[400]\tcv_agg's binary_logloss: 0.339316 + 0.001702\tcv_agg's f1: 0.895214 + 0.00141118\n",
      "[600]\tcv_agg's binary_logloss: 0.337311 + 0.0016721\tcv_agg's f1: 0.895795 + 0.00120784\n",
      "[800]\tcv_agg's binary_logloss: 0.336524 + 0.00170411\tcv_agg's f1: 0.895848 + 0.00110755\n",
      "[1000]\tcv_agg's binary_logloss: 0.336179 + 0.00179803\tcv_agg's f1: 0.895956 + 0.00106705\n",
      "[1200]\tcv_agg's binary_logloss: 0.336173 + 0.0018067\tcv_agg's f1: 0.895953 + 0.000907822\n",
      "[1400]\tcv_agg's binary_logloss: 0.336313 + 0.001853\tcv_agg's f1: 0.895992 + 0.00106778\n",
      "[1600]\tcv_agg's binary_logloss: 0.336689 + 0.0018236\tcv_agg's f1: 0.895975 + 0.000760211\n",
      "[1800]\tcv_agg's binary_logloss: 0.337194 + 0.00178395\tcv_agg's f1: 0.89595 + 0.00089864\n",
      "[2000]\tcv_agg's binary_logloss: 0.337771 + 0.00177205\tcv_agg's f1: 0.895815 + 0.000914381\n",
      "| \u001b[0m 17      \u001b[0m | \u001b[0m 0.896   \u001b[0m | \u001b[0m 0.7716  \u001b[0m | \u001b[0m 0.07991 \u001b[0m | \u001b[0m 11.71   \u001b[0m | \u001b[0m 49.56   \u001b[0m | \u001b[0m 980.4   \u001b[0m | \u001b[0m 0.0361  \u001b[0m | \u001b[0m 9.881e+0\u001b[0m | \u001b[0m 68.58   \u001b[0m | \u001b[0m 1.4     \u001b[0m | \u001b[0m 2.279   \u001b[0m | \u001b[0m 0.5703  \u001b[0m |\n"
     ]
    },
    {
     "name": "stderr",
     "output_type": "stream",
     "text": [
      "C:\\Users\\alanl\\Anaconda3\\lib\\site-packages\\lightgbm\\engine.py:503: UserWarning: Found `n_estimators` in params. Will use it instead of argument\n",
      "  warnings.warn(\"Found `{}` in params. Will use it instead of argument\".format(alias))\n"
     ]
    },
    {
     "name": "stdout",
     "output_type": "stream",
     "text": [
      "[200]\tcv_agg's binary_logloss: 0.417892 + 0.000809584\tcv_agg's f1: 0.87808 + 0.000540685\n",
      "[400]\tcv_agg's binary_logloss: 0.384083 + 0.00105983\tcv_agg's f1: 0.882509 + 0.000951121\n",
      "[600]\tcv_agg's binary_logloss: 0.372823 + 0.00118569\tcv_agg's f1: 0.884998 + 0.00111814\n",
      "[800]\tcv_agg's binary_logloss: 0.367246 + 0.00129988\tcv_agg's f1: 0.886514 + 0.00103867\n",
      "[1000]\tcv_agg's binary_logloss: 0.363593 + 0.00138224\tcv_agg's f1: 0.887522 + 0.00104382\n",
      "[1200]\tcv_agg's binary_logloss: 0.361026 + 0.00145694\tcv_agg's f1: 0.888103 + 0.00104778\n",
      "[1400]\tcv_agg's binary_logloss: 0.359098 + 0.00149079\tcv_agg's f1: 0.88864 + 0.000893206\n",
      "[1600]\tcv_agg's binary_logloss: 0.357613 + 0.00153259\tcv_agg's f1: 0.889108 + 0.000926558\n",
      "[1800]\tcv_agg's binary_logloss: 0.356369 + 0.00156183\tcv_agg's f1: 0.889448 + 0.000833446\n",
      "[2000]\tcv_agg's binary_logloss: 0.355303 + 0.00158177\tcv_agg's f1: 0.889907 + 0.000759238\n",
      "[2200]\tcv_agg's binary_logloss: 0.354379 + 0.00158682\tcv_agg's f1: 0.890226 + 0.000759134\n",
      "[2400]\tcv_agg's binary_logloss: 0.353514 + 0.00159877\tcv_agg's f1: 0.890515 + 0.000828032\n",
      "[2600]\tcv_agg's binary_logloss: 0.352715 + 0.00163489\tcv_agg's f1: 0.890735 + 0.000836563\n",
      "[2800]\tcv_agg's binary_logloss: 0.352001 + 0.00165493\tcv_agg's f1: 0.89094 + 0.000854747\n",
      "[3000]\tcv_agg's binary_logloss: 0.351346 + 0.00166755\tcv_agg's f1: 0.891042 + 0.000888293\n",
      "[3200]\tcv_agg's binary_logloss: 0.350742 + 0.00165231\tcv_agg's f1: 0.891268 + 0.000921972\n",
      "[3400]\tcv_agg's binary_logloss: 0.350162 + 0.00163835\tcv_agg's f1: 0.891489 + 0.000833327\n",
      "[3600]\tcv_agg's binary_logloss: 0.349659 + 0.00163646\tcv_agg's f1: 0.891702 + 0.000866709\n",
      "[3800]\tcv_agg's binary_logloss: 0.349164 + 0.00163584\tcv_agg's f1: 0.89194 + 0.000867379\n",
      "[4000]\tcv_agg's binary_logloss: 0.348701 + 0.00164182\tcv_agg's f1: 0.892254 + 0.000964693\n",
      "[4200]\tcv_agg's binary_logloss: 0.348275 + 0.00164918\tcv_agg's f1: 0.892422 + 0.000975759\n",
      "[4400]\tcv_agg's binary_logloss: 0.347872 + 0.00167207\tcv_agg's f1: 0.892529 + 0.000938784\n",
      "[4600]\tcv_agg's binary_logloss: 0.347509 + 0.00167939\tcv_agg's f1: 0.892663 + 0.000934757\n",
      "[4800]\tcv_agg's binary_logloss: 0.347156 + 0.00167074\tcv_agg's f1: 0.892788 + 0.000930211\n",
      "[5000]\tcv_agg's binary_logloss: 0.346811 + 0.00167495\tcv_agg's f1: 0.892845 + 0.000963374\n",
      "[5200]\tcv_agg's binary_logloss: 0.34648 + 0.00166739\tcv_agg's f1: 0.892967 + 0.00105456\n",
      "[5400]\tcv_agg's binary_logloss: 0.346162 + 0.00168177\tcv_agg's f1: 0.89304 + 0.00109881\n",
      "[5600]\tcv_agg's binary_logloss: 0.345849 + 0.00167961\tcv_agg's f1: 0.893135 + 0.00110251\n",
      "[5800]\tcv_agg's binary_logloss: 0.345562 + 0.00168542\tcv_agg's f1: 0.893216 + 0.00111163\n",
      "[6000]\tcv_agg's binary_logloss: 0.345295 + 0.00168048\tcv_agg's f1: 0.89327 + 0.00115847\n",
      "[6200]\tcv_agg's binary_logloss: 0.345046 + 0.0016701\tcv_agg's f1: 0.893303 + 0.00112561\n",
      "[6400]\tcv_agg's binary_logloss: 0.344799 + 0.00166784\tcv_agg's f1: 0.893354 + 0.00112325\n",
      "[6600]\tcv_agg's binary_logloss: 0.344556 + 0.00165522\tcv_agg's f1: 0.893435 + 0.00101595\n",
      "[6800]\tcv_agg's binary_logloss: 0.344313 + 0.0016311\tcv_agg's f1: 0.893599 + 0.000995505\n",
      "[7000]\tcv_agg's binary_logloss: 0.344092 + 0.00163319\tcv_agg's f1: 0.893648 + 0.00101141\n",
      "[7200]\tcv_agg's binary_logloss: 0.343857 + 0.00164485\tcv_agg's f1: 0.893727 + 0.00106375\n",
      "[7400]\tcv_agg's binary_logloss: 0.343637 + 0.00167123\tcv_agg's f1: 0.893845 + 0.00109911\n",
      "[7600]\tcv_agg's binary_logloss: 0.34343 + 0.00168065\tcv_agg's f1: 0.893953 + 0.00111811\n",
      "[7800]\tcv_agg's binary_logloss: 0.343225 + 0.00169407\tcv_agg's f1: 0.893997 + 0.00111187\n",
      "[8000]\tcv_agg's binary_logloss: 0.343042 + 0.00168724\tcv_agg's f1: 0.894119 + 0.00110189\n",
      "[8200]\tcv_agg's binary_logloss: 0.342864 + 0.00168029\tcv_agg's f1: 0.894189 + 0.00107249\n",
      "[8400]\tcv_agg's binary_logloss: 0.342686 + 0.00168438\tcv_agg's f1: 0.894302 + 0.00107836\n",
      "[8600]\tcv_agg's binary_logloss: 0.342515 + 0.00168015\tcv_agg's f1: 0.894385 + 0.00105939\n",
      "[8800]\tcv_agg's binary_logloss: 0.34235 + 0.00166984\tcv_agg's f1: 0.894431 + 0.00104351\n",
      "[9000]\tcv_agg's binary_logloss: 0.342189 + 0.00168591\tcv_agg's f1: 0.894548 + 0.00102899\n",
      "[9200]\tcv_agg's binary_logloss: 0.34205 + 0.0016888\tcv_agg's f1: 0.894521 + 0.00103202\n",
      "[9400]\tcv_agg's binary_logloss: 0.341908 + 0.00169346\tcv_agg's f1: 0.894537 + 0.00104493\n",
      "[9600]\tcv_agg's binary_logloss: 0.341768 + 0.00168863\tcv_agg's f1: 0.894578 + 0.00111968\n",
      "[9800]\tcv_agg's binary_logloss: 0.341635 + 0.00169345\tcv_agg's f1: 0.894581 + 0.00112344\n",
      "| \u001b[0m 18      \u001b[0m | \u001b[0m 0.8946  \u001b[0m | \u001b[0m 0.8794  \u001b[0m | \u001b[0m 0.008227\u001b[0m | \u001b[0m 5.337   \u001b[0m | \u001b[0m 5.031   \u001b[0m | \u001b[0m 972.7   \u001b[0m | \u001b[0m 0.09513 \u001b[0m | \u001b[0m 9.997e+0\u001b[0m | \u001b[0m 56.34   \u001b[0m | \u001b[0m 1.884   \u001b[0m | \u001b[0m 0.5639  \u001b[0m | \u001b[0m 0.9074  \u001b[0m |\n"
     ]
    },
    {
     "name": "stderr",
     "output_type": "stream",
     "text": [
      "C:\\Users\\alanl\\Anaconda3\\lib\\site-packages\\lightgbm\\engine.py:503: UserWarning: Found `n_estimators` in params. Will use it instead of argument\n",
      "  warnings.warn(\"Found `{}` in params. Will use it instead of argument\".format(alias))\n"
     ]
    },
    {
     "name": "stdout",
     "output_type": "stream",
     "text": [
      "[200]\tcv_agg's binary_logloss: 0.353972 + 0.00153646\tcv_agg's f1: 0.890949 + 0.00103013\n",
      "[400]\tcv_agg's binary_logloss: 0.345717 + 0.0016675\tcv_agg's f1: 0.893321 + 0.00107675\n",
      "[600]\tcv_agg's binary_logloss: 0.342235 + 0.00164853\tcv_agg's f1: 0.894418 + 0.00111409\n",
      "[800]\tcv_agg's binary_logloss: 0.340003 + 0.00163551\tcv_agg's f1: 0.894972 + 0.00120581\n",
      "[1000]\tcv_agg's binary_logloss: 0.338426 + 0.00165257\tcv_agg's f1: 0.895353 + 0.00133915\n",
      "[1200]\tcv_agg's binary_logloss: 0.337309 + 0.00165149\tcv_agg's f1: 0.895766 + 0.00118892\n",
      "[1400]\tcv_agg's binary_logloss: 0.33644 + 0.00166287\tcv_agg's f1: 0.896149 + 0.00111116\n",
      "[1600]\tcv_agg's binary_logloss: 0.335782 + 0.00167874\tcv_agg's f1: 0.896291 + 0.00121258\n",
      "[1800]\tcv_agg's binary_logloss: 0.335301 + 0.00168604\tcv_agg's f1: 0.896439 + 0.00107575\n",
      "[2000]\tcv_agg's binary_logloss: 0.334872 + 0.00173111\tcv_agg's f1: 0.896549 + 0.00112566\n",
      "[2200]\tcv_agg's binary_logloss: 0.334589 + 0.00172034\tcv_agg's f1: 0.896619 + 0.00106554\n",
      "[2400]\tcv_agg's binary_logloss: 0.334326 + 0.00168009\tcv_agg's f1: 0.896668 + 0.00101222\n",
      "[2600]\tcv_agg's binary_logloss: 0.334175 + 0.00167035\tcv_agg's f1: 0.896786 + 0.00102337\n",
      "[2800]\tcv_agg's binary_logloss: 0.334071 + 0.00169146\tcv_agg's f1: 0.89686 + 0.00102982\n",
      "[3000]\tcv_agg's binary_logloss: 0.333988 + 0.001703\tcv_agg's f1: 0.896798 + 0.000921163\n",
      "[3200]\tcv_agg's binary_logloss: 0.333943 + 0.00167975\tcv_agg's f1: 0.896781 + 0.000999215\n",
      "[3400]\tcv_agg's binary_logloss: 0.333935 + 0.00167032\tcv_agg's f1: 0.896863 + 0.000950481\n",
      "[3600]\tcv_agg's binary_logloss: 0.333997 + 0.00169777\tcv_agg's f1: 0.896834 + 0.000929367\n",
      "[3800]\tcv_agg's binary_logloss: 0.334024 + 0.00168007\tcv_agg's f1: 0.89695 + 0.000913955\n",
      "[4000]\tcv_agg's binary_logloss: 0.334136 + 0.00170117\tcv_agg's f1: 0.896863 + 0.00090069\n",
      "[4200]\tcv_agg's binary_logloss: 0.334235 + 0.00171202\tcv_agg's f1: 0.896903 + 0.000948463\n",
      "| \u001b[95m 19      \u001b[0m | \u001b[95m 0.8969  \u001b[0m | \u001b[95m 0.4764  \u001b[0m | \u001b[95m 0.0351  \u001b[0m | \u001b[95m 8.22    \u001b[0m | \u001b[95m 8.289   \u001b[0m | \u001b[95m 149.2   \u001b[0m | \u001b[95m 0.01448 \u001b[0m | \u001b[95m 9.881e+0\u001b[0m | \u001b[95m 69.7    \u001b[0m | \u001b[95m 2.227   \u001b[0m | \u001b[95m 2.192   \u001b[0m | \u001b[95m 0.9104  \u001b[0m |\n"
     ]
    },
    {
     "name": "stderr",
     "output_type": "stream",
     "text": [
      "C:\\Users\\alanl\\Anaconda3\\lib\\site-packages\\lightgbm\\engine.py:503: UserWarning: Found `n_estimators` in params. Will use it instead of argument\n",
      "  warnings.warn(\"Found `{}` in params. Will use it instead of argument\".format(alias))\n"
     ]
    },
    {
     "name": "stdout",
     "output_type": "stream",
     "text": [
      "[200]\tcv_agg's binary_logloss: 0.356819 + 0.00154756\tcv_agg's f1: 0.89043 + 0.00102088\n",
      "[400]\tcv_agg's binary_logloss: 0.347777 + 0.00168245\tcv_agg's f1: 0.892927 + 0.00103751\n",
      "[600]\tcv_agg's binary_logloss: 0.344102 + 0.00178131\tcv_agg's f1: 0.894029 + 0.00109891\n",
      "[800]\tcv_agg's binary_logloss: 0.341795 + 0.00177734\tcv_agg's f1: 0.894636 + 0.0011061\n",
      "[1000]\tcv_agg's binary_logloss: 0.340208 + 0.00174918\tcv_agg's f1: 0.895192 + 0.00105505\n",
      "[1200]\tcv_agg's binary_logloss: 0.339058 + 0.00172619\tcv_agg's f1: 0.895526 + 0.00107621\n",
      "[1400]\tcv_agg's binary_logloss: 0.338202 + 0.001718\tcv_agg's f1: 0.895795 + 0.0010353\n",
      "[1600]\tcv_agg's binary_logloss: 0.337511 + 0.00171368\tcv_agg's f1: 0.89604 + 0.00105932\n",
      "[1800]\tcv_agg's binary_logloss: 0.336929 + 0.00171988\tcv_agg's f1: 0.896151 + 0.00111668\n",
      "[2000]\tcv_agg's binary_logloss: 0.336481 + 0.00173942\tcv_agg's f1: 0.896193 + 0.00116718\n",
      "[2200]\tcv_agg's binary_logloss: 0.336064 + 0.00171317\tcv_agg's f1: 0.896262 + 0.00106234\n",
      "[2400]\tcv_agg's binary_logloss: 0.335746 + 0.00172884\tcv_agg's f1: 0.896255 + 0.00109956\n",
      "[2600]\tcv_agg's binary_logloss: 0.335464 + 0.001734\tcv_agg's f1: 0.896445 + 0.000952973\n",
      "[2800]\tcv_agg's binary_logloss: 0.335254 + 0.00171798\tcv_agg's f1: 0.896506 + 0.000984516\n",
      "[3000]\tcv_agg's binary_logloss: 0.335106 + 0.0016928\tcv_agg's f1: 0.896528 + 0.00101415\n",
      "[3200]\tcv_agg's binary_logloss: 0.334974 + 0.00168708\tcv_agg's f1: 0.896566 + 0.000875901\n",
      "[3400]\tcv_agg's binary_logloss: 0.334883 + 0.00166766\tcv_agg's f1: 0.896592 + 0.000825915\n",
      "[3600]\tcv_agg's binary_logloss: 0.334795 + 0.00170242\tcv_agg's f1: 0.896564 + 0.00082031\n",
      "[3800]\tcv_agg's binary_logloss: 0.334727 + 0.00168088\tcv_agg's f1: 0.896691 + 0.000823619\n",
      "[4000]\tcv_agg's binary_logloss: 0.334767 + 0.00169206\tcv_agg's f1: 0.896629 + 0.000912687\n",
      "[4200]\tcv_agg's binary_logloss: 0.334781 + 0.0017373\tcv_agg's f1: 0.896616 + 0.000865691\n",
      "[4400]\tcv_agg's binary_logloss: 0.334801 + 0.0017321\tcv_agg's f1: 0.896604 + 0.000782333\n",
      "[4600]\tcv_agg's binary_logloss: 0.334848 + 0.00171624\tcv_agg's f1: 0.896662 + 0.000925902\n",
      "[4800]\tcv_agg's binary_logloss: 0.334924 + 0.00172746\tcv_agg's f1: 0.896693 + 0.000833168\n",
      "| \u001b[0m 20      \u001b[0m | \u001b[0m 0.8967  \u001b[0m | \u001b[0m 0.2564  \u001b[0m | \u001b[0m 0.04101 \u001b[0m | \u001b[0m 7.24    \u001b[0m | \u001b[0m 37.78   \u001b[0m | \u001b[0m 102.0   \u001b[0m | \u001b[0m 0.04073 \u001b[0m | \u001b[0m 9.866e+0\u001b[0m | \u001b[0m 68.17   \u001b[0m | \u001b[0m 2.422   \u001b[0m | \u001b[0m 0.965   \u001b[0m | \u001b[0m 0.6963  \u001b[0m |\n",
      "=============================================================================================================================================================\n"
     ]
    }
   ],
   "source": [
    "import lightgbm\n",
    "\n",
    "def bayes_optimization_gbm(x_train, y_train, init_round=5, opt_round=15, n_folds=5, random_seed=0):\n",
    "    train_data = lightgbm.Dataset(data=x_train, label=y_train)\n",
    "    # parameters\n",
    "    def lgb_eval(n_estimators, learning_rate, num_leaves, min_data_in_leaf, max_depth, reg_alpha, reg_lambda, min_split_gain, min_child_weight,colsample_bytree,subsample):\n",
    "        params = {'application':'binary', 'metric':None}\n",
    "        params['n_estimators'] = max(int(round(n_estimators)),500)\n",
    "        params['learning_rate'] = min(learning_rate,0.3)\n",
    "        params['num_leaves'] = int(round(num_leaves))\n",
    "        params['min_data_in_leaf'] = int(round(min_data_in_leaf))\n",
    "        params['max_depth'] = int(round(max_depth))\n",
    "        params['reg_alpha'] = max(reg_alpha, 0)\n",
    "        params['reg_lambda'] = max(reg_lambda, 0)\n",
    "        params['min_split_gain'] = min_split_gain\n",
    "        params['min_child_weight'] = min_child_weight \n",
    "        params['colsample_bytree'] = max(min(colsample_bytree, 1), 0)\n",
    "        params['subsample'] = max(min(subsample, 1), 0)\n",
    "        \n",
    "        cv=lightgbm.cv(params,train_data,nfold=n_folds,seed=random_seed,early_stopping_rounds=1000,stratified=True,verbose_eval=200,feval=get_f1)\n",
    "        return max(cv['f1-mean'])\n",
    "\n",
    "    gbmbo = BayesianOptimization(lgb_eval, {'n_estimators': (500, 10000),\n",
    "                                            'learning_rate': (0.001, 0.1),\n",
    "                                            'num_leaves': (20, 70),\n",
    "                                            'min_data_in_leaf': (100, 1000),\n",
    "                                            'max_depth': (3, 12),\n",
    "                                            'reg_alpha': (0, 3),\n",
    "                                            'reg_lambda': (0, 3),\n",
    "                                            'min_split_gain': (0.001, 0.1),\n",
    "                                            'min_child_weight': (5, 50),\n",
    "                                            'colsample_bytree': (0.1, 0.9),\n",
    "                                            'subsample': (0.5, 1)},random_state=0)\n",
    "    # optimize\n",
    "    gbmbo.maximize(init_points=init_round, n_iter=opt_round)\n",
    "    \n",
    "    # return best parameters\n",
    "    return gbmbo.max\n",
    "\n",
    "best_params = bayes_optimization_gbm(x_train_full, y_train_full)"
   ]
  },
  {
   "cell_type": "markdown",
   "metadata": {},
   "source": [
    "# 7. Train the best model and evaluate on test set"
   ]
  },
  {
   "cell_type": "code",
   "execution_count": null,
   "metadata": {},
   "outputs": [],
   "source": [
    "# add column names for feature importance analysis\n",
    "w2v_name = ['w2v_'+str(i) for i in range(80)]\n",
    "X_Train_full_df = pd.DataFrame(X_Train_full,columns=w2v_name+colnames)\n",
    "x_train_full, x_test_full, y_train_full, y_test_full = split(X_Train_full_df, Y_Train)"
   ]
  },
  {
   "cell_type": "code",
   "execution_count": 54,
   "metadata": {},
   "outputs": [
    {
     "data": {
      "text/plain": [
       "LGBMClassifier(boosting_type='gbdt', class_weight=None, colsample_bytree=0.4008,\n",
       "               importance_type='split', learning_rate=0.03616, max_depth=8,\n",
       "               min_child_samples=20, min_child_weight=8.65,\n",
       "               min_data_in_leaf=110, min_split_gain=0.06095, n_estimators=9924,\n",
       "               n_jobs=-1, num_leaves=69, objective=None, random_state=0,\n",
       "               reg_alpha=1.631, reg_lambda=0.05826, silent=True,\n",
       "               subsample=0.8351, subsample_for_bin=200000, subsample_freq=0)"
      ]
     },
     "execution_count": 54,
     "metadata": {},
     "output_type": "execute_result"
    }
   ],
   "source": [
    "finalmodel = LGBMClassifier(n_estimators=9924,\n",
    "                            learning_rate=0.03616,\n",
    "                            num_leaves=69,\n",
    "                            min_data_in_leaf=110,\n",
    "                            max_depth=8,\n",
    "                            reg_alpha=1.631,\n",
    "                            reg_lambda=0.05826,\n",
    "                            min_split_gain=0.06095,\n",
    "                            min_child_weight=8.65,\n",
    "                            colsample_bytree=0.4008,\n",
    "                            subsample=0.8351,\n",
    "                            random_state=0)\n",
    "\n",
    "finalmodel.fit(x_train_full, y_train_full)"
   ]
  },
  {
   "cell_type": "code",
   "execution_count": null,
   "metadata": {},
   "outputs": [],
   "source": [
    "# feature importance\n",
    "importance_value = finalmodel.feature_importances_\n",
    "feature_importance = list(np.argsort(importance_value))[::-1]\n",
    "col_list = list(x_train_full.columns)\n",
    "max_num = 20\n",
    "value = []\n",
    "col = []\n",
    "for i in range(max_num):\n",
    "    index = feature_importance[i]\n",
    "    value.append(importance_value[index])\n",
    "    col.append(col_list[index])"
   ]
  },
  {
   "cell_type": "code",
   "execution_count": null,
   "metadata": {},
   "outputs": [],
   "source": [
    "# plot feature importance\n",
    "import matplotlib.pyplot as plt\n",
    "%matplotlib inline\n",
    "plt.figure(figsize=(12, 8), dpi=72)\n",
    "plt.barh(y = col[::-1], height=0.6, width=value[::-1])\n",
    "plt.ylabel('Features')\n",
    "plt.xlabel('Importance Value')\n",
    "plt.xlim(0,14000)\n",
    "for i in range(max_num):\n",
    "    v = value[max_num-i-1]\n",
    "    plt.text(v+50, i, v,verticalalignment='center', color='black')\n",
    "\n",
    "plt.savefig('feature_importance.png', bbox_inches='tight')"
   ]
  },
  {
   "cell_type": "code",
   "execution_count": 55,
   "metadata": {},
   "outputs": [
    {
     "name": "stdout",
     "output_type": "stream",
     "text": [
      "0.8997 0.9211 0.8793 0.8566\n"
     ]
    },
    {
     "data": {
      "text/plain": [
       "(0.8996948709255581,\n",
       " 0.9210935175696671,\n",
       " 0.8792679078573683,\n",
       " 0.8566368618402077)"
      ]
     },
     "execution_count": 55,
     "metadata": {},
     "output_type": "execute_result"
    }
   ],
   "source": [
    "final_evluation(y_test_full, finalmodel.predict(x_test_full))"
   ]
  }
 ],
 "metadata": {
  "file_extension": ".py",
  "kernelspec": {
   "display_name": "Python 3",
   "language": "python",
   "name": "python3"
  },
  "language_info": {
   "codemirror_mode": {
    "name": "ipython",
    "version": 3
   },
   "file_extension": ".py",
   "mimetype": "text/x-python",
   "name": "python",
   "nbconvert_exporter": "python",
   "pygments_lexer": "ipython3",
   "version": "3.7.3"
  },
  "mimetype": "text/x-python",
  "name": "python",
  "npconvert_exporter": "python",
  "pygments_lexer": "ipython3",
  "version": 3
 },
 "nbformat": 4,
 "nbformat_minor": 2
}
