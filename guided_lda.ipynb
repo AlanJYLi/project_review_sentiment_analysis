{
 "cells": [
  {
   "cell_type": "code",
   "execution_count": 1,
   "metadata": {
    "colab": {},
    "colab_type": "code",
    "id": "UIpeJ8VmR1TX"
   },
   "outputs": [],
   "source": [
    "#Import the necessary libraries\n",
    "import pandas as pd\n",
    "import numpy as np\n",
    "import scipy as sp\n",
    "import re\n",
    "import nltk\n",
    "import gc\n",
    "from lda import guidedlda as glda\n",
    "from bs4 import BeautifulSoup\n",
    "from nltk.corpus import stopwords\n",
    "from copy import deepcopy\n",
    "from sklearn.feature_extraction.text import CountVectorizer\n",
    "from sklearn.feature_extraction.text import TfidfTransformer\n",
    "from sklearn.metrics.pairwise import pairwise_distances"
   ]
  },
  {
   "cell_type": "code",
   "execution_count": 2,
   "metadata": {
    "colab": {},
    "colab_type": "code",
    "id": "CIvs0LVJR1Te"
   },
   "outputs": [
    {
     "data": {
      "text/plain": [
       "7"
      ]
     },
     "execution_count": 2,
     "metadata": {},
     "output_type": "execute_result"
    }
   ],
   "source": [
    "alldata = pd.read_csv('steam_reviews_kaggle.csv')\n",
    "SentimentData=['review','recommendation']\n",
    "data=alldata[SentimentData]\n",
    "data=data.dropna(subset=['review'])\n",
    "del alldata\n",
    "gc.collect()"
   ]
  },
  {
   "cell_type": "code",
   "execution_count": 4,
   "metadata": {
    "colab": {},
    "colab_type": "code",
    "id": "Ano1yq7oR1Th"
   },
   "outputs": [],
   "source": [
    "def preprocess_review(review):\n",
    "    #Remove HTML Tags\n",
    "    review_process = BeautifulSoup(review,'lxml').get_text()\n",
    "    \n",
    "    #Remove non-letter characters\n",
    "    review_process = re.sub('[^a-zA-Z]', ' ', review_process)\n",
    "    \n",
    "    #Convert to lower case\n",
    "    review_process = review_process.lower()\n",
    "    \n",
    "    #Remove stopwords\n",
    "    words = review_process.split()\n",
    "    stops = set(stopwords.words(\"english\"))\n",
    "    meaningful_words = [w for w in words if w not in stops]\n",
    "    clean_review = \" \".join(meaningful_words)\n",
    "\n",
    "    return clean_review"
   ]
  },
  {
   "cell_type": "code",
   "execution_count": 5,
   "metadata": {
    "colab": {},
    "colab_type": "code",
    "id": "FJERbiU0R1Tj"
   },
   "outputs": [
    {
     "name": "stderr",
     "output_type": "stream",
     "text": [
      "C:\\Users\\alanl\\Anaconda3\\lib\\site-packages\\bs4\\__init__.py:272: UserWarning: \"b'.'\" looks like a filename, not markup. You should probably open this file and pass the filehandle into Beautiful Soup.\n",
      "  ' Beautiful Soup.' % markup)\n",
      "C:\\Users\\alanl\\Anaconda3\\lib\\site-packages\\bs4\\__init__.py:272: UserWarning: \"b'...'\" looks like a filename, not markup. You should probably open this file and pass the filehandle into Beautiful Soup.\n",
      "  ' Beautiful Soup.' % markup)\n",
      "C:\\Users\\alanl\\Anaconda3\\lib\\site-packages\\bs4\\__init__.py:272: UserWarning: \"b'..'\" looks like a filename, not markup. You should probably open this file and pass the filehandle into Beautiful Soup.\n",
      "  ' Beautiful Soup.' % markup)\n",
      "C:\\Users\\alanl\\Anaconda3\\lib\\site-packages\\bs4\\__init__.py:272: UserWarning: \"b'.....'\" looks like a filename, not markup. You should probably open this file and pass the filehandle into Beautiful Soup.\n",
      "  ' Beautiful Soup.' % markup)\n",
      "C:\\Users\\alanl\\Anaconda3\\lib\\site-packages\\bs4\\__init__.py:272: UserWarning: \"b'..........'\" looks like a filename, not markup. You should probably open this file and pass the filehandle into Beautiful Soup.\n",
      "  ' Beautiful Soup.' % markup)\n",
      "C:\\Users\\alanl\\Anaconda3\\lib\\site-packages\\bs4\\__init__.py:272: UserWarning: \"b'/'\" looks like a filename, not markup. You should probably open this file and pass the filehandle into Beautiful Soup.\n",
      "  ' Beautiful Soup.' % markup)\n",
      "C:\\Users\\alanl\\Anaconda3\\lib\\site-packages\\bs4\\__init__.py:272: UserWarning: \"b'... ...'\" looks like a filename, not markup. You should probably open this file and pass the filehandle into Beautiful Soup.\n",
      "  ' Beautiful Soup.' % markup)\n",
      "C:\\Users\\alanl\\Anaconda3\\lib\\site-packages\\bs4\\__init__.py:272: UserWarning: \"b'....'\" looks like a filename, not markup. You should probably open this file and pass the filehandle into Beautiful Soup.\n",
      "  ' Beautiful Soup.' % markup)\n",
      "C:\\Users\\alanl\\Anaconda3\\lib\\site-packages\\bs4\\__init__.py:272: UserWarning: \"b'.......'\" looks like a filename, not markup. You should probably open this file and pass the filehandle into Beautiful Soup.\n",
      "  ' Beautiful Soup.' % markup)\n",
      "C:\\Users\\alanl\\Anaconda3\\lib\\site-packages\\bs4\\__init__.py:272: UserWarning: \"b'..............'\" looks like a filename, not markup. You should probably open this file and pass the filehandle into Beautiful Soup.\n",
      "  ' Beautiful Soup.' % markup)\n",
      "C:\\Users\\alanl\\Anaconda3\\lib\\site-packages\\bs4\\__init__.py:272: UserWarning: \"b'. .'\" looks like a filename, not markup. You should probably open this file and pass the filehandle into Beautiful Soup.\n",
      "  ' Beautiful Soup.' % markup)\n",
      "C:\\Users\\alanl\\Anaconda3\\lib\\site-packages\\bs4\\__init__.py:272: UserWarning: \"b'......................................................'\" looks like a filename, not markup. You should probably open this file and pass the filehandle into Beautiful Soup.\n",
      "  ' Beautiful Soup.' % markup)\n",
      "C:\\Users\\alanl\\Anaconda3\\lib\\site-packages\\bs4\\__init__.py:272: UserWarning: \"b'..............................'\" looks like a filename, not markup. You should probably open this file and pass the filehandle into Beautiful Soup.\n",
      "  ' Beautiful Soup.' % markup)\n",
      "C:\\Users\\alanl\\Anaconda3\\lib\\site-packages\\bs4\\__init__.py:272: UserWarning: \"b'.........'\" looks like a filename, not markup. You should probably open this file and pass the filehandle into Beautiful Soup.\n",
      "  ' Beautiful Soup.' % markup)\n",
      "C:\\Users\\alanl\\Anaconda3\\lib\\site-packages\\bs4\\__init__.py:272: UserWarning: \"b'. . . .'\" looks like a filename, not markup. You should probably open this file and pass the filehandle into Beautiful Soup.\n",
      "  ' Beautiful Soup.' % markup)\n",
      "C:\\Users\\alanl\\Anaconda3\\lib\\site-packages\\bs4\\__init__.py:272: UserWarning: \"b'...................'\" looks like a filename, not markup. You should probably open this file and pass the filehandle into Beautiful Soup.\n",
      "  ' Beautiful Soup.' % markup)\n",
      "C:\\Users\\alanl\\Anaconda3\\lib\\site-packages\\bs4\\__init__.py:272: UserWarning: \"b'.......................................................'\" looks like a filename, not markup. You should probably open this file and pass the filehandle into Beautiful Soup.\n",
      "  ' Beautiful Soup.' % markup)\n",
      "C:\\Users\\alanl\\Anaconda3\\lib\\site-packages\\bs4\\__init__.py:272: UserWarning: \"b'........'\" looks like a filename, not markup. You should probably open this file and pass the filehandle into Beautiful Soup.\n",
      "  ' Beautiful Soup.' % markup)\n",
      "C:\\Users\\alanl\\Anaconda3\\lib\\site-packages\\bs4\\__init__.py:272: UserWarning: \"b'................................................'\" looks like a filename, not markup. You should probably open this file and pass the filehandle into Beautiful Soup.\n",
      "  ' Beautiful Soup.' % markup)\n",
      "C:\\Users\\alanl\\Anaconda3\\lib\\site-packages\\bs4\\__init__.py:272: UserWarning: \"b'............................................................'\" looks like a filename, not markup. You should probably open this file and pass the filehandle into Beautiful Soup.\n",
      "  ' Beautiful Soup.' % markup)\n",
      "C:\\Users\\alanl\\Anaconda3\\lib\\site-packages\\bs4\\__init__.py:272: UserWarning: \"b'............'\" looks like a filename, not markup. You should probably open this file and pass the filehandle into Beautiful Soup.\n",
      "  ' Beautiful Soup.' % markup)\n",
      "C:\\Users\\alanl\\Anaconda3\\lib\\site-packages\\bs4\\__init__.py:272: UserWarning: \"b'.........................'\" looks like a filename, not markup. You should probably open this file and pass the filehandle into Beautiful Soup.\n",
      "  ' Beautiful Soup.' % markup)\n",
      "C:\\Users\\alanl\\Anaconda3\\lib\\site-packages\\bs4\\__init__.py:272: UserWarning: \"b'..................'\" looks like a filename, not markup. You should probably open this file and pass the filehandle into Beautiful Soup.\n",
      "  ' Beautiful Soup.' % markup)\n",
      "C:\\Users\\alanl\\Anaconda3\\lib\\site-packages\\bs4\\__init__.py:272: UserWarning: \"b'/.'\" looks like a filename, not markup. You should probably open this file and pass the filehandle into Beautiful Soup.\n",
      "  ' Beautiful Soup.' % markup)\n",
      "C:\\Users\\alanl\\Anaconda3\\lib\\site-packages\\bs4\\__init__.py:272: UserWarning: \"b'.................'\" looks like a filename, not markup. You should probably open this file and pass the filehandle into Beautiful Soup.\n",
      "  ' Beautiful Soup.' % markup)\n",
      "C:\\Users\\alanl\\Anaconda3\\lib\\site-packages\\bs4\\__init__.py:272: UserWarning: \"b'................'\" looks like a filename, not markup. You should probably open this file and pass the filehandle into Beautiful Soup.\n",
      "  ' Beautiful Soup.' % markup)\n",
      "C:\\Users\\alanl\\Anaconda3\\lib\\site-packages\\bs4\\__init__.py:272: UserWarning: \"b'......'\" looks like a filename, not markup. You should probably open this file and pass the filehandle into Beautiful Soup.\n",
      "  ' Beautiful Soup.' % markup)\n",
      "C:\\Users\\alanl\\Anaconda3\\lib\\site-packages\\bs4\\__init__.py:272: UserWarning: \"b'.............................'\" looks like a filename, not markup. You should probably open this file and pass the filehandle into Beautiful Soup.\n",
      "  ' Beautiful Soup.' % markup)\n",
      "C:\\Users\\alanl\\Anaconda3\\lib\\site-packages\\bs4\\__init__.py:272: UserWarning: \"b'......................'\" looks like a filename, not markup. You should probably open this file and pass the filehandle into Beautiful Soup.\n",
      "  ' Beautiful Soup.' % markup)\n",
      "C:\\Users\\alanl\\Anaconda3\\lib\\site-packages\\bs4\\__init__.py:272: UserWarning: \"b'SERVERS ARE TOO BUSY EVERYDAY!!!!!!!!!!!!!!!!!. WOWOWOWOWOWOWOOWOWOWO ././././.././././.././.'\" looks like a filename, not markup. You should probably open this file and pass the filehandle into Beautiful Soup.\n",
      "  ' Beautiful Soup.' % markup)\n",
      "C:\\Users\\alanl\\Anaconda3\\lib\\site-packages\\bs4\\__init__.py:272: UserWarning: \"b'................................................................'\" looks like a filename, not markup. You should probably open this file and pass the filehandle into Beautiful Soup.\n",
      "  ' Beautiful Soup.' % markup)\n",
      "C:\\Users\\alanl\\Anaconda3\\lib\\site-packages\\bs4\\__init__.py:272: UserWarning: \"b'. . .'\" looks like a filename, not markup. You should probably open this file and pass the filehandle into Beautiful Soup.\n",
      "  ' Beautiful Soup.' % markup)\n",
      "C:\\Users\\alanl\\Anaconda3\\lib\\site-packages\\bs4\\__init__.py:272: UserWarning: \"b'..........................................'\" looks like a filename, not markup. You should probably open this file and pass the filehandle into Beautiful Soup.\n",
      "  ' Beautiful Soup.' % markup)\n"
     ]
    },
    {
     "name": "stderr",
     "output_type": "stream",
     "text": [
      "C:\\Users\\alanl\\Anaconda3\\lib\\site-packages\\bs4\\__init__.py:272: UserWarning: \"b'........................'\" looks like a filename, not markup. You should probably open this file and pass the filehandle into Beautiful Soup.\n",
      "  ' Beautiful Soup.' % markup)\n",
      "C:\\Users\\alanl\\Anaconda3\\lib\\site-packages\\bs4\\__init__.py:272: UserWarning: \"b'. '\" looks like a filename, not markup. You should probably open this file and pass the filehandle into Beautiful Soup.\n",
      "  ' Beautiful Soup.' % markup)\n"
     ]
    }
   ],
   "source": [
    "#Clean the reviews and add them to the list below\n",
    "cleaned_reviews = []\n",
    "\n",
    "for raw in data['review']:\n",
    "    clean = preprocess_review(raw)\n",
    "    cleaned_reviews.append(clean)"
   ]
  },
  {
   "cell_type": "code",
   "execution_count": 20,
   "metadata": {},
   "outputs": [
    {
     "data": {
      "text/plain": [
       "113"
      ]
     },
     "execution_count": 20,
     "metadata": {},
     "output_type": "execute_result"
    }
   ],
   "source": [
    "del model\n",
    "del X_counts\n",
    "gc.collect()"
   ]
  },
  {
   "cell_type": "code",
   "execution_count": 21,
   "metadata": {
    "colab": {},
    "colab_type": "code",
    "id": "urCR0VMaR1Tn"
   },
   "outputs": [],
   "source": [
    "def design_matrix(cleaned_reviews):\n",
    "    vectorizer = CountVectorizer(analyzer = \"word\", \n",
    "                                 tokenizer = None, \n",
    "                                 preprocessor = None, \n",
    "                                 stop_words = None,\n",
    "                                 max_features = 7000)\n",
    "    X_counts = vectorizer.fit_transform(cleaned_reviews).toarray()\n",
    "\n",
    "    return X_counts,vectorizer"
   ]
  },
  {
   "cell_type": "code",
   "execution_count": 22,
   "metadata": {
    "colab": {},
    "colab_type": "code",
    "id": "POPvMtKER1Tp"
   },
   "outputs": [],
   "source": [
    "X_counts,vectorizer = design_matrix(cleaned_reviews)"
   ]
  },
  {
   "cell_type": "code",
   "execution_count": 23,
   "metadata": {},
   "outputs": [],
   "source": [
    "word2id = vectorizer.vocabulary_"
   ]
  },
  {
   "cell_type": "markdown",
   "metadata": {},
   "source": [
    "### Guided LDA"
   ]
  },
  {
   "cell_type": "code",
   "execution_count": 24,
   "metadata": {},
   "outputs": [],
   "source": [
    "# seed topic word\n",
    "seed_topic_list = [['gameplay','mechanics', 'combat', 'fps', 'survive', 'shooting', 'online', 'single', 'multiplayer'],\n",
    "                   ['money', 'free', 'price', 'pay', 'dlc', 'skins'],\n",
    "                   ['server', 'fix', 'bugs', 'lag', 'potato','connection'],\n",
    "                   ['cheat', 'hackers', 'aimbot'],\n",
    "                   ['cpu', 'gpu', 'laptop', 'ram', 'hardware', 'crash'],\n",
    "                   ['friends', 'teammates'],\n",
    "                   ['story', 'experience', 'sound', 'physics', 'music'],\n",
    "                   ['naked', 'nudity', 'blood', 'racist', 'idiots', 'noobs'],\n",
    "                   ['happy', 'recommend', 'favorite', 'great', 'nice', 'amazing', 'awesome', 'perfect', 'simple', 'fantastic'],\n",
    "                   ['sick','tired', 'disappointed','worst', 'trash', 'stupid', 'hell', 'garbage'],\n",
    "                   ['alpha','early', 'new', 'future', 'patch']]\n",
    "\n",
    "seed_topics = {}\n",
    "for t_id, st in enumerate(seed_topic_list):\n",
    "    for word in st:\n",
    "        if word in word2id.keys():\n",
    "            seed_topics[word2id[word]] = t_id"
   ]
  },
  {
   "cell_type": "code",
   "execution_count": 25,
   "metadata": {},
   "outputs": [
    {
     "data": {
      "text/plain": [
       "{2545: 0,\n",
       " 3791: 0,\n",
       " 1121: 0,\n",
       " 2442: 0,\n",
       " 6104: 0,\n",
       " 5557: 0,\n",
       " 4234: 0,\n",
       " 5630: 0,\n",
       " 4001: 0,\n",
       " 3949: 1,\n",
       " 2461: 1,\n",
       " 4703: 1,\n",
       " 4412: 1,\n",
       " 1738: 1,\n",
       " 5654: 1,\n",
       " 5489: 2,\n",
       " 2328: 2,\n",
       " 793: 2,\n",
       " 3407: 2,\n",
       " 4633: 2,\n",
       " 1227: 2,\n",
       " 982: 3,\n",
       " 2777: 3,\n",
       " 152: 3,\n",
       " 1348: 4,\n",
       " 2674: 4,\n",
       " 3431: 4,\n",
       " 4905: 4,\n",
       " 2820: 4,\n",
       " 1358: 4,\n",
       " 2479: 5,\n",
       " 6195: 5,\n",
       " 5963: 6,\n",
       " 2128: 6,\n",
       " 5780: 6,\n",
       " 4484: 6,\n",
       " 4010: 6,\n",
       " 4023: 7,\n",
       " 4157: 7,\n",
       " 646: 7,\n",
       " 4880: 7,\n",
       " 3050: 7,\n",
       " 4125: 7,\n",
       " 2812: 8,\n",
       " 4998: 8,\n",
       " 2239: 8,\n",
       " 2697: 8,\n",
       " 4096: 8,\n",
       " 209: 8,\n",
       " 416: 8,\n",
       " 4445: 8,\n",
       " 5614: 8,\n",
       " 2218: 8,\n",
       " 5594: 9,\n",
       " 6340: 9,\n",
       " 1692: 9,\n",
       " 6920: 9,\n",
       " 6423: 9,\n",
       " 6019: 9,\n",
       " 2885: 9,\n",
       " 2559: 9,\n",
       " 194: 10,\n",
       " 1872: 10,\n",
       " 4081: 10,\n",
       " 2521: 10,\n",
       " 4400: 10}"
      ]
     },
     "execution_count": 25,
     "metadata": {},
     "output_type": "execute_result"
    }
   ],
   "source": [
    "seed_topics"
   ]
  },
  {
   "cell_type": "code",
   "execution_count": 15,
   "metadata": {},
   "outputs": [
    {
     "data": {
      "text/plain": [
       "34"
      ]
     },
     "execution_count": 15,
     "metadata": {},
     "output_type": "execute_result"
    }
   ],
   "source": [
    "del data\n",
    "del model\n",
    "gc.collect()"
   ]
  },
  {
   "cell_type": "code",
   "execution_count": 26,
   "metadata": {},
   "outputs": [
    {
     "name": "stderr",
     "output_type": "stream",
     "text": [
      "INFO:lda:n_documents: 433375\n",
      "INFO:lda:vocab_size: 7000\n",
      "INFO:lda:n_words: 8566214\n",
      "INFO:lda:n_topics: 15\n",
      "INFO:lda:n_iter: 100\n",
      "WARNING:lda:all zero row in document-term matrix found\n",
      "INFO:lda:<0> log likelihood: -96644145\n",
      "INFO:lda:<20> log likelihood: -66586691\n",
      "INFO:lda:<40> log likelihood: -64838946\n",
      "INFO:lda:<60> log likelihood: -64295892\n",
      "INFO:lda:<80> log likelihood: -64026960\n",
      "INFO:lda:<99> log likelihood: -63837612\n"
     ]
    },
    {
     "data": {
      "text/plain": [
       "<lda.guidedlda.GuidedLDA at 0x23cfd68fd68>"
      ]
     },
     "execution_count": 26,
     "metadata": {},
     "output_type": "execute_result"
    }
   ],
   "source": [
    "# fit a guided LDA\n",
    "model = glda.GuidedLDA(n_topics=15, n_iter=100, random_state=0, refresh=20)\n",
    "model.fit(X_counts, seed_topics=seed_topics, seed_confidence=0.15)"
   ]
  },
  {
   "cell_type": "code",
   "execution_count": 27,
   "metadata": {
    "scrolled": true
   },
   "outputs": [],
   "source": [
    "topic_word = model.topic_word_"
   ]
  },
  {
   "cell_type": "code",
   "execution_count": 29,
   "metadata": {},
   "outputs": [
    {
     "data": {
      "text/plain": [
       "(15, 7000)"
      ]
     },
     "execution_count": 29,
     "metadata": {},
     "output_type": "execute_result"
    }
   ],
   "source": [
    "topic_word.shape"
   ]
  },
  {
   "cell_type": "code",
   "execution_count": 30,
   "metadata": {},
   "outputs": [],
   "source": [
    "id2word = {}\n",
    "for w, n in word2id.items():\n",
    "    id2word[n] = w"
   ]
  },
  {
   "cell_type": "code",
   "execution_count": 59,
   "metadata": {},
   "outputs": [
    {
     "name": "stderr",
     "output_type": "stream",
     "text": [
      "WARNING:lda:all zero row in document-term matrix found\n"
     ]
    }
   ],
   "source": [
    "doc_topic = model.transform(X_counts)"
   ]
  },
  {
   "cell_type": "code",
   "execution_count": 73,
   "metadata": {},
   "outputs": [
    {
     "data": {
      "text/plain": [
       "(433375, 15)"
      ]
     },
     "execution_count": 73,
     "metadata": {},
     "output_type": "execute_result"
    }
   ],
   "source": [
    "doc_topic.shape"
   ]
  },
  {
   "cell_type": "markdown",
   "metadata": {},
   "source": [
    "### Create features only considering special words"
   ]
  },
  {
   "cell_type": "code",
   "execution_count": 165,
   "metadata": {},
   "outputs": [],
   "source": [
    "wordsort = np.argsort(topic_word,axis=1) # sorted by probability of word in each cluster"
   ]
  },
  {
   "cell_type": "code",
   "execution_count": 166,
   "metadata": {},
   "outputs": [],
   "source": [
    "wordsort_t500 = wordsort[:,6500:] # select the top 500 word in each cluster"
   ]
  },
  {
   "cell_type": "code",
   "execution_count": 167,
   "metadata": {},
   "outputs": [],
   "source": [
    "unique_id,id_count=np.unique(wordsort_t500,return_counts=True) # return the word id and total number of times it appears"
   ]
  },
  {
   "cell_type": "code",
   "execution_count": 176,
   "metadata": {},
   "outputs": [],
   "source": [
    "# pan word: word that appears in diffrent topics' top 500\n",
    "# special word: word that only appears at most 2 topics' top 500\n",
    "\n",
    "special_word = []\n",
    "for w,n in dict(zip(unique_id,id_count)).items():\n",
    "    if n<=2:\n",
    "        special_word.append(w)"
   ]
  },
  {
   "cell_type": "code",
   "execution_count": 177,
   "metadata": {},
   "outputs": [
    {
     "name": "stdout",
     "output_type": "stream",
     "text": [
      "['modding', 'singleplayer', 'openiv', 'modders', 'grand', 'theft', 'shark', 'heists', 'cards', 'iv', 'heist', 'campaign', 'city', 'kappa', 'san']\n",
      "['modding', 'openiv', 'shark', 'cards', 'singleplayer', 'modders', 'de', 'https', 'que', 'www', 'micro', 'machine', 'greene', 'brendan', 'gamefailed']\n",
      "['average', 'network', 'mw', 'potato', 'gtx', 'gb', 'medium', 'minimum', 'busy', 'masterpiece', 'nasa', 'frame', 'optimize', 'esports', 'dark']\n",
      "['region', 'cheater', 'hacks', 'lock', 'hack', 'english', 'cheats', 'report', 'asian', 'aimbot', 'streamers', 'stream', 'speak', 'fu', 'ruining']\n",
      "['gb', 'gtx', 'ram', 'port', 'mouse', 'specs', 'cpu', 'laptop', 'ti', 'gpu', 'windows', 'amd', 'ultra', 'nvidia', 'lowest']\n",
      "['platform', 'riot', 'fifa', 'lovers', 'famous', 'awsome', 'streaming', 'streamer', 'justice', 'epic', 'entertaining', 'teenagers', 'kai', 'protest', 'repeated']\n",
      "['gt', 'monster', 'hunter', 'monsters', 'mh', 'capcom', 'mouse', 'hunt', 'port', 'quest', 'previous', 'hunting', 'quests', 'design', 'fighting']\n",
      "['regionlockchina', 'gt', 'nc', 'men', 'de', 'bear', 'da', 'dude', 'dis', 'lit', 'beach', 'gaem', 'ign', 'gay', 'ya']\n",
      "['awsome', 'epic', 'powered', 'paced', 'fifa', 'err', 'realy', 'greatest', 'favourite', 'entertaining', 'sport', 'hockey', 'rockets', 'verry', 'likes']\n",
      "['notmygta', 'kip', 'wasted', 'plz', 'absolute', 'nightcity', 'busy', 'gay', 'failed', 'pile', 'crashed', 'hrs', 'lagggslaggg', 'vroom', 'cuz']\n",
      "['perks', 'development', 'changes', 'balance', 'patches', 'battlegrounds', 'balanced', 'continue', 'forward', 'avoid', 'generators', 'cosmetics', 'title', 'weekly', 'flaws']\n",
      "['winner', 'salt', 'pan', 'water', 'rekt', 'cup', 'repeat', 'dab', 'wipe', 'gang', 'raiding', 'dough', 'sight', 'sugar', 'eat']\n",
      "['neko', 'perks', 'gamedo', 'lets', 'ranking', 'macplease', 'snapgrounds', 'ranks', 'higher', 'balance', 'nerf', 'season', 'bowling', 'levels', 'balanced']\n",
      "['lock', 'region', 'enemy', 'vehicle', 'chinaregion', 'cover', 'rng', 'bullet', 'duo', 'battlegrounds', 'air', 'third', 'range', 'round', 'field']\n",
      "['raiding', 'bases', 'sight', 'zombies', 'wipe', 'camp', 'finding', 'safe', 'starting', 'pve', 'doors', 'materials', 'enemy', 'trees', 'groups']\n"
     ]
    }
   ],
   "source": [
    "for i in range(15):\n",
    "    top15_word = []\n",
    "    present=0\n",
    "    j=-1\n",
    "    while present<15:\n",
    "        wordid = list(wordsort_t500[i])[j]\n",
    "        j = j-1\n",
    "        if wordid in special_word:\n",
    "            top15_word.append(id2word[wordid])\n",
    "            present = present+1\n",
    "    print(top15_word)"
   ]
  },
  {
   "cell_type": "code",
   "execution_count": 178,
   "metadata": {},
   "outputs": [
    {
     "data": {
      "text/plain": [
       "937"
      ]
     },
     "execution_count": 178,
     "metadata": {},
     "output_type": "execute_result"
    }
   ],
   "source": [
    "len(special_word)"
   ]
  },
  {
   "cell_type": "code",
   "execution_count": 184,
   "metadata": {},
   "outputs": [],
   "source": [
    "special_word_location =[]  #store (cluster, word_id), which represent the location in topic_word\n",
    "\n",
    "for wordid in special_word:\n",
    "    for clusterid in np.argwhere(wordsort_t500==wordid)[:,0]:\n",
    "        special_word_location.append((clusterid,wordid))"
   ]
  },
  {
   "cell_type": "code",
   "execution_count": 197,
   "metadata": {},
   "outputs": [],
   "source": [
    "new_topic_word1 = np.zeros(topic_word.shape)  # store probability\n",
    "new_topic_word2 = np.zeros(topic_word.shape)  # store 0 or 1"
   ]
  },
  {
   "cell_type": "code",
   "execution_count": 198,
   "metadata": {},
   "outputs": [],
   "source": [
    "for location in special_word_location:\n",
    "    new_topic_word1[location[0], location[1]] = topic_word[location[0], location[1]]\n",
    "    new_topic_word2[location[0], location[1]] = 1"
   ]
  },
  {
   "cell_type": "code",
   "execution_count": 200,
   "metadata": {},
   "outputs": [],
   "source": [
    "new_topic_word1 = new_topic_word1/np.sum(new_topic_word1,axis=1).reshape((15,1))"
   ]
  },
  {
   "cell_type": "code",
   "execution_count": 202,
   "metadata": {},
   "outputs": [
    {
     "name": "stderr",
     "output_type": "stream",
     "text": [
      "C:\\Users\\alanl\\Anaconda3\\lib\\site-packages\\ipykernel_launcher.py:1: RuntimeWarning: invalid value encountered in true_divide\n",
      "  \"\"\"Entry point for launching an IPython kernel.\n"
     ]
    }
   ],
   "source": [
    "doc_topic_enhance = (X_counts.dot(new_topic_word1.T)) / (X_counts.dot(new_topic_word2.T))"
   ]
  },
  {
   "cell_type": "code",
   "execution_count": 208,
   "metadata": {},
   "outputs": [],
   "source": [
    "doc_topic_enhance[np.isnan(doc_topic_enhance)] = 0 "
   ]
  },
  {
   "cell_type": "code",
   "execution_count": 211,
   "metadata": {},
   "outputs": [],
   "source": [
    "alldata = pd.read_csv('steam_reviews.csv')\n",
    "SentimentData=['review','recommendation']\n",
    "data=alldata[SentimentData]\n",
    "data=data.dropna(subset=['review'])\n",
    "del alldata\n",
    "gc.collect()\n",
    "data.recommendation[data.recommendation=='Recommended']=1\n",
    "data.recommendation[data.recommendation=='Not Recommended']=0"
   ]
  },
  {
   "cell_type": "code",
   "execution_count": 215,
   "metadata": {},
   "outputs": [],
   "source": [
    "lda_set = data[['recommendation']].copy()"
   ]
  },
  {
   "cell_type": "code",
   "execution_count": 216,
   "metadata": {},
   "outputs": [],
   "source": [
    "for i in range(15):\n",
    "    lda_set['t'+str(i)+'_enhance'] = doc_topic_enhance[:,i]\n",
    "    lda_set['t'+str(i)] =doc_topic[:,i]"
   ]
  },
  {
   "cell_type": "code",
   "execution_count": 218,
   "metadata": {},
   "outputs": [],
   "source": [
    "# save the dataset with LDA features and labels\n",
    "lda_set.to_csv('lda_set.csv',index=False)"
   ]
  },
  {
   "cell_type": "code",
   "execution_count": 212,
   "metadata": {},
   "outputs": [],
   "source": [
    "# save the fitted LDA models\n",
    "\n",
    "from six.moves import cPickle as pickle\n",
    "\n",
    "with open('guidedlda_model.pickle', 'wb') as file_handle:\n",
    "    pickle.dump(model, file_handle)"
   ]
  }
 ],
 "metadata": {
  "colab": {
   "collapsed_sections": [],
   "name": "HW1_CSE_6240_template.ipynb",
   "provenance": []
  },
  "kernelspec": {
   "display_name": "Python 3",
   "language": "python",
   "name": "python3"
  },
  "language_info": {
   "codemirror_mode": {
    "name": "ipython",
    "version": 3
   },
   "file_extension": ".py",
   "mimetype": "text/x-python",
   "name": "python",
   "nbconvert_exporter": "python",
   "pygments_lexer": "ipython3",
   "version": "3.7.3"
  }
 },
 "nbformat": 4,
 "nbformat_minor": 1
}
